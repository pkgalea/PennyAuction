{
 "cells": [
  {
   "cell_type": "code",
   "execution_count": 91,
   "metadata": {},
   "outputs": [],
   "source": [
    "\n",
    "import psycopg2 as pg2\n",
    "import pandas as pd\n",
    "import matplotlib.pyplot as plt\n",
    "import numpy as np\n",
    "import pickle\n",
    "from datetime import datetime, date, timedelta\n",
    "import importlib\n",
    "from  BidTrackerScraper import BidTrackerScraper\n",
    "from bs4 import BeautifulSoup\n",
    "import pymongo\n",
    "\n"
   ]
  },
  {
   "cell_type": "code",
   "execution_count": 88,
   "metadata": {},
   "outputs": [
    {
     "name": "stdout",
     "output_type": "stream",
     "text": [
      "Connecting to SQL\n",
      "Reading Dataset\n"
     ]
    }
   ],
   "source": [
    "print (\"Connecting to SQL\")\n",
    "conn = pg2.connect(user='postgres',  dbname='penny', host='localhost', port='5432', password='password')\n",
    "\n",
    "print (\"Reading Dataset\")\n",
    "df = pd.read_sql (\"Select username, count(*) from bids group by username order by count(*) desc\", conn)\n"
   ]
  },
  {
   "cell_type": "code",
   "execution_count": 92,
   "metadata": {},
   "outputs": [],
   "source": [
    "myclient = pymongo.MongoClient(\"mongodb://localhost:27017/\")\n",
    "db = myclient[\"penny\"]\n",
    "pages_collection = db[\"pages\"]\n"
   ]
  },
  {
   "cell_type": "code",
   "execution_count": 28,
   "metadata": {},
   "outputs": [
    {
     "data": {
      "text/html": [
       "<div>\n",
       "<style scoped>\n",
       "    .dataframe tbody tr th:only-of-type {\n",
       "        vertical-align: middle;\n",
       "    }\n",
       "\n",
       "    .dataframe tbody tr th {\n",
       "        vertical-align: top;\n",
       "    }\n",
       "\n",
       "    .dataframe thead th {\n",
       "        text-align: right;\n",
       "    }\n",
       "</style>\n",
       "<table border=\"1\" class=\"dataframe\">\n",
       "  <thead>\n",
       "    <tr style=\"text-align: right;\">\n",
       "      <th></th>\n",
       "      <th>qauctionid</th>\n",
       "    </tr>\n",
       "  </thead>\n",
       "  <tbody>\n",
       "    <tr>\n",
       "      <th>0</th>\n",
       "      <td>155435135</td>\n",
       "    </tr>\n",
       "    <tr>\n",
       "      <th>1</th>\n",
       "      <td>100231273</td>\n",
       "    </tr>\n",
       "    <tr>\n",
       "      <th>2</th>\n",
       "      <td>100275412</td>\n",
       "    </tr>\n",
       "    <tr>\n",
       "      <th>3</th>\n",
       "      <td>100325481</td>\n",
       "    </tr>\n",
       "    <tr>\n",
       "      <th>4</th>\n",
       "      <td>292999047</td>\n",
       "    </tr>\n",
       "    <tr>\n",
       "      <th>...</th>\n",
       "      <td>...</td>\n",
       "    </tr>\n",
       "    <tr>\n",
       "      <th>27883</th>\n",
       "      <td>997852448</td>\n",
       "    </tr>\n",
       "    <tr>\n",
       "      <th>27884</th>\n",
       "      <td>998330005</td>\n",
       "    </tr>\n",
       "    <tr>\n",
       "      <th>27885</th>\n",
       "      <td>999003949</td>\n",
       "    </tr>\n",
       "    <tr>\n",
       "      <th>27886</th>\n",
       "      <td>999286635</td>\n",
       "    </tr>\n",
       "    <tr>\n",
       "      <th>27887</th>\n",
       "      <td>999793886</td>\n",
       "    </tr>\n",
       "  </tbody>\n",
       "</table>\n",
       "<p>27888 rows × 1 columns</p>\n",
       "</div>"
      ],
      "text/plain": [
       "       qauctionid\n",
       "0       155435135\n",
       "1       100231273\n",
       "2       100275412\n",
       "3       100325481\n",
       "4       292999047\n",
       "...           ...\n",
       "27883   997852448\n",
       "27884   998330005\n",
       "27885   999003949\n",
       "27886   999286635\n",
       "27887   999793886\n",
       "\n",
       "[27888 rows x 1 columns]"
      ]
     },
     "execution_count": 28,
     "metadata": {},
     "output_type": "execute_result"
    }
   ],
   "source": [
    "auction_ids"
   ]
  },
  {
   "cell_type": "code",
   "execution_count": 3,
   "metadata": {},
   "outputs": [
    {
     "name": "stdout",
     "output_type": "stream",
     "text": [
      "200\n",
      "200\n"
     ]
    }
   ],
   "source": [
    "bts = BidTrackerScraper()\n",
    "bts.login(3)"
   ]
  },
  {
   "cell_type": "code",
   "execution_count": 127,
   "metadata": {},
   "outputs": [
    {
     "name": "stdout",
     "output_type": "stream",
     "text": [
      "BidsWins2016\n"
     ]
    },
    {
     "name": "stderr",
     "output_type": "stream",
     "text": [
      "/home/ubuntu/anaconda3/lib/python3.6/site-packages/ipykernel_launcher.py:31: DeprecationWarning: count is deprecated. Use Collection.count_documents instead.\n"
     ]
    },
    {
     "name": "stdout",
     "output_type": "stream",
     "text": [
      "533116901 Bust One - Limit Buster! AND 30 Bids Feb-18-20\n",
      "983581281 Bust One - Limit Buster! AND 30 Bids Feb-17-20\n",
      "676765057 Bust One - Limit Buster! AND 30 Bids Feb-14-20\n",
      "124248401 Bust One - Limit Buster! AND 30 Bids Feb-10-20\n",
      "474444017 Bust One - Limit Buster! AND 30 Bids Feb-09-20\n",
      "355442303 LBust One - Limit Buster! AND 30 Bids Feb-09-20\n",
      "839276864  106%Bust One - Limit Buster! AND 30 Bids Feb-08-20\n",
      "988485429 LBust One - Limit Buster! AND 30 Bids Feb-08-20\n",
      "544404508  103%LBust One - Limit Buster! AND 30 Bids Feb-07-20\n",
      "296481536  97%Bust One - Limit Buster! AND 30 Bids Feb-06-20\n",
      "532843042 Bust One - Limit Buster! AND 30 Bids Feb-05-20\n",
      "270450815 LBust One - Limit Buster! AND 30 Bids Feb-05-20\n",
      "851201278  63%LBust One - Limit Buster! AND 30 Bids Feb-03-20\n",
      "940772653  106%Bust One - Limit Buster! AND 30 Bids Jan-31-20\n",
      "597158182  100%LBust One - Limit Buster! AND 30 Bids Jan-31-20\n",
      "366841779  166%Bust One - Limit Buster! AND 30 Bids Jan-30-20\n",
      "184200639  83%Bust One - Limit Buster! AND 30 Bids Jan-29-20\n",
      "382628176 Bust One - Limit Buster! AND 30 Bids Jan-29-20\n",
      "449678595 L$75 Amazon Gift Card AND 10 Bids Jan-29-20\n",
      "512105125 L$75 Amazon Gift Card AND 10 Bids Jan-28-20\n",
      "606620744  75%Bust One - Limit Buster! AND 30 Bids Jan-28-20\n",
      "752612719 L$75 Amazon Gift Card AND 10 Bids Jan-28-20\n",
      "593677609  136%L$75 Amazon Gift Card Jan-28-20\n",
      "339414798 Bust One - Limit Buster! AND 30 Bids Jan-27-20\n",
      "194837822 LBust One - Limit Buster! AND 30 Bids Jan-27-20\n",
      "218894842 Bust One - Limit Buster! AND 30 Bids Jan-27-20\n",
      "925148863 Bust One - Limit Buster! AND 30 Bids Jan-25-20\n",
      "307138657 Bust One - Limit Buster! AND 30 Bids Jan-25-20\n",
      "466192412 Bust One - Limit Buster! AND 30 Bids Jan-24-20\n",
      "835745094  47%Bust One - Limit Buster! AND 30 Bids Jan-23-20\n",
      "770740996 Bust One - Limit Buster! AND 30 Bids Jan-23-20\n",
      "726761570 Bust One - Limit Buster! AND 30 Bids Jan-22-20\n",
      "567247076  54%L25 Voucher Bids Jan-15-20\n",
      "591546427  117%L25 Voucher Bids Jan-15-20\n",
      "354380577 L$75 Amazon Gift Card AND 20 Bids Jan-15-20\n",
      "280073632 50 Voucher Bids Jan-15-20\n",
      "615433534 L$100 Amazon Gift Card AND 20 Bids Jan-15-20\n",
      "684837146 L50 Voucher Bids Jan-15-20\n",
      "179674512 Bust One - Limit Buster! AND 30 Bids Jan-14-20\n",
      "219836412 L50 Voucher Bids Jan-14-20\n",
      "161993120 25 Voucher Bids Jan-14-20\n",
      "808117040 L50 Voucher Bids Jan-14-20\n",
      "635635884 LBust One - Limit Buster! AND 30 Bids Jan-14-20\n",
      "683882610  106%L25 Voucher Bids Jan-14-20\n",
      "563907552 50 Voucher Bids Jan-14-20\n",
      "714602623  150%L15 Voucher Bids Jan-14-20\n",
      "771828137 L50 Voucher Bids Jan-14-20\n",
      "535035673 50 Voucher Bids Jan-14-20\n",
      "962910426  111%L50 Voucher Bids Jan-14-20\n",
      "278736286  100%L50 Voucher Bids Jan-14-20\n",
      "775171186  60%L50 Voucher Bids Jan-14-20\n",
      "354705226  129%L15 Voucher Bids Jan-14-20\n",
      "422036982  104%50 Voucher Bids Jan-14-20\n",
      "529307087 L$100 Amazon Gift Card AND 20 Bids Jan-14-20\n",
      "612968862 50 Voucher Bids Jan-14-20\n",
      "725550879  52%L50 Voucher Bids Jan-13-20\n",
      "340051294 L50 Voucher Bids Jan-13-20\n",
      "413680030  49%$50 Home Depot Gift Card AND 20 Bids Jan-13-20\n",
      "161211809  70%L25 Voucher Bids Jan-13-20\n",
      "964070126  305%50 Voucher Bids Jan-13-20\n",
      "216477367  752%50 Voucher Bids Jan-13-20\n",
      "161541394 25 Voucher Bids Jan-12-20\n",
      "587132022  94%50 Voucher Bids Jan-12-20\n",
      "282365369 L50 Voucher Bids Jan-12-20\n",
      "286485368 50 Voucher Bids Jan-12-20\n",
      "632726924 Bust One - Limit Buster! AND 30 Bids Jan-12-20\n",
      "935697655  96%25 Voucher Bids Jan-12-20\n",
      "514645601 50 Voucher Bids Jan-12-20\n",
      "667817053 L$100 Amazon Gift Card AND 20 Bids Jan-12-20\n",
      "317242431 Bust One - Limit Buster! AND 30 Bids Jan-11-20\n",
      "862044816 L50 Voucher Bids Jan-11-20\n",
      "305456933 50 Voucher Bids Jan-11-20\n",
      "830893785 L25 Voucher Bids Jan-11-20\n",
      "777069282  390%L50 Voucher Bids Jan-11-20\n",
      "337044647 50 Voucher Bids Jan-11-20\n",
      "540419562 50 Voucher Bids Jan-11-20\n",
      "937033818  109%L50 Voucher Bids Jan-11-20\n",
      "420111259 L50 Voucher Bids Jan-11-20\n",
      "386106050 50 Voucher Bids Jan-11-20\n",
      "624922475  209%L50 Voucher Bids Jan-11-20\n",
      "669417301  111%50 Voucher Bids Jan-11-20\n",
      "377797458  104%50 Voucher Bids Jan-11-20\n",
      "881245363 L$100 Amazon Gift Card AND 20 Bids Jan-11-20\n",
      "369773560  102%L50 Voucher Bids Jan-10-20\n",
      "140898956 50 Voucher Bids Jan-10-20\n",
      "311368961 L50 Voucher Bids Jan-10-20\n",
      "163097730  102%L50 Voucher Bids Jan-10-20\n",
      "751142508  49%50 Voucher Bids Jan-10-20\n",
      "199907840 50 Voucher Bids Jan-10-20\n",
      "217081026 L50 Voucher Bids Jan-10-20\n",
      "902741810  98%50 Voucher Bids Jan-10-20\n",
      "793823979  100%25 Voucher Bids Jan-10-20\n",
      "168046885  102%L50 Voucher Bids Jan-10-20\n",
      "781362685 50 Voucher Bids Jan-10-20\n",
      "700030617 50 Voucher Bids Jan-10-20\n",
      "789152927 L50 Voucher Bids Jan-10-20\n",
      "945089894  111%L50 Voucher Bids Jan-10-20\n",
      "688896716  85%50 Voucher Bids Jan-10-20\n",
      "811306454 L50 Voucher Bids Jan-10-20\n",
      "821329561  85%50 Voucher Bids Jan-09-20\n",
      "804803285  122%25 Voucher Bids Jan-09-20\n",
      "841809308  88%50 Voucher Bids Jan-09-20\n",
      "140919047 L50 Voucher Bids Jan-09-20\n",
      "831020901 50 Voucher Bids Jan-09-20\n",
      "491669453  307%L50 Voucher Bids Jan-09-20\n",
      "157228743 L$75 Amazon Gift Card AND 20 Bids Jan-09-20\n",
      "729705541 50 Voucher Bids Jan-09-20\n",
      "346155714  58%L$100 Amazon Gift Card AND 20 Bids Jan-09-20\n",
      "774968330 50 Voucher Bids Jan-09-20\n",
      "681073209 50 Voucher Bids Jan-08-20\n",
      "201604242  98%50 Voucher Bids Jan-08-20\n",
      "425715223  48%L$50 Home Depot Gift Card AND 20 Bids Jan-08-20\n",
      "754438162  121%50 Voucher Bids Jan-08-20\n",
      "626183774  109%50 Voucher Bids Jan-08-20\n",
      "831247583 $50 Home Depot Gift Card AND 20 Bids Jan-08-20\n",
      "889956400 L50 Voucher Bids Jan-08-20\n",
      "774662623 50 Voucher Bids Jan-08-20\n",
      "784184929  111%L50 Voucher Bids Jan-08-20\n",
      "357563933  77%50 Voucher Bids Jan-08-20\n",
      "146891600 50 Voucher Bids Jan-08-20\n",
      "819991570 L$75 Amazon Gift Card AND 20 Bids Jan-08-20\n",
      "364817399 L$100 Amazon Gift Card AND 20 Bids Jan-08-20\n",
      "891424507  54%L25 Voucher Bids Jan-07-20\n",
      "973371491  62%25 Voucher Bids Jan-07-20\n",
      "147919487 50 Voucher Bids Jan-07-20\n",
      "154952355 L25 Voucher Bids Jan-07-20\n",
      "868912785  96%25 Voucher Bids Jan-07-20\n",
      "535596790 L50 Voucher Bids Jan-07-20\n",
      "880203181 L50 Voucher Bids Jan-07-20\n",
      "710508169 L$75 Amazon Gift Card AND 20 Bids Jan-07-20\n",
      "849985519  104%L25 Voucher Bids Jan-07-20\n",
      "247681114  98%L50 Voucher Bids Jan-06-20\n",
      "319362537 50 Voucher Bids Jan-06-20\n",
      "823086670  53%L50 Voucher Bids Jan-06-20\n",
      "730214181  143%L25 Voucher Bids Jan-06-20\n",
      "680784568 50 Voucher Bids Jan-06-20\n",
      "774707706 Bust One - Limit Buster! AND 30 Bids Jan-06-20\n",
      "860719339 L$75 Amazon Gift Card AND 20 Bids Jan-06-20\n",
      "263195412  109%50 Voucher Bids Jan-05-20\n",
      "297327665  104%L50 Voucher Bids Jan-05-20\n",
      "749525997  109%50 Voucher Bids Jan-05-20\n",
      "604639350  96%25 Voucher Bids Jan-05-20\n",
      "281624386  100%50 Voucher Bids Jan-05-20\n",
      "393352417  96%L25 Voucher Bids Jan-05-20\n",
      "558806642 25 Voucher Bids Jan-05-20\n",
      "300542096  193%L50 Voucher Bids Jan-05-20\n",
      "139898059 L25 Voucher Bids Jan-05-20\n",
      "928435746  96%25 Voucher Bids Jan-05-20\n",
      "568601964  106%50 Voucher Bids Jan-04-20\n",
      "930579217 L50 Voucher Bids Jan-04-20\n",
      "410762717 50 Voucher Bids Jan-04-20\n",
      "237214949  111%L50 Voucher Bids Jan-04-20\n",
      "603497731 50 Voucher Bids Jan-04-20\n",
      "163688054 L50 Voucher Bids Jan-04-20\n",
      "903035108  108%L25 Voucher Bids Jan-04-20\n",
      "903017229  109%50 Voucher Bids Jan-04-20\n",
      "839796653  117%25 Voucher Bids Jan-04-20\n",
      "535149897 50 Voucher Bids Jan-04-20\n",
      "373410491  503%L50 Voucher Bids Jan-04-20\n",
      "452791337 L50 Voucher Bids Jan-04-20\n",
      "400390799  176%50 Voucher Bids Jan-04-20\n",
      "255165462  85%50 Voucher Bids Jan-04-20\n",
      "465984966 50 Voucher Bids Jan-04-20\n",
      "614525115  85%50 Voucher Bids Jan-04-20\n",
      "106808708  79%25 Voucher Bids Jan-04-20\n",
      "298351755 L$50 Home Depot Gift Card AND 20 Bids Jan-04-20\n",
      "321851186  106%L$100 Amazon Gift Card AND 20 Bids Jan-04-20\n",
      "284098200 L50 Voucher Bids Jan-03-20\n",
      "106828703 25 Voucher Bids Jan-03-20\n",
      "173614566  98%50 Voucher Bids Jan-03-20\n",
      "371402826 50 Voucher Bids Jan-03-20\n",
      "823284585  100%L50 Voucher Bids Jan-03-20\n",
      "177883123 50 Voucher Bids Jan-03-20\n",
      "453521896 50 Voucher Bids Jan-03-20\n",
      "937579719  109%25 Voucher Bids Jan-02-20\n",
      "288198585 50 Voucher Bids Jan-02-20\n",
      "320120214 L50 Voucher Bids Jan-02-20\n",
      "892132130 L50 Voucher Bids Jan-01-20\n",
      "205541490  53%50 Voucher Bids Jan-01-20\n",
      "354713621 L50 Voucher Bids Jan-01-20\n",
      "387355207 50 Voucher Bids Jan-01-20\n",
      "751598871  106%L50 Voucher Bids Jan-01-20\n"
     ]
    }
   ],
   "source": [
    "\n",
    "for username in df.username:\n",
    "    print (username)\n",
    "    url = \"http://www.bidtracker.info/UserAuctions?site=quibids&user=\"+username\n",
    "    r = bts._session.get(url)\n",
    "    soup = BeautifulSoup(r.text, 'html.parser')\n",
    "    rows = soup.findAll(\"tr\", {\"class\": {\"tr-winner\",\"tr-ended\"}})\n",
    "    for r in rows:\n",
    "        tds = r.findAll(\"td\", {\"class\": \"td-inner\"})\n",
    "        auction_id = tds[0].text\n",
    "        title = tds[1].text\n",
    "        if not (\"Gift Card\" in title or \"Buster\" in title or \"Voucher\" in title):\n",
    "            continue\n",
    "        if \"$10 \" in title:\n",
    "            continue\n",
    "        if \"$15 \" in title:\n",
    "            continue\n",
    "#        if \"$75 Amazon Gift Card AND 10 Bids\" in title:\n",
    "#            continue\n",
    "#        if \"$100 Amazon Gift Card AND 20 Bids\" in title:\n",
    "#            continue\n",
    "#        if \"$75 Amazon Gift Card AND 20 Bids\" in title:\n",
    "#            continue\n",
    "        cashvalue = tds[2].text\n",
    "        datestr = tds[8].text\n",
    "        datestr = datestr.split(\" \")[0]\n",
    "        if (len(datestr)==6):\n",
    "            datestr += \"-20\"\n",
    "        date = datetime.strptime(datestr, \"%b-%d-%y\")\n",
    "        if (datetime.now()-date).days > 1 and date >= datetime(2020, 1, 1):\n",
    "            #print (auction_id, int(auction_id) in set(auction_ids.qauctionid), date, title)\n",
    "            item_found = pages_collection.find({\"_id\": auction_id},{\"_id\": 1}).count() > 0\n",
    "            if (not item_found):\n",
    "                print(auction_id,title, datestr)\n",
    "    break"
   ]
  },
  {
   "cell_type": "code",
   "execution_count": 68,
   "metadata": {},
   "outputs": [
    {
     "data": {
      "text/plain": [
       "False"
      ]
     },
     "execution_count": 68,
     "metadata": {},
     "output_type": "execute_result"
    }
   ],
   "source": [
    "int(\"155435135\") in auction_ids.qauctionid"
   ]
  },
  {
   "cell_type": "code",
   "execution_count": 70,
   "metadata": {},
   "outputs": [
    {
     "data": {
      "text/plain": [
       "True"
      ]
     },
     "execution_count": 70,
     "metadata": {},
     "output_type": "execute_result"
    }
   ],
   "source": [
    "auction_ids.qauctionid[0] == 155435135"
   ]
  },
  {
   "cell_type": "code",
   "execution_count": 73,
   "metadata": {},
   "outputs": [
    {
     "data": {
      "text/plain": [
       "False"
      ]
     },
     "execution_count": 73,
     "metadata": {},
     "output_type": "execute_result"
    }
   ],
   "source": [
    "155435135 in pd.Series(auction_ids.qauctionid)"
   ]
  },
  {
   "cell_type": "code",
   "execution_count": 83,
   "metadata": {},
   "outputs": [
    {
     "data": {
      "text/plain": [
       "True"
      ]
     },
     "execution_count": 83,
     "metadata": {},
     "output_type": "execute_result"
    }
   ],
   "source": [
    "155435135 in set(auction_ids.qauctionid)"
   ]
  },
  {
   "cell_type": "code",
   "execution_count": null,
   "metadata": {},
   "outputs": [],
   "source": []
  }
 ],
 "metadata": {
  "kernelspec": {
   "display_name": "Python 3",
   "language": "python",
   "name": "python3"
  },
  "language_info": {
   "codemirror_mode": {
    "name": "ipython",
    "version": 3
   },
   "file_extension": ".py",
   "mimetype": "text/x-python",
   "name": "python",
   "nbconvert_exporter": "python",
   "pygments_lexer": "ipython3",
   "version": "3.6.10"
  }
 },
 "nbformat": 4,
 "nbformat_minor": 4
}
