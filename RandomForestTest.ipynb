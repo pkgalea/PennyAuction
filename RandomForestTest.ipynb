{
 "cells": [
  {
   "cell_type": "code",
   "execution_count": 151,
   "metadata": {},
   "outputs": [],
   "source": [
    "import pandas as pd\n",
    "import psycopg2 as pg2\n",
    "import matplotlib.pyplot as plt\n",
    "plt.style.use('ggplot')\n",
    "from sklearn.tree import DecisionTreeClassifier\n",
    "from sklearn.ensemble import RandomForestClassifier, GradientBoostingClassifier\n",
    "from pandas.plotting import scatter_matrix\n",
    "from sklearn.model_selection import train_test_split, GridSearchCV\n",
    "from sklearn.pipeline import Pipeline\n",
    "from sklearn.metrics import confusion_matrix, precision_score, recall_score, accuracy_score, roc_curve\n",
    "from sklearn.preprocessing import OneHotEncoder,StandardScaler\n",
    "from sklearn.impute import SimpleImputer\n",
    "from sklearn.compose import ColumnTransformer\n",
    "from imblearn.under_sampling import RandomUnderSampler\n",
    "import numpy as np\n",
    "\n"
   ]
  },
  {
   "cell_type": "code",
   "execution_count": 175,
   "metadata": {},
   "outputs": [],
   "source": [
    "conn = pg2.connect(user='postgres',  dbname='penny', host='localhost', port='5432', password='password')\n",
    "df = pd.read_sql (\"\"\"Select * from auction_full WHERE bid > 10\"\"\", conn)\n",
    "df_backup = df.copy()"
   ]
  },
  {
   "cell_type": "code",
   "execution_count": 176,
   "metadata": {},
   "outputs": [],
   "source": [
    "df = df_backup.copy()"
   ]
  },
  {
   "cell_type": "code",
   "execution_count": 177,
   "metadata": {},
   "outputs": [],
   "source": [
    "df.is_bidomatic0 = df.is_bidomatic0.astype(str)\n",
    "df.is_bidomatic1 = df.is_bidomatic1.astype(str)\n",
    "df.is_bidomatic2 = df.is_bidomatic2.astype(str)\n",
    "df.is_bidomatic3 = df.is_bidomatic3.astype(str)\n",
    "df[\"percent_near_bin0\"] = df[\"bids_so_far0\"]/(df[\"cashvalue\"]*2.5)\n",
    "df[\"percent_near_bin1\"] = df[\"bids_so_far1\"]/(df[\"cashvalue\"]*2.5)\n",
    "df[\"percent_near_bin2\"] = df[\"bids_so_far2\"]/(df[\"cashvalue\"]*2.5)\n",
    "df[\"percent_near_bin3\"] = df[\"bids_so_far3\"]/(df[\"cashvalue\"]*2.5)\n"
   ]
  },
  {
   "cell_type": "code",
   "execution_count": 178,
   "metadata": {},
   "outputs": [],
   "source": [
    "\n",
    "\n",
    "y = df.pop('is_winner')\n",
    "X = df\n",
    "X_train, X_test, y_train, y_test = train_test_split(X, y, random_state=0) \n"
   ]
  },
  {
   "cell_type": "code",
   "execution_count": 179,
   "metadata": {},
   "outputs": [
    {
     "data": {
      "text/html": [
       "<div>\n",
       "<style scoped>\n",
       "    .dataframe tbody tr th:only-of-type {\n",
       "        vertical-align: middle;\n",
       "    }\n",
       "\n",
       "    .dataframe tbody tr th {\n",
       "        vertical-align: top;\n",
       "    }\n",
       "\n",
       "    .dataframe thead th {\n",
       "        text-align: right;\n",
       "    }\n",
       "</style>\n",
       "<table border=\"1\" class=\"dataframe\">\n",
       "  <thead>\n",
       "    <tr style=\"text-align: right;\">\n",
       "      <th></th>\n",
       "      <th>auctionid</th>\n",
       "      <th>cardtype</th>\n",
       "      <th>cashvalue</th>\n",
       "      <th>cardvalue</th>\n",
       "      <th>bidvalue</th>\n",
       "      <th>limited_allowed</th>\n",
       "      <th>is_locked</th>\n",
       "      <th>auctiontime</th>\n",
       "      <th>bid</th>\n",
       "      <th>is_bidomatic</th>\n",
       "      <th>...</th>\n",
       "      <th>username3</th>\n",
       "      <th>distance3</th>\n",
       "      <th>is_bidomatic3</th>\n",
       "      <th>bids_so_far3</th>\n",
       "      <th>bom_bids_so_far3</th>\n",
       "      <th>streak3</th>\n",
       "      <th>percent_near_bin0</th>\n",
       "      <th>percent_near_bin1</th>\n",
       "      <th>percent_near_bin2</th>\n",
       "      <th>percent_near_bin3</th>\n",
       "    </tr>\n",
       "  </thead>\n",
       "  <tbody>\n",
       "    <tr>\n",
       "      <th>0</th>\n",
       "      <td>460772256</td>\n",
       "      <td>Amazon</td>\n",
       "      <td>87</td>\n",
       "      <td>75</td>\n",
       "      <td>30</td>\n",
       "      <td>True</td>\n",
       "      <td>True</td>\n",
       "      <td>2019-11-01 14:41:10</td>\n",
       "      <td>1655</td>\n",
       "      <td>False</td>\n",
       "      <td>...</td>\n",
       "      <td>fanbrother</td>\n",
       "      <td>386.0</td>\n",
       "      <td>False</td>\n",
       "      <td>41.0</td>\n",
       "      <td>8.0</td>\n",
       "      <td>3.0</td>\n",
       "      <td>0.891954</td>\n",
       "      <td>0.813793</td>\n",
       "      <td>0.570115</td>\n",
       "      <td>0.188506</td>\n",
       "    </tr>\n",
       "    <tr>\n",
       "      <th>1</th>\n",
       "      <td>460772256</td>\n",
       "      <td>Amazon</td>\n",
       "      <td>87</td>\n",
       "      <td>75</td>\n",
       "      <td>30</td>\n",
       "      <td>True</td>\n",
       "      <td>True</td>\n",
       "      <td>2019-11-01 14:41:10</td>\n",
       "      <td>1656</td>\n",
       "      <td>True</td>\n",
       "      <td>...</td>\n",
       "      <td>fanbrother</td>\n",
       "      <td>387.0</td>\n",
       "      <td>False</td>\n",
       "      <td>41.0</td>\n",
       "      <td>8.0</td>\n",
       "      <td>3.0</td>\n",
       "      <td>0.183908</td>\n",
       "      <td>0.813793</td>\n",
       "      <td>0.570115</td>\n",
       "      <td>0.188506</td>\n",
       "    </tr>\n",
       "    <tr>\n",
       "      <th>2</th>\n",
       "      <td>460772256</td>\n",
       "      <td>Amazon</td>\n",
       "      <td>87</td>\n",
       "      <td>75</td>\n",
       "      <td>30</td>\n",
       "      <td>True</td>\n",
       "      <td>True</td>\n",
       "      <td>2019-11-01 14:41:10</td>\n",
       "      <td>1657</td>\n",
       "      <td>False</td>\n",
       "      <td>...</td>\n",
       "      <td>fanbrother</td>\n",
       "      <td>388.0</td>\n",
       "      <td>False</td>\n",
       "      <td>41.0</td>\n",
       "      <td>8.0</td>\n",
       "      <td>3.0</td>\n",
       "      <td>0.896552</td>\n",
       "      <td>0.813793</td>\n",
       "      <td>0.570115</td>\n",
       "      <td>0.188506</td>\n",
       "    </tr>\n",
       "    <tr>\n",
       "      <th>3</th>\n",
       "      <td>460772256</td>\n",
       "      <td>Amazon</td>\n",
       "      <td>87</td>\n",
       "      <td>75</td>\n",
       "      <td>30</td>\n",
       "      <td>True</td>\n",
       "      <td>True</td>\n",
       "      <td>2019-11-01 14:41:10</td>\n",
       "      <td>1658</td>\n",
       "      <td>True</td>\n",
       "      <td>...</td>\n",
       "      <td>fanbrother</td>\n",
       "      <td>389.0</td>\n",
       "      <td>False</td>\n",
       "      <td>41.0</td>\n",
       "      <td>8.0</td>\n",
       "      <td>3.0</td>\n",
       "      <td>0.188506</td>\n",
       "      <td>0.813793</td>\n",
       "      <td>0.570115</td>\n",
       "      <td>0.188506</td>\n",
       "    </tr>\n",
       "    <tr>\n",
       "      <th>4</th>\n",
       "      <td>460772256</td>\n",
       "      <td>Amazon</td>\n",
       "      <td>87</td>\n",
       "      <td>75</td>\n",
       "      <td>30</td>\n",
       "      <td>True</td>\n",
       "      <td>True</td>\n",
       "      <td>2019-11-01 14:41:10</td>\n",
       "      <td>1659</td>\n",
       "      <td>False</td>\n",
       "      <td>...</td>\n",
       "      <td>fanbrother</td>\n",
       "      <td>390.0</td>\n",
       "      <td>False</td>\n",
       "      <td>41.0</td>\n",
       "      <td>8.0</td>\n",
       "      <td>3.0</td>\n",
       "      <td>0.901149</td>\n",
       "      <td>0.813793</td>\n",
       "      <td>0.570115</td>\n",
       "      <td>0.188506</td>\n",
       "    </tr>\n",
       "  </tbody>\n",
       "</table>\n",
       "<p>5 rows × 41 columns</p>\n",
       "</div>"
      ],
      "text/plain": [
       "   auctionid cardtype  cashvalue  cardvalue  bidvalue  limited_allowed  \\\n",
       "0  460772256   Amazon         87         75        30             True   \n",
       "1  460772256   Amazon         87         75        30             True   \n",
       "2  460772256   Amazon         87         75        30             True   \n",
       "3  460772256   Amazon         87         75        30             True   \n",
       "4  460772256   Amazon         87         75        30             True   \n",
       "\n",
       "   is_locked         auctiontime   bid  is_bidomatic  ...   username3  \\\n",
       "0       True 2019-11-01 14:41:10  1655         False  ...  fanbrother   \n",
       "1       True 2019-11-01 14:41:10  1656          True  ...  fanbrother   \n",
       "2       True 2019-11-01 14:41:10  1657         False  ...  fanbrother   \n",
       "3       True 2019-11-01 14:41:10  1658          True  ...  fanbrother   \n",
       "4       True 2019-11-01 14:41:10  1659         False  ...  fanbrother   \n",
       "\n",
       "  distance3  is_bidomatic3 bids_so_far3  bom_bids_so_far3 streak3  \\\n",
       "0     386.0          False         41.0               8.0     3.0   \n",
       "1     387.0          False         41.0               8.0     3.0   \n",
       "2     388.0          False         41.0               8.0     3.0   \n",
       "3     389.0          False         41.0               8.0     3.0   \n",
       "4     390.0          False         41.0               8.0     3.0   \n",
       "\n",
       "   percent_near_bin0  percent_near_bin1  percent_near_bin2 percent_near_bin3  \n",
       "0           0.891954           0.813793           0.570115          0.188506  \n",
       "1           0.183908           0.813793           0.570115          0.188506  \n",
       "2           0.896552           0.813793           0.570115          0.188506  \n",
       "3           0.188506           0.813793           0.570115          0.188506  \n",
       "4           0.901149           0.813793           0.570115          0.188506  \n",
       "\n",
       "[5 rows x 41 columns]"
      ]
     },
     "execution_count": 179,
     "metadata": {},
     "output_type": "execute_result"
    }
   ],
   "source": [
    "X.head()"
   ]
  },
  {
   "cell_type": "code",
   "execution_count": null,
   "metadata": {},
   "outputs": [],
   "source": [
    "rus = RandomUnderSampler(random_state=0)\n",
    "X_train_resampled, y_train_resampled = rus.fit_resample(X_train, y_train)\n",
    "\n",
    "#winner_count = sum(y_train)\n",
    "#loser_mask = y_train==False\n",
    "#y_train_losers = y_train[y_train==False].sample(n=winner_count)\n",
    "#print(y_train_losers)\n",
    "#X_train_winners = df[y_train==True]\n",
    "#df_sample = pd.concat([df_losers, df_winners], axis=0)"
   ]
  },
  {
   "cell_type": "code",
   "execution_count": 158,
   "metadata": {},
   "outputs": [
    {
     "data": {
      "text/html": [
       "<div>\n",
       "<style scoped>\n",
       "    .dataframe tbody tr th:only-of-type {\n",
       "        vertical-align: middle;\n",
       "    }\n",
       "\n",
       "    .dataframe tbody tr th {\n",
       "        vertical-align: top;\n",
       "    }\n",
       "\n",
       "    .dataframe thead th {\n",
       "        text-align: right;\n",
       "    }\n",
       "</style>\n",
       "<table border=\"1\" class=\"dataframe\">\n",
       "  <thead>\n",
       "    <tr style=\"text-align: right;\">\n",
       "      <th></th>\n",
       "      <th>auctionid</th>\n",
       "      <th>cardtype</th>\n",
       "      <th>cashvalue</th>\n",
       "      <th>cardvalue</th>\n",
       "      <th>bidvalue</th>\n",
       "      <th>limited_allowed</th>\n",
       "      <th>is_locked</th>\n",
       "      <th>auctiontime</th>\n",
       "      <th>bid</th>\n",
       "      <th>is_bidomatic</th>\n",
       "      <th>...</th>\n",
       "      <th>username3</th>\n",
       "      <th>distance3</th>\n",
       "      <th>is_bidomatic3</th>\n",
       "      <th>bids_so_far3</th>\n",
       "      <th>bom_bids_so_far3</th>\n",
       "      <th>streak3</th>\n",
       "      <th>percent_near_bin0</th>\n",
       "      <th>percent_near_bin1</th>\n",
       "      <th>percent_near_bin2</th>\n",
       "      <th>percent_near_bin3</th>\n",
       "    </tr>\n",
       "  </thead>\n",
       "  <tbody>\n",
       "    <tr>\n",
       "      <th>0</th>\n",
       "      <td>859654715</td>\n",
       "      <td>Shell</td>\n",
       "      <td>37</td>\n",
       "      <td>25</td>\n",
       "      <td>30</td>\n",
       "      <td>True</td>\n",
       "      <td>False</td>\n",
       "      <td>2019-12-24 11:36:20</td>\n",
       "      <td>307</td>\n",
       "      <td>True</td>\n",
       "      <td>...</td>\n",
       "      <td>Doxeysmom</td>\n",
       "      <td>10.0</td>\n",
       "      <td>True</td>\n",
       "      <td>12.0</td>\n",
       "      <td>11.0</td>\n",
       "      <td>11.0</td>\n",
       "      <td>0.010811</td>\n",
       "      <td>0.778378</td>\n",
       "      <td>0.010811</td>\n",
       "      <td>0.129730</td>\n",
       "    </tr>\n",
       "    <tr>\n",
       "      <th>1</th>\n",
       "      <td>645519674</td>\n",
       "      <td>Amazon</td>\n",
       "      <td>62</td>\n",
       "      <td>50</td>\n",
       "      <td>30</td>\n",
       "      <td>True</td>\n",
       "      <td>True</td>\n",
       "      <td>2020-01-21 09:42:05</td>\n",
       "      <td>584</td>\n",
       "      <td>False</td>\n",
       "      <td>...</td>\n",
       "      <td>Midge65</td>\n",
       "      <td>71.0</td>\n",
       "      <td>False</td>\n",
       "      <td>5.0</td>\n",
       "      <td>0.0</td>\n",
       "      <td>5.0</td>\n",
       "      <td>0.122581</td>\n",
       "      <td>0.522581</td>\n",
       "      <td>0.012903</td>\n",
       "      <td>0.032258</td>\n",
       "    </tr>\n",
       "    <tr>\n",
       "      <th>2</th>\n",
       "      <td>242562906</td>\n",
       "      <td>Shell</td>\n",
       "      <td>62</td>\n",
       "      <td>50</td>\n",
       "      <td>30</td>\n",
       "      <td>False</td>\n",
       "      <td>False</td>\n",
       "      <td>2020-01-08 22:38:02</td>\n",
       "      <td>273</td>\n",
       "      <td>False</td>\n",
       "      <td>...</td>\n",
       "      <td>BID2BUYONE</td>\n",
       "      <td>206.0</td>\n",
       "      <td>True</td>\n",
       "      <td>23.0</td>\n",
       "      <td>23.0</td>\n",
       "      <td>23.0</td>\n",
       "      <td>0.793548</td>\n",
       "      <td>0.006452</td>\n",
       "      <td>0.006452</td>\n",
       "      <td>0.148387</td>\n",
       "    </tr>\n",
       "    <tr>\n",
       "      <th>3</th>\n",
       "      <td>195076553</td>\n",
       "      <td>Amazon</td>\n",
       "      <td>58</td>\n",
       "      <td>50</td>\n",
       "      <td>20</td>\n",
       "      <td>False</td>\n",
       "      <td>False</td>\n",
       "      <td>2019-11-23 15:52:36</td>\n",
       "      <td>242</td>\n",
       "      <td>True</td>\n",
       "      <td>...</td>\n",
       "      <td>demjon72</td>\n",
       "      <td>36.0</td>\n",
       "      <td>False</td>\n",
       "      <td>5.0</td>\n",
       "      <td>0.0</td>\n",
       "      <td>5.0</td>\n",
       "      <td>0.510345</td>\n",
       "      <td>0.275862</td>\n",
       "      <td>0.006897</td>\n",
       "      <td>0.034483</td>\n",
       "    </tr>\n",
       "    <tr>\n",
       "      <th>4</th>\n",
       "      <td>371778979</td>\n",
       "      <td>None</td>\n",
       "      <td>40</td>\n",
       "      <td>0</td>\n",
       "      <td>100</td>\n",
       "      <td>False</td>\n",
       "      <td>False</td>\n",
       "      <td>2019-12-16 19:10:44</td>\n",
       "      <td>418</td>\n",
       "      <td>True</td>\n",
       "      <td>...</td>\n",
       "      <td>devanchristopher</td>\n",
       "      <td>8.0</td>\n",
       "      <td>True</td>\n",
       "      <td>45.0</td>\n",
       "      <td>45.0</td>\n",
       "      <td>45.0</td>\n",
       "      <td>0.860000</td>\n",
       "      <td>0.040000</td>\n",
       "      <td>0.010000</td>\n",
       "      <td>0.450000</td>\n",
       "    </tr>\n",
       "  </tbody>\n",
       "</table>\n",
       "<p>5 rows × 41 columns</p>\n",
       "</div>"
      ],
      "text/plain": [
       "   auctionid cardtype  cashvalue  cardvalue  bidvalue  limited_allowed  \\\n",
       "0  859654715    Shell         37         25        30             True   \n",
       "1  645519674   Amazon         62         50        30             True   \n",
       "2  242562906    Shell         62         50        30            False   \n",
       "3  195076553   Amazon         58         50        20            False   \n",
       "4  371778979     None         40          0       100            False   \n",
       "\n",
       "   is_locked         auctiontime  bid  is_bidomatic  ...         username3  \\\n",
       "0      False 2019-12-24 11:36:20  307          True  ...         Doxeysmom   \n",
       "1       True 2020-01-21 09:42:05  584         False  ...           Midge65   \n",
       "2      False 2020-01-08 22:38:02  273         False  ...        BID2BUYONE   \n",
       "3      False 2019-11-23 15:52:36  242          True  ...          demjon72   \n",
       "4      False 2019-12-16 19:10:44  418          True  ...  devanchristopher   \n",
       "\n",
       "  distance3  is_bidomatic3 bids_so_far3  bom_bids_so_far3 streak3  \\\n",
       "0      10.0           True         12.0              11.0    11.0   \n",
       "1      71.0          False          5.0               0.0     5.0   \n",
       "2     206.0           True         23.0              23.0    23.0   \n",
       "3      36.0          False          5.0               0.0     5.0   \n",
       "4       8.0           True         45.0              45.0    45.0   \n",
       "\n",
       "   percent_near_bin0  percent_near_bin1  percent_near_bin2 percent_near_bin3  \n",
       "0           0.010811           0.778378           0.010811          0.129730  \n",
       "1           0.122581           0.522581           0.012903          0.032258  \n",
       "2           0.793548           0.006452           0.006452          0.148387  \n",
       "3           0.510345           0.275862           0.006897          0.034483  \n",
       "4           0.860000           0.040000           0.010000          0.450000  \n",
       "\n",
       "[5 rows x 41 columns]"
      ]
     },
     "execution_count": 158,
     "metadata": {},
     "output_type": "execute_result"
    }
   ],
   "source": [
    "X_train_resampled.shape\n"
   ]
  },
  {
   "cell_type": "code",
   "execution_count": 160,
   "metadata": {},
   "outputs": [],
   "source": [
    "categorical_features = ['cardtype', 'limited_allowed', 'is_locked', 'is_bidomatic', 'is_bidomatic0', 'is_bidomatic1', 'is_bidomatic2', 'is_bidomatic3' ]\n",
    "numeric_features = ['cashvalue','bidvalue', 'bid', 'prevusers', \n",
    "                     'bids_so_far0', 'streak0', 'percent_near_bin0',\n",
    "                    'distance1', 'bids_so_far1', 'streak1', 'percent_near_bin1',\n",
    "                    'distance2', 'bids_so_far2', 'streak2', 'percent_near_bin2',\n",
    "                    'distance3', 'bids_so_far3', 'streak3', 'percent_near_bin3',]\n",
    "numeric_transformer = Pipeline(steps=[\n",
    "    ('imputer', SimpleImputer(strategy='constant', fill_value=-1)),\n",
    "])\n",
    "categorical_transformer = Pipeline(steps=[\n",
    "    ('imputer', SimpleImputer(strategy='constant', fill_value='unknown')),\n",
    "    ('onehot', OneHotEncoder(handle_unknown='error'))])   #,   drop='first'))])\n",
    "preprocessor = ColumnTransformer(\n",
    "    transformers=[\n",
    "        ('num', numeric_transformer, numeric_features),\n",
    "        ('cat', categorical_transformer, categorical_features)])\n",
    "model = Pipeline(steps=[('preprocessor', preprocessor),\n",
    "                      ('classifier', RandomForestClassifier())])\n"
   ]
  },
  {
   "cell_type": "code",
   "execution_count": 161,
   "metadata": {},
   "outputs": [
    {
     "data": {
      "text/plain": [
       "Pipeline(memory=None,\n",
       "         steps=[('preprocessor',\n",
       "                 ColumnTransformer(n_jobs=None, remainder='drop',\n",
       "                                   sparse_threshold=0.3,\n",
       "                                   transformer_weights=None,\n",
       "                                   transformers=[('num',\n",
       "                                                  Pipeline(memory=None,\n",
       "                                                           steps=[('imputer',\n",
       "                                                                   SimpleImputer(add_indicator=False,\n",
       "                                                                                 copy=True,\n",
       "                                                                                 fill_value=-1,\n",
       "                                                                                 missing_values=nan,\n",
       "                                                                                 strategy='constant',\n",
       "                                                                                 verbose=0))],\n",
       "                                                           verbose=False),\n",
       "                                                  ['cashvalue', 'bidvalue',\n",
       "                                                   'bid...\n",
       "                 RandomForestClassifier(bootstrap=True, ccp_alpha=0.0,\n",
       "                                        class_weight=None, criterion='gini',\n",
       "                                        max_depth=None, max_features='auto',\n",
       "                                        max_leaf_nodes=None, max_samples=None,\n",
       "                                        min_impurity_decrease=0.0,\n",
       "                                        min_impurity_split=None,\n",
       "                                        min_samples_leaf=1, min_samples_split=2,\n",
       "                                        min_weight_fraction_leaf=0.0,\n",
       "                                        n_estimators=100, n_jobs=None,\n",
       "                                        oob_score=False, random_state=None,\n",
       "                                        verbose=0, warm_start=False))],\n",
       "         verbose=False)"
      ]
     },
     "execution_count": 161,
     "metadata": {},
     "output_type": "execute_result"
    }
   ],
   "source": [
    "model.fit(X_train_resampled, y_train_resampled)"
   ]
  },
  {
   "cell_type": "code",
   "execution_count": null,
   "metadata": {},
   "outputs": [],
   "source": []
  },
  {
   "cell_type": "code",
   "execution_count": null,
   "metadata": {},
   "outputs": [],
   "source": [
    "\n"
   ]
  },
  {
   "cell_type": "code",
   "execution_count": null,
   "metadata": {},
   "outputs": [],
   "source": []
  },
  {
   "cell_type": "code",
   "execution_count": null,
   "metadata": {},
   "outputs": [],
   "source": []
  },
  {
   "cell_type": "code",
   "execution_count": null,
   "metadata": {},
   "outputs": [],
   "source": []
  },
  {
   "cell_type": "code",
   "execution_count": null,
   "metadata": {},
   "outputs": [],
   "source": []
  },
  {
   "cell_type": "code",
   "execution_count": null,
   "metadata": {},
   "outputs": [],
   "source": []
  },
  {
   "cell_type": "code",
   "execution_count": null,
   "metadata": {},
   "outputs": [],
   "source": []
  },
  {
   "cell_type": "code",
   "execution_count": 165,
   "metadata": {
    "scrolled": true
   },
   "outputs": [
    {
     "data": {
      "image/png": "[encoded data removed]",
      "text/plain": [
       "<Figure size 720x576 with 1 Axes>"
      ]
     },
     "metadata": {},
     "output_type": "display_data"
    }
   ],
   "source": [
    "# Plot the feature importance\n",
    "feat_scores = pd.Series(model.steps[1][1].feature_importances_,\n",
    "                           index=get_column_names_from_ColumnTransformer(model.named_steps['preprocessor']))\n",
    "feat_scores = feat_scores.sort_values()\n",
    "ax = feat_scores.plot(kind='barh', \n",
    "                      figsize=(10,8),\n",
    "                      color='b')\n",
    "ax.set_title('Average Gini Importance')\n",
    "ax.set_xlabel('Average contribution to information gain');"
   ]
  },
  {
   "cell_type": "code",
   "execution_count": 166,
   "metadata": {},
   "outputs": [],
   "source": [
    "def get_column_names_from_ColumnTransformer(column_transformer):    \n",
    "    col_name = []\n",
    "    for transformer_in_columns in column_transformer.transformers_[:-1]:#the last transformer is ColumnTransformer's 'remainder'\n",
    "        raw_col_name = transformer_in_columns[2]\n",
    "        if isinstance(transformer_in_columns[1],Pipeline): \n",
    "            transformer = transformer_in_columns[1].steps[-1][1]\n",
    "        else:\n",
    "            transformer = transformer_in_columns[1]\n",
    "        try:\n",
    "            names = transformer.get_feature_names()\n",
    "        except AttributeError: # if no 'get_feature_names' function, use raw column name\n",
    "            names = raw_col_name\n",
    "        if isinstance(names,np.ndarray): # eg.\n",
    "            col_name += names.tolist()\n",
    "        elif isinstance(names,list):\n",
    "            col_name += names    \n",
    "        elif isinstance(names,str):\n",
    "            col_name.append(names)\n",
    "    return col_name"
   ]
  },
  {
   "cell_type": "code",
   "execution_count": 167,
   "metadata": {},
   "outputs": [],
   "source": [
    "probs = model.predict_proba(X_test)[:, 1]"
   ]
  },
  {
   "cell_type": "code",
   "execution_count": null,
   "metadata": {},
   "outputs": [],
   "source": []
  },
  {
   "cell_type": "code",
   "execution_count": null,
   "metadata": {},
   "outputs": [],
   "source": []
  },
  {
   "cell_type": "code",
   "execution_count": null,
   "metadata": {},
   "outputs": [],
   "source": []
  },
  {
   "cell_type": "code",
   "execution_count": 168,
   "metadata": {},
   "outputs": [
    {
     "name": "stdout",
     "output_type": "stream",
     "text": [
      "*****************************\n",
      "thresh: 0.5\n",
      "Accuracy 0.7340534052102043: Precision: 0.008694710040900349  Recall:0.7025607353906763 \n",
      "[[1010702  365980]\n",
      " [   1359    3210]]\n",
      "profit: -14953.0\n",
      "profit per bid: -0.010825693519859896\n",
      "*****************************\n",
      "\n",
      "*****************************\n",
      "thresh: 0.55\n",
      "Accuracy 0.785115087699484: Precision: 0.00992423505579238  Recall:0.647625300941125 \n",
      "[[1081482  295200]\n",
      " [   1610    2959]]\n",
      "profit: 485.3999999999942\n",
      "profit per bid: 0.00035142056005750885\n",
      "*****************************\n",
      "\n",
      "*****************************\n",
      "thresh: 0.6000000000000001\n",
      "Accuracy 0.8298817521218084: Precision: 0.011280093329091101  Recall:0.5819654191289122 \n",
      "[[1143616  233066]\n",
      " [   1910    2659]]\n",
      "profit: 10633.0\n",
      "profit per bid: 0.007698093974230607\n",
      "*****************************\n",
      "\n",
      "*****************************\n",
      "thresh: 0.6500000000000001\n",
      "Accuracy 0.8694900492379734: Precision: 0.01270260375642064  Recall:0.5012037644998906 \n",
      "[[1198694  177988]\n",
      " [   2279    2290]]\n",
      "profit: 15612.800000000003\n",
      "profit per bid: 0.011303376431944666\n",
      "*****************************\n",
      "\n",
      "*****************************\n",
      "thresh: 0.7000000000000002\n",
      "Accuracy 0.9036221512237819: Precision: 0.013980990691941838  Recall:0.40468373823593784 \n",
      "[[1246280  130402]\n",
      " [   2720    1849]]\n",
      "profit: 15164.599999999999\n",
      "profit per bid: 0.010978887979085625\n",
      "*****************************\n",
      "\n",
      "*****************************\n",
      "thresh: 0.7500000000000002\n",
      "Accuracy 0.932595885903431: Precision: 0.01591155145828549  Recall:0.3184504267892318 \n",
      "[[1286694   89988]\n",
      " [   3114    1455]]\n",
      "profit: 14783.799999999996\n",
      "profit per bid: 0.010703195870989411\n",
      "*****************************\n",
      "\n",
      "*****************************\n",
      "thresh: 0.8000000000000003\n",
      "Accuracy 0.955487453040758: Precision: 0.0175307720999627  Recall:0.22630772597942658 \n",
      "[[1318734   57948]\n",
      " [   3535    1034]]\n",
      "profit: 10969.199999999997\n",
      "profit per bid: 0.007941496512943699\n",
      "*****************************\n",
      "\n",
      "*****************************\n",
      "thresh: 0.8500000000000003\n",
      "Accuracy 0.973176490007971: Precision: 0.019866962305986696  Recall:0.14707813525935653 \n",
      "[[1343529   33153]\n",
      " [   3897     672]]\n",
      "profit: 7538.0\n",
      "profit per bid: 0.005457371614572586\n",
      "*****************************\n",
      "\n",
      "*****************************\n",
      "thresh: 0.9000000000000004\n",
      "Accuracy 0.9853864359193224: Precision: 0.02273838630806846  Recall:0.08141825344714379 \n",
      "[[1360694   15988]\n",
      " [   4197     372]]\n",
      "profit: 4553.0\n",
      "profit per bid: 0.003296287206307905\n",
      "*****************************\n",
      "\n",
      "*****************************\n",
      "thresh: 0.9500000000000004\n",
      "Accuracy 0.9921498699367457: Precision: 0.027132951462164608  Recall:0.03939592908732764 \n",
      "[[1370228    6454]\n",
      " [   4389     180]]\n",
      "profit: 2602.3999999999996\n",
      "profit per bid: 0.0018840891336911246\n",
      "*****************************\n",
      "\n"
     ]
    }
   ],
   "source": [
    "for thresh in np.arange(.5, 1,  .05):\n",
    "    y_to_score = probs > thresh\n",
    "    cm = confusion_matrix(y_test, y_to_score)\n",
    "    print(\"*****************************\")\n",
    "    print(\"thresh:\", thresh)\n",
    "    print (\"Accuracy {}: Precision: {}  Recall:{} \".format(accuracy_score(y_test, y_to_score), precision_score(y_test, y_to_score), recall_score(y_test, y_to_score)))\n",
    "    print(cm)\n",
    "    profit = sum(X_test.cashvalue[(y_to_score==True)&(y_test==True)])-sum(y_to_score)*.40\n",
    "    profit_per_bid = profit/len(y_to_score)\n",
    "    print(\"profit:\", profit)\n",
    "    print(\"profit per bid:\", profit_per_bid)\n",
    "    print(\"*****************************\")\n",
    "    print(\"\")\n",
    "    \n"
   ]
  },
  {
   "cell_type": "code",
   "execution_count": 145,
   "metadata": {},
   "outputs": [],
   "source": [
    "y_to_score = probs > .7\n"
   ]
  },
  {
   "cell_type": "code",
   "execution_count": 147,
   "metadata": {},
   "outputs": [
    {
     "data": {
      "text/plain": [
       "1385997"
      ]
     },
     "execution_count": 147,
     "metadata": {},
     "output_type": "execute_result"
    }
   ],
   "source": [
    "len(y_test)"
   ]
  },
  {
   "cell_type": "code",
   "execution_count": 87,
   "metadata": {},
   "outputs": [
    {
     "data": {
      "text/plain": [
       "array([0. , 0.5, 1. , 1.5, 2. , 2.5, 3. , 3.5, 4. , 4.5])"
      ]
     },
     "execution_count": 87,
     "metadata": {},
     "output_type": "execute_result"
    }
   ],
   "source": [
    "np.arange(0, 5,  .5)"
   ]
  },
  {
   "cell_type": "code",
   "execution_count": 148,
   "metadata": {},
   "outputs": [
    {
     "data": {
      "text/plain": [
       "128957"
      ]
     },
     "execution_count": 148,
     "metadata": {},
     "output_type": "execute_result"
    }
   ],
   "source": [
    "np.sum(y_to_score)"
   ]
  },
  {
   "cell_type": "code",
   "execution_count": 149,
   "metadata": {},
   "outputs": [
    {
     "data": {
      "text/plain": [
       "(array([50., 54., 46., ...,  0.,  0.,  1.]),\n",
       " array([1.00000000e+00, 1.99941486e+00, 2.99882972e+00, ...,\n",
       "        1.70700117e+03, 1.70800059e+03, 1.70900000e+03]),\n",
       " <a list of 1709 Patch objects>)"
      ]
     },
     "execution_count": 149,
     "metadata": {},
     "output_type": "execute_result"
    },
    {
     "data": {
      "image/png": "[encoded data removed]",
      "text/plain": [
       "<Figure size 432x288 with 1 Axes>"
      ]
     },
     "metadata": {},
     "output_type": "display_data"
    }
   ],
   "source": [
    "plt.hist(X_test.bid[(y_to_score==True)&(y_test==True)], bins=max(X_test.bid[(y_to_score==True)&(y_test==True)]))"
   ]
  },
  {
   "cell_type": "code",
   "execution_count": 174,
   "metadata": {},
   "outputs": [
    {
     "data": {
      "text/plain": [
       "(0, 20)"
      ]
     },
     "execution_count": 174,
     "metadata": {},
     "output_type": "execute_result"
    },
    {
     "data": {
      "image/png": "[encoded data removed]",
      "text/plain": [
       "<Figure size 432x288 with 1 Axes>"
      ]
     },
     "metadata": {},
     "output_type": "display_data"
    }
   ],
   "source": [
    "fig, ax = plt.subplots()\n",
    "ax.hist(X_test.bid[(y_to_score==True)], bins=max(X_test.bid[(y_to_score==True)]))\n",
    "ax.set_ylim(bottom=0, top=600)\n",
    "ax.set_xlim(left=0, right=20)"
   ]
  },
  {
   "cell_type": "code",
   "execution_count": null,
   "metadata": {},
   "outputs": [],
   "source": []
  }
 ],
 "metadata": {
  "kernelspec": {
   "display_name": "Python 3",
   "language": "python",
   "name": "python3"
  },
  "language_info": {
   "codemirror_mode": {
    "name": "ipython",
    "version": 3
   },
   "file_extension": ".py",
   "mimetype": "text/x-python",
   "name": "python",
   "nbconvert_exporter": "python",
   "pygments_lexer": "ipython3",
   "version": "3.6.10"
  }
 },
 "nbformat": 4,
 "nbformat_minor": 4
}
