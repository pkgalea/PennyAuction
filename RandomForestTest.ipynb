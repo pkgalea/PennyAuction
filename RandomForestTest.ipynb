{
 "cells": [
  {
   "cell_type": "code",
   "execution_count": 319,
   "metadata": {},
   "outputs": [],
   "source": [
    "import pandas as pd\n",
    "import psycopg2 as pg2\n",
    "import matplotlib.pyplot as plt\n",
    "plt.style.use('ggplot')\n",
    "from sklearn.tree import DecisionTreeClassifier\n",
    "from sklearn.ensemble import RandomForestClassifier, GradientBoostingClassifier\n",
    "from pandas.plotting import scatter_matrix\n",
    "from sklearn.model_selection import train_test_split, GridSearchCV\n",
    "from sklearn.pipeline import Pipeline\n",
    "from sklearn.metrics import confusion_matrix, precision_score, recall_score, accuracy_score, roc_curve\n",
    "from sklearn.preprocessing import OneHotEncoder,StandardScaler\n",
    "from sklearn.impute import SimpleImputer\n",
    "from sklearn.compose import ColumnTransformer\n",
    "from imblearn.under_sampling import RandomUnderSampler, NearMiss\n",
    "from imblearn.pipeline import Pipeline as Pipeline_imb\n",
    "import numpy as np\n",
    "\n"
   ]
  },
  {
   "cell_type": "code",
   "execution_count": 320,
   "metadata": {},
   "outputs": [],
   "source": [
    "def get_column_names_from_ColumnTransformer(column_transformer):    \n",
    "    col_name = []\n",
    "    for transformer_in_columns in column_transformer.transformers_[:-1]:#the last transformer is ColumnTransformer's 'remainder'\n",
    "        raw_col_name = transformer_in_columns[2]\n",
    "        if isinstance(transformer_in_columns[1],Pipeline): \n",
    "            transformer = transformer_in_columns[1].steps[-1][1]\n",
    "        else:\n",
    "            transformer = transformer_in_columns[1]\n",
    "        try:\n",
    "            names = transformer.get_feature_names()\n",
    "        except AttributeError: # if no 'get_feature_names' function, use raw column name\n",
    "            names = raw_col_name\n",
    "        if isinstance(names,np.ndarray): # eg.\n",
    "            col_name += names.tolist()\n",
    "        elif isinstance(names,list):\n",
    "            col_name += names    \n",
    "        elif isinstance(names,str):\n",
    "            col_name.append(names)\n",
    "    return col_name"
   ]
  },
  {
   "cell_type": "code",
   "execution_count": 333,
   "metadata": {},
   "outputs": [],
   "source": [
    "conn = pg2.connect(user='postgres',  dbname='penny', host='localhost', port='5432', password='password')\n",
    "df = pd.read_sql (\"\"\"Select * from auction_full WHERE bid > 0\"\"\", conn)\n",
    "df_backup = df.copy()"
   ]
  },
  {
   "cell_type": "code",
   "execution_count": 334,
   "metadata": {},
   "outputs": [],
   "source": [
    "df = df_backup.copy()"
   ]
  },
  {
   "cell_type": "code",
   "execution_count": 335,
   "metadata": {},
   "outputs": [],
   "source": [
    "df.is_bidomatic0 = df.is_bidomatic0.astype(str)\n",
    "df.is_bidomatic1 = df.is_bidomatic1.astype(str)\n",
    "df.is_bidomatic2 = df.is_bidomatic2.astype(str)\n",
    "df.is_bidomatic3 = df.is_bidomatic3.astype(str)\n",
    "df[\"percent_near_bin0\"] = df[\"bids_so_far0\"]/(df[\"cashvalue\"]*2.5)\n",
    "df[\"percent_near_bin1\"] = df[\"bids_so_far1\"]/(df[\"cashvalue\"]*2.5)\n",
    "df[\"percent_near_bin2\"] = df[\"bids_so_far2\"]/(df[\"cashvalue\"]*2.5)\n",
    "df[\"percent_near_bin3\"] = df[\"bids_so_far3\"]/(df[\"cashvalue\"]*2.5)\n",
    "df[df[\"is_bidomatic0\"]==False].streak0 = 0\n",
    "df[df[\"is_bidomatic1\"]==False].streak1 = 0\n",
    "df[df[\"is_bidomatic2\"]==False].streak2 = 0\n",
    "df[df[\"is_bidomatic3\"]==False].streak3 = 0\n"
   ]
  },
  {
   "cell_type": "code",
   "execution_count": 336,
   "metadata": {},
   "outputs": [],
   "source": [
    "\n",
    "\n",
    "y = df.pop('is_winner')\n",
    "X = df\n",
    "X_train, X_test, y_train, y_test = train_test_split(X, y, random_state=0) \n"
   ]
  },
  {
   "cell_type": "code",
   "execution_count": null,
   "metadata": {},
   "outputs": [],
   "source": []
  },
  {
   "cell_type": "code",
   "execution_count": 337,
   "metadata": {},
   "outputs": [],
   "source": [
    "#rus = RandomUnderSampler(random_state=0)\n",
    "#nm1 = NearMiss(version=1)\n",
    "#X_train_resampled, y_train_resampled = nm1.fit_resample(X_train, y_train)\n"
   ]
  },
  {
   "cell_type": "code",
   "execution_count": null,
   "metadata": {},
   "outputs": [],
   "source": []
  },
  {
   "cell_type": "code",
   "execution_count": 338,
   "metadata": {},
   "outputs": [],
   "source": [
    "categorical_features = ['cardtype', 'limited_allowed', 'is_locked', 'is_bidomatic', 'is_bidomatic0', 'is_bidomatic1', 'is_bidomatic2', 'is_bidomatic3' ]\n",
    "numeric_features = ['cashvalue','bidvalue', 'prevusers', \n",
    "                     'bids_so_far0', 'streak0', 'percent_near_bin0',\n",
    "                    'distance1', 'bids_so_far1', 'streak1', 'percent_near_bin1',\n",
    "                    'distance2', 'bids_so_far2', 'streak2', 'percent_near_bin2',\n",
    "                    'distance3', 'bids_so_far3', 'streak3', 'percent_near_bin3',]\n",
    "numeric_transformer = Pipeline_imb(steps=[\n",
    "    ('imputer', SimpleImputer(strategy='constant', fill_value=-1)),\n",
    "])\n",
    "categorical_transformer = Pipeline_imb(steps=[\n",
    "    ('imputer', SimpleImputer(strategy='constant', fill_value='unknown')),\n",
    "    ('onehot', OneHotEncoder(handle_unknown='error', drop='first'))])\n",
    "preprocessor = ColumnTransformer(\n",
    "    transformers=[\n",
    "        ('num', numeric_transformer, numeric_features),\n",
    "        ('cat', categorical_transformer, categorical_features)])\n",
    "model = Pipeline_imb(steps=[('preprocessor', preprocessor),\n",
    "                        ('sampler', RandomUnderSampler()),\n",
    "                      ('classifier', RandomForestClassifier())])\n"
   ]
  },
  {
   "cell_type": "code",
   "execution_count": 339,
   "metadata": {},
   "outputs": [
    {
     "data": {
      "text/plain": [
       "Pipeline(memory=None,\n",
       "         steps=[('preprocessor',\n",
       "                 ColumnTransformer(n_jobs=None, remainder='drop',\n",
       "                                   sparse_threshold=0.3,\n",
       "                                   transformer_weights=None,\n",
       "                                   transformers=[('num',\n",
       "                                                  Pipeline(memory=None,\n",
       "                                                           steps=[('imputer',\n",
       "                                                                   SimpleImputer(add_indicator=False,\n",
       "                                                                                 copy=True,\n",
       "                                                                                 fill_value=-1,\n",
       "                                                                                 missing_values=nan,\n",
       "                                                                                 strategy='constant',\n",
       "                                                                                 verbose=0))],\n",
       "                                                           verbose=False),\n",
       "                                                  ['cashvalue', 'bidvalue',\n",
       "                                                   'pre...\n",
       "                 RandomForestClassifier(bootstrap=True, ccp_alpha=0.0,\n",
       "                                        class_weight=None, criterion='gini',\n",
       "                                        max_depth=None, max_features='auto',\n",
       "                                        max_leaf_nodes=None, max_samples=None,\n",
       "                                        min_impurity_decrease=0.0,\n",
       "                                        min_impurity_split=None,\n",
       "                                        min_samples_leaf=1, min_samples_split=2,\n",
       "                                        min_weight_fraction_leaf=0.0,\n",
       "                                        n_estimators=100, n_jobs=None,\n",
       "                                        oob_score=False, random_state=None,\n",
       "                                        verbose=0, warm_start=False))],\n",
       "         verbose=False)"
      ]
     },
     "execution_count": 339,
     "metadata": {},
     "output_type": "execute_result"
    }
   ],
   "source": [
    "model.fit(X_train, y_train)"
   ]
  },
  {
   "cell_type": "code",
   "execution_count": 340,
   "metadata": {
    "scrolled": false
   },
   "outputs": [
    {
     "data": {
      "image/png": "[encoded data removed]",
      "text/plain": [
       "<Figure size 720x576 with 1 Axes>"
      ]
     },
     "metadata": {},
     "output_type": "display_data"
    }
   ],
   "source": [
    "# Plot the feature importance\n",
    "feat_scores = pd.Series(model.steps[2][1].feature_importances_,\n",
    "                           index=get_column_names_from_ColumnTransformer(model.named_steps['preprocessor']))\n",
    "feat_scores = feat_scores.sort_values()\n",
    "ax = feat_scores.plot(kind='barh', \n",
    "                      figsize=(10,8),\n",
    "                      color='b')\n",
    "ax.set_title('Average Gini Importance')\n",
    "ax.set_xlabel('Average contribution to information gain');"
   ]
  },
  {
   "cell_type": "code",
   "execution_count": 341,
   "metadata": {
    "scrolled": true
   },
   "outputs": [],
   "source": [
    "probs = model.predict_proba(X_test)[:,1]"
   ]
  },
  {
   "cell_type": "code",
   "execution_count": 342,
   "metadata": {},
   "outputs": [
    {
     "name": "stdout",
     "output_type": "stream",
     "text": [
      "*****************************\n",
      "thresh: 0.5\n",
      "Accuracy 0.7287853684041069: Precision: 0.008976810776353053  Recall:0.707432571546222 \n",
      "[[1019681  379328]\n",
      " [   1421    3436]]\n",
      "profit: -15946.600000000006\n",
      "profit per bid: -0.011359061334913736\n",
      "*****************************\n",
      "\n",
      "*****************************\n",
      "thresh: 0.55\n",
      "Accuracy 0.785413992503558: Precision: 0.010348348130061422  Recall:0.6448424953675108 \n",
      "[[1099484  299525]\n",
      " [   1725    3132]]\n",
      "profit: 800.1999999999971\n",
      "profit per bid: 0.0005699974214063145\n",
      "*****************************\n",
      "\n",
      "*****************************\n",
      "thresh: 0.6000000000000001\n",
      "Accuracy 0.8340781812509172: Precision: 0.011815321389584537  Recall:0.5682520074119827 \n",
      "[[1168174  230835]\n",
      " [   2097    2760]]\n",
      "profit: 9657.0\n",
      "profit per bid: 0.006878861657736565\n",
      "*****************************\n",
      "\n",
      "*****************************\n",
      "thresh: 0.6500000000000001\n",
      "Accuracy 0.8762787901409393: Precision: 0.01360951859641036  Recall:0.4863084208359069 \n",
      "[[1227816  171193]\n",
      " [   2495    2362]]\n",
      "profit: 15301.0\n",
      "profit per bid: 0.010899188384076544\n",
      "*****************************\n",
      "\n",
      "*****************************\n",
      "thresh: 0.7000000000000002\n",
      "Accuracy 0.9115499627457322: Precision: 0.01575525378053037  Recall:0.3996294008647313 \n",
      "[[1277753  121256]\n",
      " [   2916    1941]]\n",
      "profit: 16893.199999999997\n",
      "profit per bid: 0.012033342213573089\n",
      "*****************************\n",
      "\n",
      "*****************************\n",
      "thresh: 0.7500000000000002\n",
      "Accuracy 0.9398867128344158: Precision: 0.018139298177588213  Recall:0.30821494749845585 \n",
      "[[1317978   81031]\n",
      " [   3360    1497]]\n",
      "profit: 14741.799999999996\n",
      "profit per bid: 0.010500859768667378\n",
      "*****************************\n",
      "\n",
      "*****************************\n",
      "thresh: 0.8000000000000003\n",
      "Accuracy 0.9608908542553206: Precision: 0.020778673612042057  Recall:0.22338892320362363 \n",
      "[[1347877   51132]\n",
      " [   3772    1085]]\n",
      "profit: 11076.199999999997\n",
      "profit per bid: 0.007889784352637643\n",
      "*****************************\n",
      "\n",
      "*****************************\n",
      "thresh: 0.8500000000000003\n",
      "Accuracy 0.975646536065408: Precision: 0.0234598388354562  Recall:0.14865143092443894 \n",
      "[[1368955   30054]\n",
      " [   4135     722]]\n",
      "profit: 6862.5999999999985\n",
      "profit per bid: 0.004888358290606082\n",
      "*****************************\n",
      "\n",
      "*****************************\n",
      "thresh: 0.9000000000000004\n",
      "Accuracy 0.9864189317214036: Precision: 0.02690284344409669  Recall:0.08317891702697139 \n",
      "[[1384396   14613]\n",
      " [   4453     404]]\n",
      "profit: 4517.2\n",
      "profit per bid: 0.0032176860184661496\n",
      "*****************************\n",
      "\n",
      "*****************************\n",
      "thresh: 0.9500000000000004\n",
      "Accuracy 0.9927022949483782: Precision: 0.028361344537815126  Recall:0.033353922174181594 \n",
      "[[1393459    5550]\n",
      " [   4695     162]]\n",
      "profit: 2117.2\n",
      "profit per bid: 0.0015081211454654503\n",
      "*****************************\n",
      "\n"
     ]
    }
   ],
   "source": [
    "for thresh in np.arange(.5, 1,  .05):\n",
    "    y_to_score = probs > thresh\n",
    "    cm = confusion_matrix(y_test, y_to_score)\n",
    "    print(\"*****************************\")\n",
    "    print(\"thresh:\", thresh)\n",
    "    print (\"Accuracy {}: Precision: {}  Recall:{} \".format(accuracy_score(y_test, y_to_score), precision_score(y_test, y_to_score), recall_score(y_test, y_to_score)))\n",
    "    print(cm)\n",
    "    profit = sum(X_test.cashvalue[(y_to_score==True)&(y_test==True)])-sum(y_to_score)*.40\n",
    "    profit_per_bid = profit/len(y_to_score)\n",
    "    print(\"profit:\", profit)\n",
    "    print(\"profit per bid:\", profit_per_bid)\n",
    "    print(\"*****************************\")\n",
    "    print(\"\")\n",
    "    \n"
   ]
  },
  {
   "cell_type": "code",
   "execution_count": 343,
   "metadata": {},
   "outputs": [
    {
     "data": {
      "text/plain": [
       "(array([ 2., 22., 28., 14., 11.,  5., 13.,  8.,  8.,  4.,  6.,  4.,  0.,\n",
       "         1.,  4.,  1.,  5.,  2.,  2.,  2.,  2.,  1.,  0.,  0.,  1.,  0.,\n",
       "         1.,  3.,  0.,  0.,  2.,  1.,  0.,  0.,  1.,  0.,  0.,  0.,  0.,\n",
       "         1.,  0.,  0.,  0.,  0.,  0.,  0.,  1.,  0.,  0.,  0.,  0.,  1.,\n",
       "         0.,  0.,  0.,  0.,  0.,  0.,  0.,  0.,  0.,  0.,  1.,  0.,  0.,\n",
       "         0.,  0.,  0.,  0.,  0.,  0.,  0.,  0.,  0.,  0.,  0.,  0.,  0.,\n",
       "         0.,  0.,  0.,  0.,  0.,  0.,  0.,  0.,  1.,  0.,  0.,  0.,  0.,\n",
       "         0.,  0.,  0.,  0.,  0.,  0.,  0.,  0.,  0.,  0.,  1.,  0.,  0.,\n",
       "         0.,  0.,  0.,  0.,  0.,  1.,  0.,  0.,  0.,  0.,  0.,  0.,  0.,\n",
       "         0.,  0.,  0.,  0.,  0.,  0.,  0.,  0.,  0.,  0.,  0.,  0.,  0.,\n",
       "         0.,  0.,  0.,  0.,  0.,  0.,  0.,  0.,  0.,  0.,  0.,  0.,  0.,\n",
       "         0.,  0.,  0.,  0.,  0.,  0.,  0.,  0.,  0.,  0.,  0.,  0.,  0.,\n",
       "         0.,  0.,  0.,  0.,  0.,  0.,  0.,  0.,  0.,  0.,  0.,  0.,  0.,\n",
       "         0.,  0.,  0.,  0.,  0.,  1.]),\n",
       " array([  1.        ,   1.99428571,   2.98857143,   3.98285714,\n",
       "          4.97714286,   5.97142857,   6.96571429,   7.96      ,\n",
       "          8.95428571,   9.94857143,  10.94285714,  11.93714286,\n",
       "         12.93142857,  13.92571429,  14.92      ,  15.91428571,\n",
       "         16.90857143,  17.90285714,  18.89714286,  19.89142857,\n",
       "         20.88571429,  21.88      ,  22.87428571,  23.86857143,\n",
       "         24.86285714,  25.85714286,  26.85142857,  27.84571429,\n",
       "         28.84      ,  29.83428571,  30.82857143,  31.82285714,\n",
       "         32.81714286,  33.81142857,  34.80571429,  35.8       ,\n",
       "         36.79428571,  37.78857143,  38.78285714,  39.77714286,\n",
       "         40.77142857,  41.76571429,  42.76      ,  43.75428571,\n",
       "         44.74857143,  45.74285714,  46.73714286,  47.73142857,\n",
       "         48.72571429,  49.72      ,  50.71428571,  51.70857143,\n",
       "         52.70285714,  53.69714286,  54.69142857,  55.68571429,\n",
       "         56.68      ,  57.67428571,  58.66857143,  59.66285714,\n",
       "         60.65714286,  61.65142857,  62.64571429,  63.64      ,\n",
       "         64.63428571,  65.62857143,  66.62285714,  67.61714286,\n",
       "         68.61142857,  69.60571429,  70.6       ,  71.59428571,\n",
       "         72.58857143,  73.58285714,  74.57714286,  75.57142857,\n",
       "         76.56571429,  77.56      ,  78.55428571,  79.54857143,\n",
       "         80.54285714,  81.53714286,  82.53142857,  83.52571429,\n",
       "         84.52      ,  85.51428571,  86.50857143,  87.50285714,\n",
       "         88.49714286,  89.49142857,  90.48571429,  91.48      ,\n",
       "         92.47428571,  93.46857143,  94.46285714,  95.45714286,\n",
       "         96.45142857,  97.44571429,  98.44      ,  99.43428571,\n",
       "        100.42857143, 101.42285714, 102.41714286, 103.41142857,\n",
       "        104.40571429, 105.4       , 106.39428571, 107.38857143,\n",
       "        108.38285714, 109.37714286, 110.37142857, 111.36571429,\n",
       "        112.36      , 113.35428571, 114.34857143, 115.34285714,\n",
       "        116.33714286, 117.33142857, 118.32571429, 119.32      ,\n",
       "        120.31428571, 121.30857143, 122.30285714, 123.29714286,\n",
       "        124.29142857, 125.28571429, 126.28      , 127.27428571,\n",
       "        128.26857143, 129.26285714, 130.25714286, 131.25142857,\n",
       "        132.24571429, 133.24      , 134.23428571, 135.22857143,\n",
       "        136.22285714, 137.21714286, 138.21142857, 139.20571429,\n",
       "        140.2       , 141.19428571, 142.18857143, 143.18285714,\n",
       "        144.17714286, 145.17142857, 146.16571429, 147.16      ,\n",
       "        148.15428571, 149.14857143, 150.14285714, 151.13714286,\n",
       "        152.13142857, 153.12571429, 154.12      , 155.11428571,\n",
       "        156.10857143, 157.10285714, 158.09714286, 159.09142857,\n",
       "        160.08571429, 161.08      , 162.07428571, 163.06857143,\n",
       "        164.06285714, 165.05714286, 166.05142857, 167.04571429,\n",
       "        168.04      , 169.03428571, 170.02857143, 171.02285714,\n",
       "        172.01714286, 173.01142857, 174.00571429, 175.        ]),\n",
       " <a list of 175 Patch objects>)"
      ]
     },
     "execution_count": 343,
     "metadata": {},
     "output_type": "execute_result"
    },
    {
     "data": {
      "image/png": "[encoded data removed]",
      "text/plain": [
       "<Figure size 432x288 with 1 Axes>"
      ]
     },
     "metadata": {},
     "output_type": "display_data"
    }
   ],
   "source": [
    "plt.hist(X_test.bid[(y_to_score==True)&(y_test==True)], bins=max(X_test.bid[(y_to_score==True)&(y_test==True)]))"
   ]
  },
  {
   "cell_type": "code",
   "execution_count": 352,
   "metadata": {},
   "outputs": [
    {
     "data": {
      "text/plain": [
       "(0, 150)"
      ]
     },
     "execution_count": 352,
     "metadata": {},
     "output_type": "execute_result"
    },
    {
     "data": {
      "image/png": "[encoded data removed]",
      "text/plain": [
       "<Figure size 432x288 with 1 Axes>"
      ]
     },
     "metadata": {},
     "output_type": "display_data"
    }
   ],
   "source": [
    "fig, ax = plt.subplots()\n",
    "ax.hist(X_test.bid[(y_to_score==True)], bins=max(X_test.bid[(y_to_score==True)]), alpha=0.5, density=True)\n",
    "ax.hist(X_test.bid[(y_to_score==True)&(y_test==True)], bins=max(X_test.bid[(y_to_score==True)&(y_test==True)]), density=True, alpha=.5)\n",
    "ax.set_xlim(left=0, right=150)"
   ]
  },
  {
   "cell_type": "code",
   "execution_count": null,
   "metadata": {},
   "outputs": [],
   "source": []
  }
 ],
 "metadata": {
  "kernelspec": {
   "display_name": "Python 3",
   "language": "python",
   "name": "python3"
  },
  "language_info": {
   "codemirror_mode": {
    "name": "ipython",
    "version": 3
   },
   "file_extension": ".py",
   "mimetype": "text/x-python",
   "name": "python",
   "nbconvert_exporter": "python",
   "pygments_lexer": "ipython3",
   "version": "3.6.10"
  }
 },
 "nbformat": 4,
 "nbformat_minor": 4
}
