{
 "cells": [
  {
   "cell_type": "code",
   "execution_count": 19,
   "metadata": {},
   "outputs": [],
   "source": [
    "import requests\n",
    "import time\n",
    "from bs4 import BeautifulSoup\n",
    "import pymongo\n",
    "from backports import configparser\n",
    "import sys\n",
    "from ParseMongo import parse_auction_title\n",
    "from datetime import timedelta"
   ]
  },
  {
   "cell_type": "code",
   "execution_count": 20,
   "metadata": {},
   "outputs": [
    {
     "name": "stdout",
     "output_type": "stream",
     "text": [
      "200\n",
      "200\n"
     ]
    }
   ],
   "source": [
    "with requests.Session() as session:\n",
    "\n",
    "    payload = {}     \n",
    "    r = session.get(\"https://www.bidtracker.info/Account/Login\" )\n",
    "    print (r.status_code)\n",
    "    soup = BeautifulSoup(r.text, 'html.parser')\n",
    "    vs = soup.find(id='__VIEWSTATE')\n",
    "    vsg = soup.find(id='__VIEWSTATEGENERATOR')\n",
    "    ev = soup.find(id='__EVENTVALIDATION')\n",
    "    payload['__EVENTTARGET']=''\n",
    "    payload['__EVENTARGUMENT']='' \n",
    "    payload['__VIEWSTATE']=vs[\"value\"]\n",
    "    payload['__VIEWSTATEGENERATOR'] = vsg[\"value\"]\n",
    "    payload['__EVENTVALIDATION'] = ev[\"value\"]\n",
    "    payload['ctl00$MainContent$UserName'] = \"pkgalea\"\n",
    "    payload['ctl00$MainContent$Password'] = \"p3T3two8!\"\n",
    "    payload['ctl00$MainContent$ctl05'] = \"Log+in\"\n",
    "\n",
    "    time.sleep(2)\n",
    "    post = session.post(\"http://www.bidtracker.info/Account/Login\", data=payload)\n",
    "    print (post.status_code)\n",
    "    time.sleep(2)\n",
    "    r = session.get(\"http://www.bidtracker.info/AllAuctionsTable?site=quibids&future=true\")\n",
    "    soup = BeautifulSoup(r.text, 'html.parser')\n",
    "    soup.find_all(\"td-inner\")\n",
    "    \n",
    "    \n",
    "    \n",
    "    \n"
   ]
  },
  {
   "cell_type": "code",
   "execution_count": 36,
   "metadata": {},
   "outputs": [
    {
     "name": "stdout",
     "output_type": "stream",
     "text": [
      "$25 Home Depot Gift Card AND 20 Bids                                                                                                                                                                                                                                                                                                                                                                                                                                                                                                                                                                                                                                                                                                                                                                                                                                                                                                                                                                                                                             ($33.00)\n",
      "{'auction_id': '123850252', 'cash_value': 33, 'card_value': 25, 'card_type': 'Home Depot', 'bid_value': 20, 'limited_allowed': False}\n",
      "391\n",
      "**********\n",
      "$25 Shell Gift Card AND 30 Bids                                                                                                                                                                                                                                                                                                                                                                                                                                                                                                                                                                                                                                                                                                                                                                                                                                                                                                                                                                                                                                  ($37.00)\n",
      "{'auction_id': '172812135', 'cash_value': 37, 'card_value': 25, 'card_type': 'Shell', 'bid_value': 30, 'limited_allowed': True}\n",
      "668\n",
      "**********\n",
      "Bust One - Limit Buster!                                                                                                                                                                                                                                                                                                                                                                                                                                                                                                                                                                                                                                                                                                                                                                                                                                                                                                                                                                                                                                         ($25.00)\n",
      "what is this?\n",
      "**********\n",
      "50 Voucher Bids                                                                                                                                                                                                                                                                                                                                                                                                                                                                                                                                                                                                                                                                                                                                                                                                                                                                                                                                                                                                                                                  ($20.00)\n",
      "{'auction_id': '258266881', 'cash_value': 20, 'card_value': 0, 'card_type': 'None', 'bid_value': 50, 'limited_allowed': True}\n",
      "1221\n",
      "**********\n",
      "$25 Walmart Gift Card AND 20 Bids                                                                                                                                                                                                                                                                                                                                                                                                                                                                                                                                                                                                                                                                                                                                                                                                                                                                                                                                                                                                                                ($33.00)\n",
      "{'auction_id': '866073869', 'cash_value': 33, 'card_value': 25, 'card_type': 'Walmart', 'bid_value': 20, 'limited_allowed': False}\n",
      "1499\n",
      "**********\n",
      "$15 Walmart Gift Card AND 20 Bids                                                                                                                                                                                                                                                                                                                                                                                                                                                                                                                                                                                                                                                                                                                                                                                                                                                                                                                                                                                                                                ($23.00)\n",
      "{'auction_id': '409897071', 'cash_value': 23, 'card_value': 15, 'card_type': 'Walmart', 'bid_value': 20, 'limited_allowed': False}\n",
      "1775\n",
      "**********\n",
      "$50 Amazon Gift Card AND 30 Bids                                                                                                                                                                                                                                                                                                                                                                                                                                                                                                                                                                                                                                                                                                                                                                                                                                                                                                                                                                                                                                 ($62.00)\n",
      "{'auction_id': '316772109', 'cash_value': 62, 'card_value': 50, 'card_type': 'Amazon', 'bid_value': 30, 'limited_allowed': True}\n",
      "2052\n",
      "**********\n",
      "50 Voucher Bids                                                                                                                                                                                                                                                                                                                                                                                                                                                                                                                                                                                                                                                                                                                                                                                                                                                                                                                                                                                                                                                  ($20.00)\n",
      "{'auction_id': '180811322', 'cash_value': 20, 'card_value': 0, 'card_type': 'None', 'bid_value': 50, 'limited_allowed': True}\n",
      "2329\n",
      "**********\n",
      "25 Voucher Bids                                                                                                                                                                                                                                                                                                                                                                                                                                                                                                                                                                                                                                                                                                                                                                                                                                                                                                                                                                                                                                                  ($10.00)\n",
      "{'auction_id': '646672175', 'cash_value': 10, 'card_value': 0, 'card_type': 'None', 'bid_value': 25, 'limited_allowed': False}\n",
      "2605\n",
      "**********\n",
      "$25 Amazon Gift Card AND 30 Bids                                                                                                                                                                                                                                                                                                                                                                                                                                                                                                                                                                                                                                                                                                                                                                                                                                                                                                                                                                                                                                 ($37.00)\n",
      "{'auction_id': '999003949', 'cash_value': 37, 'card_value': 25, 'card_type': 'Amazon', 'bid_value': 30, 'limited_allowed': False}\n",
      "2883\n",
      "**********\n",
      "$10 Shell Gift Card                                                                                                                                                                                                                                                                                                                                                                                                                                                                                                                                                                                                                                                                                                                                                                                                                                                                                                                                                                                                                                              ($20.00)\n",
      "{'auction_id': '823346868', 'cash_value': 20, 'card_value': 10, 'card_type': 'Shell', 'bid_value': 0, 'limited_allowed': False}\n",
      "3436\n",
      "**********\n",
      "$25 Amazon Gift Card AND 20 Bids                                                                                                                                                                                                                                                                                                                                                                                                                                                                                                                                                                                                                                                                                                                                                                                                                                                                                                                                                                                                                                 ($33.00)\n",
      "{'auction_id': '529008246', 'cash_value': 33, 'card_value': 25, 'card_type': 'Amazon', 'bid_value': 20, 'limited_allowed': False}\n",
      "3575\n",
      "**********\n",
      "15 Voucher Bids                                                                                                                                                                                                                                                                                                                                                                                                                                                                                                                                                                                                                                                                                                                                                                                                                                                                                                                                                                                                                                                  ($6.00)\n",
      "{'auction_id': '273740696', 'cash_value': 6, 'card_value': 0, 'card_type': 'None', 'bid_value': 15, 'limited_allowed': True}\n"
     ]
    }
   ],
   "source": [
    "    soup = BeautifulSoup(r.text, 'html.parser')\n",
    "    upcoming_auctions = []\n",
    "    for tr in soup.find_all(\"tr\", {\"class\": \"tr-inner\"}):\n",
    "        tds = tr.find_all(\"td\")\n",
    "        auction_id = tds[1].find(\"a\").text\n",
    "        description = tds[2].text\n",
    "        limited_allowed = description[0].startswith('L')\n",
    "        if (limited_allowed):\n",
    "            description=description[1:]\n",
    "        print(description)\n",
    "        cash_value, card_value, card_type, bid_value = parse_auction_title(description)\n",
    "        if (cash_value):\n",
    "            time_str = tds[3].text\n",
    "            if time_str.startswith(\"00\"):\n",
    "                t = time.strptime(tds[3].text, \"%H:%M:%S\")\n",
    "                print(t.tm_min*60+t.tm_sec)\n",
    "            else:\n",
    "                break\n",
    "\n",
    "            auction_dict = {\n",
    "                \"auction_id\": auction_id,\n",
    "                \"cash_value\": int(float(cash_value)),\n",
    "                \"card_value\": int(card_value[1:]),\n",
    "                \"card_type\": card_type,\n",
    "                \"bid_value\": int(bid_value),\n",
    "                \"limited_allowed\": limited_allowed,\n",
    "            }\n",
    "            print (auction_dict)\n",
    "\n",
    "            #delta = timedelta(hours=t.hour, minutes=t.minute, seconds=t.second)\n",
    "                print(t.tm_min*60+t.tm_sec)\n",
    "\n",
    "        print(\"**********\")\n",
    "\n",
    "    "
   ]
  },
  {
   "cell_type": "code",
   "execution_count": null,
   "metadata": {},
   "outputs": [],
   "source": []
  },
  {
   "cell_type": "code",
   "execution_count": null,
   "metadata": {},
   "outputs": [],
   "source": []
  }
 ],
 "metadata": {
  "kernelspec": {
   "display_name": "Python 3",
   "language": "python",
   "name": "python3"
  },
  "language_info": {
   "codemirror_mode": {
    "name": "ipython",
    "version": 3
   },
   "file_extension": ".py",
   "mimetype": "text/x-python",
   "name": "python",
   "nbconvert_exporter": "python",
   "pygments_lexer": "ipython3",
   "version": "3.7.4"
  }
 },
 "nbformat": 4,
 "nbformat_minor": 2
}
