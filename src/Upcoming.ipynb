{
 "cells": [
  {
   "cell_type": "code",
   "execution_count": 1,
   "metadata": {},
   "outputs": [],
   "source": [
    "import requests\n",
    "import time\n",
    "from bs4 import BeautifulSoup\n",
    "import pymongo\n",
    "from backports import configparser\n",
    "import sys\n",
    "from ParseMongo import MongoParser\n",
    "from datetime import timedelta\n",
    "from  BidTrackerScraper import BidTrackerScraper\n",
    "from selenium import webdriver"
   ]
  },
  {
   "cell_type": "code",
   "execution_count": 54,
   "metadata": {},
   "outputs": [
    {
     "name": "stdout",
     "output_type": "stream",
     "text": [
      "200\n",
      "200\n"
     ]
    }
   ],
   "source": [
    "bts = BidTrackerScraper() \n",
    "bts.login(2)"
   ]
  },
  {
   "cell_type": "code",
   "execution_count": 55,
   "metadata": {
    "scrolled": false
   },
   "outputs": [
    {
     "name": "stdout",
     "output_type": "stream",
     "text": [
      "531\n",
      "664\n",
      "797\n",
      "931\n",
      "1064\n",
      "1197\n",
      "1331\n",
      "1464\n",
      "1597\n",
      "1731\n",
      "1864\n",
      "1997\n",
      "2131\n",
      "2264\n",
      "2397\n",
      "2531\n",
      "2664\n",
      "2797\n",
      "36.00\n",
      "2931\n",
      "what is this?\n",
      "3197\n",
      "3331\n",
      "3447\n",
      "3563\n"
     ]
    }
   ],
   "source": [
    "mp = MongoParser()\n",
    "upcoming_auctions = mp.parse_upcoming_auction_page(bts.scrape_upcoming_auctions())"
   ]
  },
  {
   "cell_type": "code",
   "execution_count": 57,
   "metadata": {},
   "outputs": [
    {
     "data": {
      "text/plain": [
       "[{'auction_id': '527808881',\n",
       "  'cash_value': 18,\n",
       "  'card_value': 10,\n",
       "  'card_type': 'Walmart',\n",
       "  'bid_value': 20,\n",
       "  'limited_allowed': True,\n",
       "  'seconds_left': 531},\n",
       " {'auction_id': '300717829',\n",
       "  'cash_value': 64,\n",
       "  'card_value': 50,\n",
       "  'card_type': 'Shell',\n",
       "  'bid_value': 0,\n",
       "  'limited_allowed': False,\n",
       "  'seconds_left': 664},\n",
       " {'auction_id': '634391050',\n",
       "  'cash_value': 33,\n",
       "  'card_value': 25,\n",
       "  'card_type': 'Amazon',\n",
       "  'bid_value': 20,\n",
       "  'limited_allowed': False,\n",
       "  'seconds_left': 797},\n",
       " {'auction_id': '687423539',\n",
       "  'cash_value': 20,\n",
       "  'card_value': 0,\n",
       "  'card_type': 'None',\n",
       "  'bid_value': 50,\n",
       "  'limited_allowed': True,\n",
       "  'seconds_left': 931},\n",
       " {'auction_id': '882088151',\n",
       "  'cash_value': 40,\n",
       "  'card_value': 0,\n",
       "  'card_type': 'None',\n",
       "  'bid_value': 100,\n",
       "  'limited_allowed': False,\n",
       "  'seconds_left': 1064},\n",
       " {'auction_id': '218474883',\n",
       "  'cash_value': 21,\n",
       "  'card_value': 15,\n",
       "  'card_type': 'Walmart',\n",
       "  'bid_value': 0,\n",
       "  'limited_allowed': False,\n",
       "  'seconds_left': 1197},\n",
       " {'auction_id': '762853388',\n",
       "  'cash_value': 33,\n",
       "  'card_value': 25,\n",
       "  'card_type': 'Shell',\n",
       "  'bid_value': 20,\n",
       "  'limited_allowed': False,\n",
       "  'seconds_left': 1331},\n",
       " {'auction_id': '131049656',\n",
       "  'cash_value': 33,\n",
       "  'card_value': 25,\n",
       "  'card_type': 'Target',\n",
       "  'bid_value': 20,\n",
       "  'limited_allowed': True,\n",
       "  'seconds_left': 1464},\n",
       " {'auction_id': '723213387',\n",
       "  'cash_value': 20,\n",
       "  'card_value': 0,\n",
       "  'card_type': 'None',\n",
       "  'bid_value': 50,\n",
       "  'limited_allowed': False,\n",
       "  'seconds_left': 1597},\n",
       " {'auction_id': '690751192',\n",
       "  'cash_value': 6,\n",
       "  'card_value': 0,\n",
       "  'card_type': 'None',\n",
       "  'bid_value': 15,\n",
       "  'limited_allowed': True,\n",
       "  'seconds_left': 1731},\n",
       " {'auction_id': '172189068',\n",
       "  'cash_value': 20,\n",
       "  'card_value': 10,\n",
       "  'card_type': 'Shell',\n",
       "  'bid_value': 0,\n",
       "  'limited_allowed': False,\n",
       "  'seconds_left': 1864},\n",
       " {'auction_id': '199254227',\n",
       "  'cash_value': 6,\n",
       "  'card_value': 0,\n",
       "  'card_type': 'None',\n",
       "  'bid_value': 15,\n",
       "  'limited_allowed': False,\n",
       "  'seconds_left': 1997},\n",
       " {'auction_id': '736778938',\n",
       "  'cash_value': 62,\n",
       "  'card_value': 50,\n",
       "  'card_type': 'Amazon',\n",
       "  'bid_value': 30,\n",
       "  'limited_allowed': False,\n",
       "  'seconds_left': 2131},\n",
       " {'auction_id': '180146622',\n",
       "  'cash_value': 62,\n",
       "  'card_value': 50,\n",
       "  'card_type': 'Shell',\n",
       "  'bid_value': 30,\n",
       "  'limited_allowed': False,\n",
       "  'seconds_left': 2264},\n",
       " {'auction_id': '777140878',\n",
       "  'cash_value': 10,\n",
       "  'card_value': 0,\n",
       "  'card_type': 'None',\n",
       "  'bid_value': 25,\n",
       "  'limited_allowed': True,\n",
       "  'seconds_left': 2397},\n",
       " {'auction_id': '753918614',\n",
       "  'cash_value': 62,\n",
       "  'card_value': 50,\n",
       "  'card_type': 'Walmart',\n",
       "  'bid_value': 30,\n",
       "  'limited_allowed': True,\n",
       "  'seconds_left': 2531},\n",
       " {'auction_id': '858123918',\n",
       "  'cash_value': 10,\n",
       "  'card_value': 0,\n",
       "  'card_type': 'None',\n",
       "  'bid_value': 25,\n",
       "  'limited_allowed': False,\n",
       "  'seconds_left': 2664},\n",
       " {'auction_id': '134154151',\n",
       "  'cash_value': 37,\n",
       "  'card_value': 25,\n",
       "  'card_type': 'Amazon',\n",
       "  'bid_value': 30,\n",
       "  'limited_allowed': False,\n",
       "  'seconds_left': 2797},\n",
       " {'auction_id': '809100225',\n",
       "  'cash_value': 36,\n",
       "  'card_value': 0,\n",
       "  'card_type': 'Buster',\n",
       "  'bid_value': 15,\n",
       "  'limited_allowed': False,\n",
       "  'seconds_left': 2931},\n",
       " {'auction_id': '240805489',\n",
       "  'cash_value': 23,\n",
       "  'card_value': 15,\n",
       "  'card_type': 'Walmart',\n",
       "  'bid_value': 20,\n",
       "  'limited_allowed': False,\n",
       "  'seconds_left': 3197},\n",
       " {'auction_id': '411420322',\n",
       "  'cash_value': 33,\n",
       "  'card_value': 25,\n",
       "  'card_type': 'Walmart',\n",
       "  'bid_value': 20,\n",
       "  'limited_allowed': False,\n",
       "  'seconds_left': 3331},\n",
       " {'auction_id': '739546779',\n",
       "  'cash_value': 37,\n",
       "  'card_value': 25,\n",
       "  'card_type': 'Amazon',\n",
       "  'bid_value': 30,\n",
       "  'limited_allowed': False,\n",
       "  'seconds_left': 3447},\n",
       " {'auction_id': '832397210',\n",
       "  'cash_value': 20,\n",
       "  'card_value': 0,\n",
       "  'card_type': 'None',\n",
       "  'bid_value': 50,\n",
       "  'limited_allowed': False,\n",
       "  'seconds_left': 3563}]"
      ]
     },
     "execution_count": 57,
     "metadata": {},
     "output_type": "execute_result"
    }
   ],
   "source": [
    "upcoming_auctions"
   ]
  },
  {
   "cell_type": "code",
   "execution_count": 58,
   "metadata": {},
   "outputs": [],
   "source": [
    "driver = webdriver.Chrome()\n",
    "driver.get (\"http://quibids.com/en/\")"
   ]
  },
  {
   "cell_type": "code",
   "execution_count": 59,
   "metadata": {},
   "outputs": [
    {
     "name": "stdout",
     "output_type": "stream",
     "text": [
      "527808881\n",
      "1\n",
      "300717829\n",
      "1\n",
      "634391050\n",
      "1\n",
      "687423539\n",
      "1\n",
      "882088151\n",
      "1\n",
      "218474883\n",
      "1\n",
      "762853388\n",
      "1\n",
      "131049656\n",
      "1\n",
      "723213387\n",
      "1\n",
      "690751192\n",
      "172189068\n",
      "1\n",
      "199254227\n",
      "736778938\n",
      "180146622\n",
      "777140878\n",
      "753918614\n",
      "858123918\n",
      "134154151\n",
      "809100225\n",
      "240805489\n",
      "411420322\n"
     ]
    }
   ],
   "source": [
    "for auction in upcoming_auctions:\n",
    "    if (auction[\"seconds_left\"] < 3400):\n",
    "        print(auction[\"auction_id\"])\n",
    "        elems = driver.find_elements_by_id(auction[\"auction_id\"])\n",
    "        for element in elems:\n",
    "            print(len(elems))\n",
    "            #elems[0].click()\n",
    "           \n",
    "    \n",
    "    "
   ]
  },
  {
   "cell_type": "code",
   "execution_count": 10,
   "metadata": {},
   "outputs": [
    {
     "ename": "NameError",
     "evalue": "name 'elem' is not defined",
     "output_type": "error",
     "traceback": [
      "\u001b[0;31m---------------------------------------------------------------------------\u001b[0m",
      "\u001b[0;31mNameError\u001b[0m                                 Traceback (most recent call last)",
      "\u001b[0;32m<ipython-input-10-744e15b27f05>\u001b[0m in \u001b[0;36m<module>\u001b[0;34m\u001b[0m\n\u001b[0;32m----> 1\u001b[0;31m \u001b[0melem\u001b[0m\u001b[0;34m.\u001b[0m\u001b[0mtext\u001b[0m\u001b[0;34m\u001b[0m\u001b[0;34m\u001b[0m\u001b[0m\n\u001b[0m\u001b[1;32m      2\u001b[0m \u001b[0;34m\u001b[0m\u001b[0m\n",
      "\u001b[0;31mNameError\u001b[0m: name 'elem' is not defined"
     ]
    }
   ],
   "source": [
    "\n",
    "elem.text\n",
    "    "
   ]
  },
  {
   "cell_type": "code",
   "execution_count": null,
   "metadata": {},
   "outputs": [],
   "source": []
  },
  {
   "cell_type": "code",
   "execution_count": null,
   "metadata": {},
   "outputs": [],
   "source": []
  }
 ],
 "metadata": {
  "kernelspec": {
   "display_name": "Python 3",
   "language": "python",
   "name": "python3"
  },
  "language_info": {
   "codemirror_mode": {
    "name": "ipython",
    "version": 3
   },
   "file_extension": ".py",
   "mimetype": "text/x-python",
   "name": "python",
   "nbconvert_exporter": "python",
   "pygments_lexer": "ipython3",
   "version": "3.7.4"
  }
 },
 "nbformat": 4,
 "nbformat_minor": 2
}
