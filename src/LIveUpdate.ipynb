{
 "cells": [
  {
   "cell_type": "code",
   "execution_count": 1,
   "metadata": {},
   "outputs": [],
   "source": [
    "from LiveAuctionProcessor import LiveAuctionProcessor"
   ]
  },
  {
   "cell_type": "code",
   "execution_count": 9,
   "metadata": {
    "scrolled": false
   },
   "outputs": [],
   "source": [
    "auction_dict = {\"auction_id\":'210202139'}\n",
    "lap = LiveAuctionProcessor(auction_dict)\n"
   ]
  },
  {
   "cell_type": "code",
   "execution_count": 10,
   "metadata": {},
   "outputs": [
    {
     "name": "stdout",
     "output_type": "stream",
     "text": [
      "5e554272b38ba1a5c05c4c9a\n",
      "<pymongo.results.DeleteResult object at 0x7f0db4c3d320>\n",
      "[{'bid': 54, 'usename': 'BIDTOBUYCSM', 'is_bidomatic': False}]\n",
      "5e554278b38ba1a5c05c4c9b\n",
      "<pymongo.results.DeleteResult object at 0x7f0db4c25fa0>\n",
      "[{'bid': 54, 'usename': 'BIDTOBUYCSM', 'is_bidomatic': False}, {'bid': 55, 'usename': 'thelablady', 'is_bidomatic': True}]\n",
      "5e554282b38ba1a5c05c4c9c\n",
      "<pymongo.results.DeleteResult object at 0x7f0db4c257d0>\n",
      "[{'bid': 54, 'usename': 'BIDTOBUYCSM', 'is_bidomatic': False}, {'bid': 55, 'usename': 'thelablady', 'is_bidomatic': True}, {'bid': 56, 'usename': 'BIDTOBUYCSM', 'is_bidomatic': False}]\n",
      "5e554284b38ba1a5c05c4c9d\n",
      "<pymongo.results.DeleteResult object at 0x7f0db4c251e0>\n",
      "[{'bid': 54, 'usename': 'BIDTOBUYCSM', 'is_bidomatic': False}, {'bid': 55, 'usename': 'thelablady', 'is_bidomatic': True}, {'bid': 56, 'usename': 'BIDTOBUYCSM', 'is_bidomatic': False}, {'bid': 57, 'usename': 'thelablady', 'is_bidomatic': True}]\n",
      "5e55428fb38ba1a5c05c4c9e\n",
      "<pymongo.results.DeleteResult object at 0x7f0db4c6d9b0>\n",
      "[{'bid': 54, 'usename': 'BIDTOBUYCSM', 'is_bidomatic': False}, {'bid': 55, 'usename': 'thelablady', 'is_bidomatic': True}, {'bid': 56, 'usename': 'BIDTOBUYCSM', 'is_bidomatic': False}, {'bid': 57, 'usename': 'thelablady', 'is_bidomatic': True}, {'bid': 58, 'usename': 'BIDTOBUYCSM', 'is_bidomatic': False}]\n"
     ]
    }
   ],
   "source": [
    "lap.update()"
   ]
  },
  {
   "cell_type": "code",
   "execution_count": null,
   "metadata": {},
   "outputs": [],
   "source": []
  },
  {
   "cell_type": "code",
   "execution_count": null,
   "metadata": {},
   "outputs": [],
   "source": []
  }
 ],
 "metadata": {
  "kernelspec": {
   "display_name": "Python 3",
   "language": "python",
   "name": "python3"
  },
  "language_info": {
   "codemirror_mode": {
    "name": "ipython",
    "version": 3
   },
   "file_extension": ".py",
   "mimetype": "text/x-python",
   "name": "python",
   "nbconvert_exporter": "python",
   "pygments_lexer": "ipython3",
   "version": "3.7.4"
  }
 },
 "nbformat": 4,
 "nbformat_minor": 2
}
