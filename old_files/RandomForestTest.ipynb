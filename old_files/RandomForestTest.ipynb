{
 "cells": [
  {
   "cell_type": "code",
   "execution_count": 1,
   "metadata": {},
   "outputs": [],
   "source": [
    "import pandas as pd\n",
    "import psycopg2 as pg2\n",
    "import matplotlib.pyplot as plt\n",
    "plt.style.use('ggplot')\n",
    "from sklearn.tree import DecisionTreeClassifier\n",
    "from sklearn.ensemble import RandomForestClassifier, GradientBoostingClassifier\n",
    "from pandas.plotting import scatter_matrix\n",
    "from sklearn.model_selection import train_test_split, GridSearchCV\n",
    "from sklearn.pipeline import Pipeline\n",
    "from sklearn.metrics import auc, confusion_matrix, precision_score, recall_score, accuracy_score, roc_curve\n",
    "from sklearn.preprocessing import OneHotEncoder,StandardScaler\n",
    "from sklearn.impute import SimpleImputer\n",
    "from sklearn.compose import ColumnTransformer\n",
    "from imblearn.under_sampling import RandomUnderSampler, NearMiss\n",
    "from imblearn.pipeline import Pipeline as Pipeline_imb\n",
    "import numpy as np\n",
    "\n",
    "\n"
   ]
  },
  {
   "cell_type": "code",
   "execution_count": 2,
   "metadata": {},
   "outputs": [],
   "source": [
    "def get_column_names_from_ColumnTransformer(column_transformer):    \n",
    "    col_name = []\n",
    "    for transformer_in_columns in column_transformer.transformers_[:-1]:#the last transformer is ColumnTransformer's 'remainder'\n",
    "        raw_col_name = transformer_in_columns[2]\n",
    "        if isinstance(transformer_in_columns[1],Pipeline): \n",
    "            transformer = transformer_in_columns[1].steps[-1][1]\n",
    "        else:\n",
    "            transformer = transformer_in_columns[1]\n",
    "        try:\n",
    "            names = transformer.get_feature_names()\n",
    "        except AttributeError: # if no 'get_feature_names' function, use raw column name\n",
    "            names = raw_col_name\n",
    "        if isinstance(names,np.ndarray): # eg.\n",
    "            col_name += names.tolist()\n",
    "        elif isinstance(names,list):\n",
    "            col_name += names    \n",
    "        elif isinstance(names,str):\n",
    "            col_name.append(names)\n",
    "    return col_name"
   ]
  },
  {
   "cell_type": "code",
   "execution_count": 3,
   "metadata": {},
   "outputs": [],
   "source": [
    "conn = pg2.connect(user='postgres',  dbname='penny', host='localhost', port='5432', password='')\n",
    "df = pd.read_sql (\"\"\"Select * from auction_full WHERE bid > 0\"\"\", conn)\n",
    "df_backup = df.copy()"
   ]
  },
  {
   "cell_type": "code",
   "execution_count": 18,
   "metadata": {},
   "outputs": [],
   "source": [
    "df = df_backup.copy()"
   ]
  },
  {
   "cell_type": "code",
   "execution_count": 19,
   "metadata": {},
   "outputs": [
    {
     "data": {
      "text/plain": [
       "Index(['auctionid', 'is_winner', 'cardtype', 'cashvalue', 'cardvalue', 'fee',\n",
       "       'bidvalue', 'limited_allowed', 'is_locked', 'auctiontime', 'bid',\n",
       "       'is_bidomatic', 'bids_so_far', 'username', 'prevusers', 'username0',\n",
       "       'distance0', 'is_bidomatic0', 'bids_so_far0', 'bom_bids_so_far0',\n",
       "       'bom_streak0', 'perc_to_bin0', 'prev_win_bids0', 'username1',\n",
       "       'distance1', 'is_bidomatic1', 'bids_so_far1', 'bom_bids_so_far1',\n",
       "       'bom_streak1', 'perc_to_bin1', 'prev_win_bids1', 'username2',\n",
       "       'distance2', 'is_bidomatic2', 'bids_so_far2', 'bom_bids_so_far2',\n",
       "       'bom_streak2', 'perc_to_bin2', 'prev_win_bids2', 'username3',\n",
       "       'distance3', 'is_bidomatic3', 'bids_so_far3', 'bom_bids_so_far3',\n",
       "       'bom_streak3', 'perc_to_bin3', 'prev_win_bids3'],\n",
       "      dtype='object')"
      ]
     },
     "execution_count": 19,
     "metadata": {},
     "output_type": "execute_result"
    }
   ],
   "source": [
    "df.columns"
   ]
  },
  {
   "cell_type": "code",
   "execution_count": 20,
   "metadata": {},
   "outputs": [],
   "source": [
    "df.is_bidomatic0 = df.is_bidomatic0.astype(str)\n",
    "df.is_bidomatic1 = df.is_bidomatic1.astype(str)\n",
    "df.is_bidomatic2 = df.is_bidomatic2.astype(str)\n",
    "df.is_bidomatic3 = df.is_bidomatic3.astype(str)\n",
    "#df[\"percent_near_bin0\"] = df[\"bids_so_far0\"]/(df[\"cashvalue\"]*2.5)\n",
    "#df[\"percent_near_bin1\"] = df[\"bids_so_far1\"]/(df[\"cashvalue\"]*2.5)\n",
    "#df[\"percent_near_bin2\"] = df[\"bids_so_far2\"]/(df[\"cashvalue\"]*2.5)\n",
    "#df[\"percent_near_bin3\"] = df[\"bids_so_far3\"]/(df[\"cashvalue\"]*2.5)\n",
    "#df[df[\"is_bidomatic0\"]==False].streak0 = 0\n",
    "#df[df[\"is_bidomatic1\"]==False].streak1 = 0\n",
    "#df[df[\"is_bidomatic2\"]==False].streak2 = 0\n",
    "#df[df[\"is_bidomatic3\"]==False].streak3 = 0\n",
    "df[\"fee\"]=[0 if x == 0 else (1 if x < 50 else 1.99) for x in df[\"cardvalue\"]]\n",
    "df[\"time_of_day\"]=[x.hour*60+x.minute for x in df[\"auctiontime\"]]\n"
   ]
  },
  {
   "cell_type": "code",
   "execution_count": 21,
   "metadata": {},
   "outputs": [],
   "source": [
    "\n",
    "\n",
    "y = df.pop('is_winner')\n",
    "X = df\n",
    "X_train, X_test, y_train, y_test = train_test_split(X, y, random_state=0) \n"
   ]
  },
  {
   "cell_type": "code",
   "execution_count": 8,
   "metadata": {},
   "outputs": [],
   "source": [
    "categorical_features = ['cardtype', 'limited_allowed', 'is_locked', 'is_bidomatic', 'is_bidomatic0', 'is_bidomatic1', 'is_bidomatic2', 'is_bidomatic3']\n",
    "numeric_features = ['cashvalue','bidvalue', 'prevusers', \n",
    "                     'bids_so_far0', 'bom_streak0', 'perc_to_bin0',\n",
    "                    'distance1', 'bids_so_far1', 'bom_streak1', 'perc_to_bin1',\n",
    "                    'distance2', 'bids_so_far2', 'bom_streak2', 'perc_to_bin2',\n",
    "                    'distance3', 'bids_so_far3', 'bom_streak3', 'perc_to_bin3', 'time_of_day']\n",
    "numeric_transformer = Pipeline_imb(steps=[\n",
    "    ('imputer', SimpleImputer(strategy='constant', fill_value=-1)),\n",
    "])\n",
    "categorical_transformer = Pipeline_imb(steps=[\n",
    "    ('imputer', SimpleImputer(strategy='constant', fill_value='unknown')),\n",
    "    ('onehot', OneHotEncoder(handle_unknown='error', drop='first'))])\n",
    "preprocessor = ColumnTransformer(\n",
    "    transformers=[\n",
    "        ('num', numeric_transformer, numeric_features),\n",
    "        ('cat', categorical_transformer, categorical_features)])\n",
    "model = Pipeline_imb(steps=[('preprocessor', preprocessor),\n",
    "                        ('sampler', RandomUnderSampler()),\n",
    "                      ('classifier', RandomForestClassifier())])\n"
   ]
  },
  {
   "cell_type": "code",
   "execution_count": 9,
   "metadata": {},
   "outputs": [
    {
     "name": "stderr",
     "output_type": "stream",
     "text": [
      "/home/pkgalea/anaconda3/lib/python3.7/site-packages/sklearn/ensemble/forest.py:245: FutureWarning: The default value of n_estimators will change from 10 in version 0.20 to 100 in 0.22.\n",
      "  \"10 in version 0.20 to 100 in 0.22.\", FutureWarning)\n"
     ]
    },
    {
     "data": {
      "text/plain": [
       "Pipeline(memory=None,\n",
       "         steps=[('preprocessor',\n",
       "                 ColumnTransformer(n_jobs=None, remainder='drop',\n",
       "                                   sparse_threshold=0.3,\n",
       "                                   transformer_weights=None,\n",
       "                                   transformers=[('num',\n",
       "                                                  Pipeline(memory=None,\n",
       "                                                           steps=[('imputer',\n",
       "                                                                   SimpleImputer(add_indicator=False,\n",
       "                                                                                 copy=True,\n",
       "                                                                                 fill_value=-1,\n",
       "                                                                                 missing_values=nan,\n",
       "                                                                                 strategy='constant',\n",
       "                                                                                 verbose=0))],\n",
       "                                                           verbose=False),\n",
       "                                                  ['cashvalue', 'bidvalue',\n",
       "                                                   'pre...\n",
       "                 RandomForestClassifier(bootstrap=True, class_weight=None,\n",
       "                                        criterion='gini', max_depth=None,\n",
       "                                        max_features='auto',\n",
       "                                        max_leaf_nodes=None,\n",
       "                                        min_impurity_decrease=0.0,\n",
       "                                        min_impurity_split=None,\n",
       "                                        min_samples_leaf=1, min_samples_split=2,\n",
       "                                        min_weight_fraction_leaf=0.0,\n",
       "                                        n_estimators=10, n_jobs=None,\n",
       "                                        oob_score=False, random_state=None,\n",
       "                                        verbose=0, warm_start=False))],\n",
       "         verbose=False)"
      ]
     },
     "execution_count": 9,
     "metadata": {},
     "output_type": "execute_result"
    }
   ],
   "source": [
    "model.fit(X_train, y_train)"
   ]
  },
  {
   "cell_type": "code",
   "execution_count": 10,
   "metadata": {
    "scrolled": false
   },
   "outputs": [
    {
     "data": {
      "image/png": "[encoded data removed]",
      "text/plain": [
       "<Figure size 720x576 with 1 Axes>"
      ]
     },
     "metadata": {
      "needs_background": "light"
     },
     "output_type": "display_data"
    }
   ],
   "source": [
    "# Plot the feature importance\n",
    "feat_scores = pd.Series(model.steps[2][1].feature_importances_,\n",
    "                           index=get_column_names_from_ColumnTransformer(model.named_steps['preprocessor']))\n",
    "feat_scores = feat_scores.sort_values()\n",
    "ax = feat_scores.plot(kind='barh', \n",
    "                      figsize=(10,8),\n",
    "                      color='b')\n",
    "ax.set_title('Average Gini Importance')\n",
    "ax.set_xlabel('Average contribution to information gain');"
   ]
  },
  {
   "cell_type": "code",
   "execution_count": 11,
   "metadata": {
    "scrolled": true
   },
   "outputs": [],
   "source": [
    "probs = model.predict_proba(X_test)[:,1]\n",
    "threshes = sorted(probs)"
   ]
  },
  {
   "cell_type": "code",
   "execution_count": 12,
   "metadata": {},
   "outputs": [
    {
     "name": "stdout",
     "output_type": "stream",
     "text": [
      "*****************************\n",
      "thresh: 0.5\n",
      "Accuracy 0.7550341660652258: Precision: 0.007576798845440176  Recall:0.6142061281337048 \n",
      "[[178450  57763]\n",
      " [   277    441]]\n",
      "profit: -4605.470000000003\n",
      "profit per bid: -0.019438022040172045\n",
      "*****************************\n",
      "\n",
      "*****************************\n",
      "thresh: 0.55\n",
      "Accuracy 0.7550341660652258: Precision: 0.007576798845440176  Recall:0.6142061281337048 \n",
      "[[178450  57763]\n",
      " [   277    441]]\n",
      "profit: -4605.470000000003\n",
      "profit per bid: -0.019438022040172045\n",
      "*****************************\n",
      "\n",
      "*****************************\n",
      "thresh: 0.6000000000000001\n",
      "Accuracy 0.837771334270315: Precision: 0.008649662611051767  Recall:0.4623955431754875 \n",
      "[[198162  38051]\n",
      " [   386    332]]\n",
      "profit: -2230.720000000001\n",
      "profit per bid: -0.009415061769038249\n",
      "*****************************\n",
      "\n",
      "*****************************\n",
      "thresh: 0.6500000000000001\n",
      "Accuracy 0.837771334270315: Precision: 0.008649662611051767  Recall:0.4623955431754875 \n",
      "[[198162  38051]\n",
      " [   386    332]]\n",
      "profit: -2230.720000000001\n",
      "profit per bid: -0.009415061769038249\n",
      "*****************************\n",
      "\n",
      "*****************************\n",
      "thresh: 0.7000000000000002\n",
      "Accuracy 0.9002747635387518: Precision: 0.01063738892686261  Recall:0.3467966573816156 \n",
      "[[213054  23159]\n",
      " [   469    249]]\n",
      "profit: -8.980000000001041\n",
      "profit per bid: -3.7901329923062166e-05\n",
      "*****************************\n",
      "\n",
      "*****************************\n",
      "thresh: 0.7500000000000002\n",
      "Accuracy 0.9002747635387518: Precision: 0.01063738892686261  Recall:0.3467966573816156 \n",
      "[[213054  23159]\n",
      " [   469    249]]\n",
      "profit: -8.980000000001041\n",
      "profit per bid: -3.7901329923062166e-05\n",
      "*****************************\n",
      "\n",
      "*****************************\n",
      "thresh: 0.8000000000000003\n",
      "Accuracy 0.9469719032123276: Precision: 0.013151405556468848  Recall:0.22284122562674094 \n",
      "[[224207  12006]\n",
      " [   558    160]]\n",
      "profit: 788.2399999999994\n",
      "profit per bid: 0.0033268757570769527\n",
      "*****************************\n",
      "\n",
      "*****************************\n",
      "thresh: 0.8500000000000003\n",
      "Accuracy 0.9469719032123276: Precision: 0.013151405556468848  Recall:0.22284122562674094 \n",
      "[[224207  12006]\n",
      " [   558    160]]\n",
      "profit: 788.2399999999994\n",
      "profit per bid: 0.0033268757570769527\n",
      "*****************************\n",
      "\n",
      "*****************************\n",
      "thresh: 0.9000000000000004\n",
      "Accuracy 0.9797198340445108: Precision: 0.01678883896902341  Recall:0.0988857938718663 \n",
      "[[232055   4158]\n",
      " [   647     71]]\n",
      "profit: 536.2399999999998\n",
      "profit per bid: 0.0022632749619087406\n",
      "*****************************\n",
      "\n",
      "*****************************\n",
      "thresh: 0.9500000000000004\n",
      "Accuracy 0.9797198340445108: Precision: 0.01678883896902341  Recall:0.0988857938718663 \n",
      "[[232055   4158]\n",
      " [   647     71]]\n",
      "profit: 536.2399999999998\n",
      "profit per bid: 0.0022632749619087406\n",
      "*****************************\n",
      "\n"
     ]
    }
   ],
   "source": [
    "for thresh in np.arange(.5, 1,  .05):\n",
    "    y_pred = probs > thresh\n",
    "    cm = confusion_matrix(y_test, y_pred)\n",
    "    print(\"*****************************\")\n",
    "    print(\"thresh:\", thresh)\n",
    "    print (\"Accuracy {}: Precision: {}  Recall:{} \".format(accuracy_score(y_test, y_pred), precision_score(y_test, y_pred), recall_score(y_test, y_pred)))\n",
    "    print(cm)\n",
    "    true_positive_mask = (y_pred==True)&(y_test==True)\n",
    "    profit = sum(X_test.cashvalue[true_positive_mask])-sum(y_pred)*.40 - sum(X_test.fee[true_positive_mask]) - sum(X_test.bid[true_positive_mask])/100\n",
    "    profit_per_bid = profit/len(y_pred)\n",
    "    print(\"profit:\", profit)\n",
    "    print(\"profit per bid:\", profit_per_bid)\n",
    "    print(\"*****************************\")\n",
    "    print(\"\")\n",
    "\n",
    "    \n"
   ]
  },
  {
   "cell_type": "code",
   "execution_count": 13,
   "metadata": {},
   "outputs": [
    {
     "ename": "NameError",
     "evalue": "name 'true_postive_mask' is not defined",
     "output_type": "error",
     "traceback": [
      "\u001b[0;31m---------------------------------------------------------------------------\u001b[0m",
      "\u001b[0;31mNameError\u001b[0m                                 Traceback (most recent call last)",
      "\u001b[0;32m<ipython-input-13-a3f36548dedd>\u001b[0m in \u001b[0;36m<module>\u001b[0;34m\u001b[0m\n\u001b[0;32m----> 1\u001b[0;31m \u001b[0mplt\u001b[0m\u001b[0;34m.\u001b[0m\u001b[0mhist\u001b[0m\u001b[0;34m(\u001b[0m\u001b[0mX_test\u001b[0m\u001b[0;34m.\u001b[0m\u001b[0mbid\u001b[0m\u001b[0;34m[\u001b[0m\u001b[0mtrue_postive_mask\u001b[0m\u001b[0;34m]\u001b[0m\u001b[0;34m,\u001b[0m \u001b[0mbins\u001b[0m\u001b[0;34m=\u001b[0m\u001b[0mmax\u001b[0m\u001b[0;34m(\u001b[0m\u001b[0mX_test\u001b[0m\u001b[0;34m.\u001b[0m\u001b[0mbid\u001b[0m\u001b[0;34m[\u001b[0m\u001b[0mtrue_postive_mask\u001b[0m\u001b[0;34m]\u001b[0m\u001b[0;34m)\u001b[0m\u001b[0;34m)\u001b[0m\u001b[0;34m\u001b[0m\u001b[0;34m\u001b[0m\u001b[0m\n\u001b[0m",
      "\u001b[0;31mNameError\u001b[0m: name 'true_postive_mask' is not defined"
     ]
    }
   ],
   "source": [
    "plt.hist(X_test.bid[true_postive_mask], bins=max(X_test.bid[true_postive_mask]))"
   ]
  },
  {
   "cell_type": "code",
   "execution_count": null,
   "metadata": {},
   "outputs": [],
   "source": []
  },
  {
   "cell_type": "code",
   "execution_count": null,
   "metadata": {},
   "outputs": [],
   "source": [
    "probs"
   ]
  },
  {
   "cell_type": "code",
   "execution_count": null,
   "metadata": {},
   "outputs": [],
   "source": [
    "df.groupby(\"cardvalue\").mean()"
   ]
  },
  {
   "cell_type": "code",
   "execution_count": null,
   "metadata": {},
   "outputs": [],
   "source": [
    "X_test[true_positive_mask]"
   ]
  },
  {
   "cell_type": "code",
   "execution_count": null,
   "metadata": {},
   "outputs": [],
   "source": [
    "sum(y_test)"
   ]
  },
  {
   "cell_type": "code",
   "execution_count": null,
   "metadata": {},
   "outputs": [],
   "source": [
    "sum(y_pred)"
   ]
  },
  {
   "cell_type": "code",
   "execution_count": null,
   "metadata": {},
   "outputs": [],
   "source": [
    "len(np.unique(probs))"
   ]
  },
  {
   "cell_type": "code",
   "execution_count": null,
   "metadata": {},
   "outputs": [],
   "source": [
    "df.auctiontime[0].minute"
   ]
  },
  {
   "cell_type": "code",
   "execution_count": null,
   "metadata": {},
   "outputs": [],
   "source": [
    "y_pred = model.predict(X_test)\n",
    "roc = roc_curve(y_test, y_pred)"
   ]
  },
  {
   "cell_type": "code",
   "execution_count": null,
   "metadata": {},
   "outputs": [],
   "source": [
    "fpr, tpr, threshold = roc_curve(y_test, y_pred)\n",
    "roc_auc = auc(fpr, tpr)\n",
    "\n",
    "# method I: plt\n",
    "import matplotlib.pyplot as plt\n",
    "plt.title('Receiver Operating Characteristic')\n",
    "plt.plot(fpr, tpr, 'b', label = 'AUC = %0.2f' % roc_auc)\n",
    "plt.legend(loc = 'lower right')\n",
    "plt.plot([0, 1], [0, 1],'r--')\n",
    "plt.xlim([0, 1])\n",
    "plt.ylim([0, 1])\n",
    "plt.ylabel('True Positive Rate')\n",
    "plt.xlabel('False Positive Rate')\n",
    "plt.show()\n"
   ]
  },
  {
   "cell_type": "code",
   "execution_count": null,
   "metadata": {},
   "outputs": [],
   "source": [
    "y_test.shape"
   ]
  },
  {
   "cell_type": "code",
   "execution_count": null,
   "metadata": {},
   "outputs": [],
   "source": [
    "y_pred.shape"
   ]
  },
  {
   "cell_type": "code",
   "execution_count": null,
   "metadata": {},
   "outputs": [],
   "source": [
    "cm = confusion_matrix(y_test, y_pred)\n",
    "print(cm)"
   ]
  },
  {
   "cell_type": "code",
   "execution_count": null,
   "metadata": {},
   "outputs": [],
   "source": [
    "model.predict_proba(X_test)\n"
   ]
  },
  {
   "cell_type": "code",
   "execution_count": null,
   "metadata": {},
   "outputs": [],
   "source": [
    "true_positive_mask = (y_pred==True)&(y_test==True)\n",
    "profit = sum(X_test.cashvalue[true_positive_mask])-sum(y_pred)*.40 - sum(X_test.fee[true_positive_mask]) - sum(X_test.bid[true_positive_mask])/100\n"
   ]
  },
  {
   "cell_type": "code",
   "execution_count": null,
   "metadata": {},
   "outputs": [],
   "source": [
    "profit"
   ]
  },
  {
   "cell_type": "code",
   "execution_count": 14,
   "metadata": {},
   "outputs": [],
   "source": [
    "conn.close()"
   ]
  },
  {
   "cell_type": "code",
   "execution_count": null,
   "metadata": {},
   "outputs": [],
   "source": []
  }
 ],
 "metadata": {
  "kernelspec": {
   "display_name": "Python 3",
   "language": "python",
   "name": "python3"
  },
  "language_info": {
   "codemirror_mode": {
    "name": "ipython",
    "version": 3
   },
   "file_extension": ".py",
   "mimetype": "text/x-python",
   "name": "python",
   "nbconvert_exporter": "python",
   "pygments_lexer": "ipython3",
   "version": "3.7.4"
  }
 },
 "nbformat": 4,
 "nbformat_minor": 4
}
