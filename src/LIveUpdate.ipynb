{
 "cells": [
  {
   "cell_type": "code",
   "execution_count": 87,
   "metadata": {},
   "outputs": [],
   "source": [
    "import LiveAuctionProcessor\n",
    "import importlib\n",
    "import time\n",
    "import psycopg2 as pg2\n",
    "import pandas as pd\n",
    "from datetime import datetime, timedelta\n",
    "import math"
   ]
  },
  {
   "cell_type": "code",
   "execution_count": 99,
   "metadata": {},
   "outputs": [
    {
     "name": "stdout",
     "output_type": "stream",
     "text": [
      "Connecting to SQL\n",
      "Reading Dataset\n"
     ]
    }
   ],
   "source": [
    "print (\"Connecting to SQL\")\n",
    "conn = pg2.connect(user='postgres',  dbname='penny', host='localhost', port='5432', password='password')\n",
    "\n",
    "print (\"Reading Dataset\")\n",
    "full_df = pd.read_sql (\"\"\"Select *  from auction_full where auctionid = 100022191\"\"\", conn)\n",
    "bids_df = pd.read_sql(\"Select * from bids where auctionid = 100022191 ORDER BY bid\", conn)\n",
    "auctions_df = pd.read_sql(\"Select * from auctions where qauctionid = 100022191\", conn)\n",
    "bh = [{'bid':b[1]['bid'], 'username':b[1]['username'], 'is_bidomatic': b[1]['is_bidomatic']} for b in bids_df.iterrows()]"
   ]
  },
  {
   "cell_type": "code",
   "execution_count": null,
   "metadata": {},
   "outputs": [],
   "source": [
    "prev_df = pd.read_sql(\"\"\"\n",
    "with bozo as\n",
    "(\n",
    "Select username, max(auctiontime) as max_auctiontime from auction_full group by username\n",
    ")\n",
    "select bozo.username,  prev_auction_count0, prev_overbid0, prev_giveup_one0, prev_give_before_six0, \n",
    "prev_wins0, prev_bids0, prev_bom_bids0 from bozo left join auction_full on bozo.username=Username0 \n",
    "and bozo.max_auctiontime=auction_full.auctiontime and auction_full.bids_so_far0=1\n",
    "\"\"\"\n",
    ", conn)"
   ]
  },
  {
   "cell_type": "code",
   "execution_count": 100,
   "metadata": {
    "scrolled": false
   },
   "outputs": [],
   "source": [
    "auction_id = '100022191'\n",
    "importlib.reload(LiveAuctionProcessor)\n",
    "auction_dict = {\"auction_id\":'620712999'}\n",
    "lap = LiveAuctionProcessor.LiveAuctionProcessor(auction_dict)\n"
   ]
  },
  {
   "cell_type": "code",
   "execution_count": 128,
   "metadata": {},
   "outputs": [],
   "source": [
    "#from IPython.display import clear_output\n",
    "\n",
    "#while (True):\n",
    "#    clear_output()\n",
    "#    bh = lap.update()\n",
    "#    for b in bh[-5:]:\n",
    "#        print (b)\n",
    "#    time.sleep(1)"
   ]
  },
  {
   "cell_type": "code",
   "execution_count": 102,
   "metadata": {},
   "outputs": [
    {
     "data": {
      "text/plain": [
       "[{'bid': 1, 'username': 'mmmwww', 'is_bidomatic': False},\n",
       " {'bid': 2, 'username': 'Wiz1910', 'is_bidomatic': False},\n",
       " {'bid': 3, 'username': 'mmmwww', 'is_bidomatic': False},\n",
       " {'bid': 4, 'username': 'inmypocket', 'is_bidomatic': False},\n",
       " {'bid': 5, 'username': 'jhelmuth', 'is_bidomatic': False},\n",
       " {'bid': 6, 'username': 'inmypocket', 'is_bidomatic': False},\n",
       " {'bid': 7, 'username': 'mmmwww', 'is_bidomatic': False},\n",
       " {'bid': 8, 'username': 'moon0218', 'is_bidomatic': False},\n",
       " {'bid': 9, 'username': 'jhelmuth', 'is_bidomatic': False},\n",
       " {'bid': 10, 'username': 'BuyItAnyway', 'is_bidomatic': False},\n",
       " {'bid': 11, 'username': 'XMAS19722014', 'is_bidomatic': False},\n",
       " {'bid': 12, 'username': 'inmypocket', 'is_bidomatic': False},\n",
       " {'bid': 13, 'username': 'BuyItAnyway', 'is_bidomatic': False},\n",
       " {'bid': 14, 'username': 'inmypocket', 'is_bidomatic': False},\n",
       " {'bid': 15, 'username': 'BuyItAnyway', 'is_bidomatic': False},\n",
       " {'bid': 16, 'username': 'jhelmuth', 'is_bidomatic': False},\n",
       " {'bid': 17, 'username': 'moon0218', 'is_bidomatic': False},\n",
       " {'bid': 18, 'username': 'BuyItAnyway', 'is_bidomatic': False},\n",
       " {'bid': 19, 'username': 'jhelmuth', 'is_bidomatic': False},\n",
       " {'bid': 20, 'username': 'XMAS19722014', 'is_bidomatic': False},\n",
       " {'bid': 21, 'username': 'moon0218', 'is_bidomatic': False},\n",
       " {'bid': 22, 'username': 'BuyItAnyway', 'is_bidomatic': False},\n",
       " {'bid': 23, 'username': 'jhelmuth', 'is_bidomatic': False},\n",
       " {'bid': 24, 'username': 'XMAS19722014', 'is_bidomatic': False},\n",
       " {'bid': 25, 'username': 'BuyItAnyway', 'is_bidomatic': False},\n",
       " {'bid': 26, 'username': 'XMAS19722014', 'is_bidomatic': False},\n",
       " {'bid': 27, 'username': 'BuyItAnyway', 'is_bidomatic': False},\n",
       " {'bid': 28, 'username': 'DesertVet5702', 'is_bidomatic': False},\n",
       " {'bid': 29, 'username': 'BuyItAnyway', 'is_bidomatic': False},\n",
       " {'bid': 30, 'username': 'DesertVet5702', 'is_bidomatic': False},\n",
       " {'bid': 31, 'username': 'BuyItAnyway', 'is_bidomatic': False},\n",
       " {'bid': 32, 'username': 'DesertVet5702', 'is_bidomatic': False},\n",
       " {'bid': 33, 'username': 'BuyItAnyway', 'is_bidomatic': False},\n",
       " {'bid': 34, 'username': 'DesertVet5702', 'is_bidomatic': False},\n",
       " {'bid': 35, 'username': 'inmypocket', 'is_bidomatic': False},\n",
       " {'bid': 36, 'username': 'BuyItAnyway', 'is_bidomatic': False},\n",
       " {'bid': 37, 'username': 'DesertVet5702', 'is_bidomatic': False},\n",
       " {'bid': 38, 'username': 'BuyItAnyway', 'is_bidomatic': False},\n",
       " {'bid': 39, 'username': 'inmypocket', 'is_bidomatic': False},\n",
       " {'bid': 40, 'username': 'BuyItAnyway', 'is_bidomatic': False}]"
      ]
     },
     "execution_count": 102,
     "metadata": {},
     "output_type": "execute_result"
    }
   ],
   "source": [
    "bh"
   ]
  },
  {
   "cell_type": "code",
   "execution_count": 172,
   "metadata": {},
   "outputs": [],
   "source": [
    "bh = bh[:27]"
   ]
  },
  {
   "cell_type": "code",
   "execution_count": null,
   "metadata": {},
   "outputs": [],
   "source": []
  },
  {
   "cell_type": "code",
   "execution_count": 236,
   "metadata": {},
   "outputs": [],
   "source": [
    "auction_dict = {\"auctionid\": df.auctionid[0],\n",
    "  'cashvalue': df.cashvalue[0],\n",
    "  'cardvalue': df.cardvalue[0],\n",
    "  'cardtype': df.cardtype[0],\n",
    "  'bidvalue': df.bidvalue[0],\n",
    "  'limited_allowed': df.limited_allowed[0],\n",
    "  'is_locked': False,    #FIXME\n",
    "  'seconds_left': 531}\n"
   ]
  },
  {
   "cell_type": "code",
   "execution_count": 254,
   "metadata": {},
   "outputs": [
    {
     "ename": "TypeError",
     "evalue": "can't multiply sequence by non-int of type 'float'",
     "output_type": "error",
     "traceback": [
      "\u001b[0;31m---------------------------------------------------------------------------\u001b[0m",
      "\u001b[0;31mTypeError\u001b[0m                                 Traceback (most recent call last)",
      "\u001b[0;32m<ipython-input-254-62e68d7c1fc2>\u001b[0m in \u001b[0;36m<module>\u001b[0;34m\u001b[0m\n\u001b[1;32m     43\u001b[0m     \u001b[0mud\u001b[0m\u001b[0;34m[\u001b[0m\u001b[0;34m\"prev_bom_bids\"\u001b[0m\u001b[0;34m]\u001b[0m \u001b[0;34m=\u001b[0m \u001b[0mprev_info\u001b[0m\u001b[0;34m.\u001b[0m\u001b[0mprev_bom_bids0\u001b[0m\u001b[0;34m[\u001b[0m\u001b[0mprev_info\u001b[0m\u001b[0;34m.\u001b[0m\u001b[0mindex\u001b[0m\u001b[0;34m[\u001b[0m\u001b[0;36m0\u001b[0m\u001b[0;34m]\u001b[0m\u001b[0;34m]\u001b[0m\u001b[0;34m\u001b[0m\u001b[0;34m\u001b[0m\u001b[0m\n\u001b[1;32m     44\u001b[0m     \u001b[0;31m#, prev_overbid0, prev_giveup_one0, prev_give_before_six0, prev_wins0, prev_bids0, prev_bom_bids0\u001b[0m\u001b[0;34m\u001b[0m\u001b[0;34m\u001b[0m\u001b[0;34m\u001b[0m\u001b[0m\n\u001b[0;32m---> 45\u001b[0;31m     \u001b[0mud\u001b[0m\u001b[0;34m[\u001b[0m\u001b[0;34m\"perc_to_bin\"\u001b[0m\u001b[0;34m]\u001b[0m\u001b[0;34m=\u001b[0m\u001b[0mud\u001b[0m\u001b[0;34m[\u001b[0m\u001b[0;34m\"bids_so_far\"\u001b[0m\u001b[0;34m]\u001b[0m\u001b[0;34m/\u001b[0m\u001b[0;34m(\u001b[0m\u001b[0mauction_dict\u001b[0m\u001b[0;34m[\u001b[0m\u001b[0;34m\"cashvalue\"\u001b[0m\u001b[0;34m]\u001b[0m\u001b[0;34m*\u001b[0m\u001b[0;36m2.5\u001b[0m\u001b[0;34m)\u001b[0m\u001b[0;34m\u001b[0m\u001b[0;34m\u001b[0m\u001b[0m\n\u001b[0m\u001b[1;32m     46\u001b[0m     \u001b[0;32mfor\u001b[0m \u001b[0mk\u001b[0m \u001b[0;32min\u001b[0m \u001b[0mud\u001b[0m\u001b[0;34m:\u001b[0m\u001b[0;34m\u001b[0m\u001b[0;34m\u001b[0m\u001b[0m\n\u001b[1;32m     47\u001b[0m         \u001b[0mauction_dict\u001b[0m\u001b[0;34m[\u001b[0m\u001b[0mk\u001b[0m\u001b[0;34m+\u001b[0m\u001b[0mstr_i\u001b[0m\u001b[0;34m]\u001b[0m \u001b[0;34m=\u001b[0m \u001b[0mud\u001b[0m\u001b[0;34m[\u001b[0m\u001b[0mk\u001b[0m\u001b[0;34m]\u001b[0m\u001b[0;34m\u001b[0m\u001b[0;34m\u001b[0m\u001b[0m\n",
      "\u001b[0;31mTypeError\u001b[0m: can't multiply sequence by non-int of type 'float'"
     ]
    }
   ],
   "source": [
    "my_username =  'DesertVet5702'\n",
    "auction_dict[\"idx\"]=0\n",
    "auction_dict[\"is_winner\"] = None\n",
    "auction_dict[\"auctiontime\"] = datetime.now()+ timedelta(hours=1)\n",
    "bid = len(bh)+1\n",
    "auction_dict[\"bid\"] = bid\n",
    "auction_dict[\"is_bidomatic\"] = True\n",
    "auction_dict[\"bids_so_far\"] = None\n",
    "auction_dict[\"username\"] = my_username\n",
    "auction_dict[\"fee\"]= None\n",
    "user_dict = {}\n",
    "cur_opponent = 0\n",
    "found_users = {}\n",
    "for r in bh[-1::-1]:\n",
    "    username = r['username']\n",
    "    cur_bid = r['bid']\n",
    "    is_bidomatic = r['is_bidomatic']\n",
    "    if username == my_username:\n",
    "        break\n",
    "    if (username not in found_users.keys()):\n",
    "        user_dict[cur_opponent]={\"username\":username, \"bids_so_far\": 0, \"bom_bids_so_far\": 0, \"distance\": bid-cur_bid, \"is_bidomatic\": is_bidomatic, \"bom_streak\": 0,  \"bom_streak_on\": True}\n",
    "        found_users[username] = cur_opponent\n",
    "        cur_opponent += 1\n",
    "    my_row = user_dict[found_users[username]] \n",
    "    my_row [\"bids_so_far\"] += 1\n",
    "    if (is_bidomatic):\n",
    "        my_row[\"bom_bids_so_far\"]+=1\n",
    "        if my_row[\"bom_streak_on\"]:\n",
    "            my_row[\"bom_streak\"] += 1\n",
    "    else:\n",
    "        my_row[\"bom_streak_on\"] = False\n",
    "for i in range(min(4, len(user_dict))):\n",
    "    str_i = str(i)\n",
    "    ud = user_dict[i]\n",
    "    prev_info = prev_df[prev_df.username==ud[\"username\"]]\n",
    "    ud[\"prev_is_new_user\"] = False   #FixMe\n",
    "    ud[\"prev_auction_count\"] = prev_info.prev_auction_count0[prev_info.index[0]]\n",
    "    ud[\"prev_overbid\"] = prev_info.prev_overbid0[prev_info.index[0]]\n",
    "    ud[\"prev_giveup_one\"] = prev_info.prev_giveup_one0[prev_info.index[0]]\n",
    "    ud[\"prev_give_before_six\"] = prev_info.prev_give_before_six0[prev_info.index[0]]\n",
    "    ud[\"prev_wins\"] = prev_info.prev_wins0[prev_info.index[0]]\n",
    "    ud[\"prev_bids\"] = prev_info.prev_bids0[prev_info.index[0]]\n",
    "    ud[\"prev_bom_bids\"] = prev_info.prev_bom_bids0[prev_info.index[0]]\n",
    "    #, prev_overbid0, prev_giveup_one0, prev_give_before_six0, prev_wins0, prev_bids0, prev_bom_bids0\n",
    "    ud[\"perc_to_bin\"]=ud[\"bids_so_far\"]/(auction_dict[\"cashvalue\"]*2.5)\n",
    "    for k in ud:\n",
    "        auction_dict[k+str_i] = ud[k]\n",
    "auction_dict[\"prevusers\"] = len(user_dict)\n",
    "auction_dict[\"giveup\"] = None\n",
    "auction_dict[\"eventual_bids\"] = None\n",
    "auction_dict[\"eventual_win_price\"] = None\n",
    "auction_dict[\"debut\"] = None\n",
    "auction_dict[\"bom_streak\"] = None\n",
    "auction_dict[\"bom_bids_so_far\"] = None\n",
    "auction_dict[\"perc_to_bin\"] = None\n",
    "auction_dict = {k:[v] for k, v in auction_dict.items()} \n"
   ]
  },
  {
   "cell_type": "code",
   "execution_count": 245,
   "metadata": {},
   "outputs": [],
   "source": [
    "\n",
    "df_out = pd.DataFrame.from_dict(auction_dict)\n"
   ]
  },
  {
   "cell_type": "code",
   "execution_count": 246,
   "metadata": {},
   "outputs": [],
   "source": [
    "my_row = df_out.iloc[0,:]\n"
   ]
  },
  {
   "cell_type": "code",
   "execution_count": 252,
   "metadata": {},
   "outputs": [],
   "source": [
    "real_row = full_df.loc[full_df.bid == 28,:]"
   ]
  },
  {
   "cell_type": "code",
   "execution_count": 253,
   "metadata": {},
   "outputs": [
    {
     "name": "stdout",
     "output_type": "stream",
     "text": [
      "auctionid 100022191 100022191\n",
      "is_winner None False\n",
      "cardtype None None\n",
      "cashvalue 10 10\n",
      "cardvalue 0 0\n",
      "fee None 0.0\n",
      "bidvalue 25 25\n",
      "limited_allowed False False\n",
      "is_locked False False\n",
      "auctiontime 2020-02-28T23:25:18.067186000 2020-01-16 22:53:19\n",
      "bid 28 28\n",
      "is_bidomatic True False\n",
      "bids_so_far None 1\n",
      "username DesertVet5702 DesertVet5702\n",
      "prevusers 7 7\n",
      "giveup None False\n",
      "eventual_bids None 5\n",
      "eventual_win_price None 40\n",
      "debut None 1\n",
      "bom_streak None 0\n",
      "bom_bids_so_far None 0\n",
      "perc_to_bin None 0.04\n",
      "username0 BuyItAnyway BuyItAnyway\n",
      "distance0 1 1.0\n",
      "is_bidomatic0 False False\n",
      "bids_so_far0 7 7.0\n",
      "bom_bids_so_far0 0 0.0\n",
      "bom_streak0 0 0.0\n",
      "perc_to_bin0 0.28 0.28\n"
     ]
    },
    {
     "ename": "KeyError",
     "evalue": "'prev_is_new_user0'",
     "output_type": "error",
     "traceback": [
      "\u001b[0;31m---------------------------------------------------------------------------\u001b[0m",
      "\u001b[0;31mTypeError\u001b[0m                                 Traceback (most recent call last)",
      "\u001b[0;32m~/anaconda3/lib/python3.6/site-packages/pandas/core/indexes/base.py\u001b[0m in \u001b[0;36mget_value\u001b[0;34m(self, series, key)\u001b[0m\n\u001b[1;32m   4410\u001b[0m             \u001b[0;32mtry\u001b[0m\u001b[0;34m:\u001b[0m\u001b[0;34m\u001b[0m\u001b[0;34m\u001b[0m\u001b[0m\n\u001b[0;32m-> 4411\u001b[0;31m                 \u001b[0;32mreturn\u001b[0m \u001b[0mlibindex\u001b[0m\u001b[0;34m.\u001b[0m\u001b[0mget_value_at\u001b[0m\u001b[0;34m(\u001b[0m\u001b[0ms\u001b[0m\u001b[0;34m,\u001b[0m \u001b[0mkey\u001b[0m\u001b[0;34m)\u001b[0m\u001b[0;34m\u001b[0m\u001b[0;34m\u001b[0m\u001b[0m\n\u001b[0m\u001b[1;32m   4412\u001b[0m             \u001b[0;32mexcept\u001b[0m \u001b[0mIndexError\u001b[0m\u001b[0;34m:\u001b[0m\u001b[0;34m\u001b[0m\u001b[0;34m\u001b[0m\u001b[0m\n",
      "\u001b[0;32mpandas/_libs/index.pyx\u001b[0m in \u001b[0;36mpandas._libs.index.get_value_at\u001b[0;34m()\u001b[0m\n",
      "\u001b[0;32mpandas/_libs/index.pyx\u001b[0m in \u001b[0;36mpandas._libs.index.get_value_at\u001b[0;34m()\u001b[0m\n",
      "\u001b[0;32mpandas/_libs/util.pxd\u001b[0m in \u001b[0;36mpandas._libs.util.get_value_at\u001b[0;34m()\u001b[0m\n",
      "\u001b[0;32mpandas/_libs/util.pxd\u001b[0m in \u001b[0;36mpandas._libs.util.validate_indexer\u001b[0;34m()\u001b[0m\n",
      "\u001b[0;31mTypeError\u001b[0m: 'str' object cannot be interpreted as an integer",
      "\nDuring handling of the above exception, another exception occurred:\n",
      "\u001b[0;31mKeyError\u001b[0m                                  Traceback (most recent call last)",
      "\u001b[0;32m<ipython-input-253-0895ba04a2a8>\u001b[0m in \u001b[0;36m<module>\u001b[0;34m\u001b[0m\n\u001b[1;32m      1\u001b[0m \u001b[0;32mfor\u001b[0m \u001b[0mc\u001b[0m \u001b[0;32min\u001b[0m \u001b[0mreal_row\u001b[0m\u001b[0;34m.\u001b[0m\u001b[0mcolumns\u001b[0m\u001b[0;34m:\u001b[0m\u001b[0;34m\u001b[0m\u001b[0;34m\u001b[0m\u001b[0m\n\u001b[0;32m----> 2\u001b[0;31m     \u001b[0mprint\u001b[0m\u001b[0;34m(\u001b[0m\u001b[0mc\u001b[0m\u001b[0;34m,\u001b[0m \u001b[0mmy_row\u001b[0m\u001b[0;34m[\u001b[0m\u001b[0mc\u001b[0m\u001b[0;34m]\u001b[0m\u001b[0;34m,\u001b[0m \u001b[0mreal_row\u001b[0m\u001b[0;34m[\u001b[0m\u001b[0mc\u001b[0m\u001b[0;34m]\u001b[0m\u001b[0;34m[\u001b[0m\u001b[0;36m3\u001b[0m\u001b[0;34m]\u001b[0m\u001b[0;34m)\u001b[0m\u001b[0;34m\u001b[0m\u001b[0;34m\u001b[0m\u001b[0m\n\u001b[0m",
      "\u001b[0;32m~/anaconda3/lib/python3.6/site-packages/pandas/core/series.py\u001b[0m in \u001b[0;36m__getitem__\u001b[0;34m(self, key)\u001b[0m\n\u001b[1;32m    869\u001b[0m         \u001b[0mkey\u001b[0m \u001b[0;34m=\u001b[0m \u001b[0mcom\u001b[0m\u001b[0;34m.\u001b[0m\u001b[0mapply_if_callable\u001b[0m\u001b[0;34m(\u001b[0m\u001b[0mkey\u001b[0m\u001b[0;34m,\u001b[0m \u001b[0mself\u001b[0m\u001b[0;34m)\u001b[0m\u001b[0;34m\u001b[0m\u001b[0;34m\u001b[0m\u001b[0m\n\u001b[1;32m    870\u001b[0m         \u001b[0;32mtry\u001b[0m\u001b[0;34m:\u001b[0m\u001b[0;34m\u001b[0m\u001b[0;34m\u001b[0m\u001b[0m\n\u001b[0;32m--> 871\u001b[0;31m             \u001b[0mresult\u001b[0m \u001b[0;34m=\u001b[0m \u001b[0mself\u001b[0m\u001b[0;34m.\u001b[0m\u001b[0mindex\u001b[0m\u001b[0;34m.\u001b[0m\u001b[0mget_value\u001b[0m\u001b[0;34m(\u001b[0m\u001b[0mself\u001b[0m\u001b[0;34m,\u001b[0m \u001b[0mkey\u001b[0m\u001b[0;34m)\u001b[0m\u001b[0;34m\u001b[0m\u001b[0;34m\u001b[0m\u001b[0m\n\u001b[0m\u001b[1;32m    872\u001b[0m \u001b[0;34m\u001b[0m\u001b[0m\n\u001b[1;32m    873\u001b[0m             \u001b[0;32mif\u001b[0m \u001b[0;32mnot\u001b[0m \u001b[0mis_scalar\u001b[0m\u001b[0;34m(\u001b[0m\u001b[0mresult\u001b[0m\u001b[0;34m)\u001b[0m\u001b[0;34m:\u001b[0m\u001b[0;34m\u001b[0m\u001b[0;34m\u001b[0m\u001b[0m\n",
      "\u001b[0;32m~/anaconda3/lib/python3.6/site-packages/pandas/core/indexes/base.py\u001b[0m in \u001b[0;36mget_value\u001b[0;34m(self, series, key)\u001b[0m\n\u001b[1;32m   4417\u001b[0m                     \u001b[0;32mraise\u001b[0m \u001b[0mInvalidIndexError\u001b[0m\u001b[0;34m(\u001b[0m\u001b[0mkey\u001b[0m\u001b[0;34m)\u001b[0m\u001b[0;34m\u001b[0m\u001b[0;34m\u001b[0m\u001b[0m\n\u001b[1;32m   4418\u001b[0m                 \u001b[0;32melse\u001b[0m\u001b[0;34m:\u001b[0m\u001b[0;34m\u001b[0m\u001b[0;34m\u001b[0m\u001b[0m\n\u001b[0;32m-> 4419\u001b[0;31m                     \u001b[0;32mraise\u001b[0m \u001b[0me1\u001b[0m\u001b[0;34m\u001b[0m\u001b[0;34m\u001b[0m\u001b[0m\n\u001b[0m\u001b[1;32m   4420\u001b[0m             \u001b[0;32mexcept\u001b[0m \u001b[0mException\u001b[0m\u001b[0;34m:\u001b[0m\u001b[0;34m\u001b[0m\u001b[0;34m\u001b[0m\u001b[0m\n\u001b[1;32m   4421\u001b[0m                 \u001b[0;32mraise\u001b[0m \u001b[0me1\u001b[0m\u001b[0;34m\u001b[0m\u001b[0;34m\u001b[0m\u001b[0m\n",
      "\u001b[0;32m~/anaconda3/lib/python3.6/site-packages/pandas/core/indexes/base.py\u001b[0m in \u001b[0;36mget_value\u001b[0;34m(self, series, key)\u001b[0m\n\u001b[1;32m   4403\u001b[0m         \u001b[0mk\u001b[0m \u001b[0;34m=\u001b[0m \u001b[0mself\u001b[0m\u001b[0;34m.\u001b[0m\u001b[0m_convert_scalar_indexer\u001b[0m\u001b[0;34m(\u001b[0m\u001b[0mk\u001b[0m\u001b[0;34m,\u001b[0m \u001b[0mkind\u001b[0m\u001b[0;34m=\u001b[0m\u001b[0;34m\"getitem\"\u001b[0m\u001b[0;34m)\u001b[0m\u001b[0;34m\u001b[0m\u001b[0;34m\u001b[0m\u001b[0m\n\u001b[1;32m   4404\u001b[0m         \u001b[0;32mtry\u001b[0m\u001b[0;34m:\u001b[0m\u001b[0;34m\u001b[0m\u001b[0;34m\u001b[0m\u001b[0m\n\u001b[0;32m-> 4405\u001b[0;31m             \u001b[0;32mreturn\u001b[0m \u001b[0mself\u001b[0m\u001b[0;34m.\u001b[0m\u001b[0m_engine\u001b[0m\u001b[0;34m.\u001b[0m\u001b[0mget_value\u001b[0m\u001b[0;34m(\u001b[0m\u001b[0ms\u001b[0m\u001b[0;34m,\u001b[0m \u001b[0mk\u001b[0m\u001b[0;34m,\u001b[0m \u001b[0mtz\u001b[0m\u001b[0;34m=\u001b[0m\u001b[0mgetattr\u001b[0m\u001b[0;34m(\u001b[0m\u001b[0mseries\u001b[0m\u001b[0;34m.\u001b[0m\u001b[0mdtype\u001b[0m\u001b[0;34m,\u001b[0m \u001b[0;34m\"tz\"\u001b[0m\u001b[0;34m,\u001b[0m \u001b[0;32mNone\u001b[0m\u001b[0;34m)\u001b[0m\u001b[0;34m)\u001b[0m\u001b[0;34m\u001b[0m\u001b[0;34m\u001b[0m\u001b[0m\n\u001b[0m\u001b[1;32m   4406\u001b[0m         \u001b[0;32mexcept\u001b[0m \u001b[0mKeyError\u001b[0m \u001b[0;32mas\u001b[0m \u001b[0me1\u001b[0m\u001b[0;34m:\u001b[0m\u001b[0;34m\u001b[0m\u001b[0;34m\u001b[0m\u001b[0m\n\u001b[1;32m   4407\u001b[0m             \u001b[0;32mif\u001b[0m \u001b[0mlen\u001b[0m\u001b[0;34m(\u001b[0m\u001b[0mself\u001b[0m\u001b[0;34m)\u001b[0m \u001b[0;34m>\u001b[0m \u001b[0;36m0\u001b[0m \u001b[0;32mand\u001b[0m \u001b[0;34m(\u001b[0m\u001b[0mself\u001b[0m\u001b[0;34m.\u001b[0m\u001b[0mholds_integer\u001b[0m\u001b[0;34m(\u001b[0m\u001b[0;34m)\u001b[0m \u001b[0;32mor\u001b[0m \u001b[0mself\u001b[0m\u001b[0;34m.\u001b[0m\u001b[0mis_boolean\u001b[0m\u001b[0;34m(\u001b[0m\u001b[0;34m)\u001b[0m\u001b[0;34m)\u001b[0m\u001b[0;34m:\u001b[0m\u001b[0;34m\u001b[0m\u001b[0;34m\u001b[0m\u001b[0m\n",
      "\u001b[0;32mpandas/_libs/index.pyx\u001b[0m in \u001b[0;36mpandas._libs.index.IndexEngine.get_value\u001b[0;34m()\u001b[0m\n",
      "\u001b[0;32mpandas/_libs/index.pyx\u001b[0m in \u001b[0;36mpandas._libs.index.IndexEngine.get_value\u001b[0;34m()\u001b[0m\n",
      "\u001b[0;32mpandas/_libs/index.pyx\u001b[0m in \u001b[0;36mpandas._libs.index.IndexEngine.get_loc\u001b[0;34m()\u001b[0m\n",
      "\u001b[0;32mpandas/_libs/hashtable_class_helper.pxi\u001b[0m in \u001b[0;36mpandas._libs.hashtable.PyObjectHashTable.get_item\u001b[0;34m()\u001b[0m\n",
      "\u001b[0;32mpandas/_libs/hashtable_class_helper.pxi\u001b[0m in \u001b[0;36mpandas._libs.hashtable.PyObjectHashTable.get_item\u001b[0;34m()\u001b[0m\n",
      "\u001b[0;31mKeyError\u001b[0m: 'prev_is_new_user0'"
     ]
    }
   ],
   "source": [
    "for c in real_row.columns:\n",
    "    print(c, my_row[c], real_row[c][3])"
   ]
  },
  {
   "cell_type": "code",
   "execution_count": 73,
   "metadata": {},
   "outputs": [
    {
     "data": {
      "text/plain": [
       "Index(['auctionid', 'is_winner', 'cardtype', 'cashvalue', 'cardvalue', 'fee',\n",
       "       'bidvalue', 'limited_allowed', 'is_locked', 'auctiontime', 'bid',\n",
       "       'is_bidomatic', 'bids_so_far', 'username', 'prevusers', 'giveup',\n",
       "       'eventual_bids', 'eventual_win_price', 'debut', 'bom_streak',\n",
       "       'bom_bids_so_far', 'perc_to_bin', 'username0', 'distance0',\n",
       "       'is_bidomatic0', 'bids_so_far0', 'bom_bids_so_far0', 'bom_streak0',\n",
       "       'perc_to_bin0', 'prev_is_new_user0', 'prev_auction_count0',\n",
       "       'prev_overbid0', 'prev_giveup_one0', 'prev_give_before_six0',\n",
       "       'prev_wins0', 'prev_bids0', 'prev_bom_bids0', 'username1', 'distance1',\n",
       "       'is_bidomatic1', 'bids_so_far1', 'bom_bids_so_far1', 'bom_streak1',\n",
       "       'perc_to_bin1', 'prev_is_new_user1', 'prev_auction_count1',\n",
       "       'prev_overbid1', 'prev_giveup_one1', 'prev_give_before_six1',\n",
       "       'prev_wins1', 'prev_bids1', 'prev_bom_bids1', 'username2', 'distance2',\n",
       "       'is_bidomatic2', 'bids_so_far2', 'bom_bids_so_far2', 'bom_streak2',\n",
       "       'perc_to_bin2', 'prev_is_new_user2', 'prev_auction_count2',\n",
       "       'prev_overbid2', 'prev_giveup_one2', 'prev_give_before_six2',\n",
       "       'prev_wins2', 'prev_bids2', 'prev_bom_bids2', 'username3', 'distance3',\n",
       "       'is_bidomatic3', 'bids_so_far3', 'bom_bids_so_far3', 'bom_streak3',\n",
       "       'perc_to_bin3', 'prev_is_new_user3', 'prev_auction_count3',\n",
       "       'prev_overbid3', 'prev_giveup_one3', 'prev_give_before_six3',\n",
       "       'prev_wins3', 'prev_bids3', 'prev_bom_bids3'],\n",
       "      dtype='object')"
      ]
     },
     "execution_count": 73,
     "metadata": {},
     "output_type": "execute_result"
    }
   ],
   "source": [
    "df.columns"
   ]
  },
  {
   "cell_type": "code",
   "execution_count": 126,
   "metadata": {},
   "outputs": [],
   "source": []
  },
  {
   "cell_type": "code",
   "execution_count": 127,
   "metadata": {},
   "outputs": [
    {
     "data": {
      "text/html": [
       "<div>\n",
       "<style scoped>\n",
       "    .dataframe tbody tr th:only-of-type {\n",
       "        vertical-align: middle;\n",
       "    }\n",
       "\n",
       "    .dataframe tbody tr th {\n",
       "        vertical-align: top;\n",
       "    }\n",
       "\n",
       "    .dataframe thead th {\n",
       "        text-align: right;\n",
       "    }\n",
       "</style>\n",
       "<table border=\"1\" class=\"dataframe\">\n",
       "  <thead>\n",
       "    <tr style=\"text-align: right;\">\n",
       "      <th></th>\n",
       "      <th>username</th>\n",
       "      <th>prev_auction_count0</th>\n",
       "      <th>prev_overbid0</th>\n",
       "      <th>prev_giveup_one0</th>\n",
       "      <th>prev_give_before_six0</th>\n",
       "      <th>prev_wins0</th>\n",
       "      <th>prev_bids0</th>\n",
       "      <th>prev_bom_bids0</th>\n",
       "    </tr>\n",
       "  </thead>\n",
       "  <tbody>\n",
       "    <tr>\n",
       "      <th>0</th>\n",
       "      <td>001167</td>\n",
       "      <td>2.0</td>\n",
       "      <td>0.000000</td>\n",
       "      <td>0.500000</td>\n",
       "      <td>0.500000</td>\n",
       "      <td>0.0</td>\n",
       "      <td>69.000000</td>\n",
       "      <td>67.000000</td>\n",
       "    </tr>\n",
       "    <tr>\n",
       "      <th>1</th>\n",
       "      <td>007dealbreaker</td>\n",
       "      <td>1.0</td>\n",
       "      <td>0.000000</td>\n",
       "      <td>0.000000</td>\n",
       "      <td>0.000000</td>\n",
       "      <td>0.0</td>\n",
       "      <td>0.000000</td>\n",
       "      <td>0.000000</td>\n",
       "    </tr>\n",
       "    <tr>\n",
       "      <th>2</th>\n",
       "      <td>03fatboy</td>\n",
       "      <td>37.0</td>\n",
       "      <td>0.000000</td>\n",
       "      <td>0.108108</td>\n",
       "      <td>0.972973</td>\n",
       "      <td>0.0</td>\n",
       "      <td>3.810811</td>\n",
       "      <td>0.000000</td>\n",
       "    </tr>\n",
       "    <tr>\n",
       "      <th>3</th>\n",
       "      <td>0415Naruto</td>\n",
       "      <td>3.0</td>\n",
       "      <td>0.333333</td>\n",
       "      <td>0.000000</td>\n",
       "      <td>0.000000</td>\n",
       "      <td>0.0</td>\n",
       "      <td>47.666667</td>\n",
       "      <td>19.666667</td>\n",
       "    </tr>\n",
       "    <tr>\n",
       "      <th>4</th>\n",
       "      <td>0621bev</td>\n",
       "      <td>7.0</td>\n",
       "      <td>0.000000</td>\n",
       "      <td>0.142857</td>\n",
       "      <td>0.285714</td>\n",
       "      <td>0.0</td>\n",
       "      <td>36.000000</td>\n",
       "      <td>4.571429</td>\n",
       "    </tr>\n",
       "    <tr>\n",
       "      <th>...</th>\n",
       "      <td>...</td>\n",
       "      <td>...</td>\n",
       "      <td>...</td>\n",
       "      <td>...</td>\n",
       "      <td>...</td>\n",
       "      <td>...</td>\n",
       "      <td>...</td>\n",
       "      <td>...</td>\n",
       "    </tr>\n",
       "    <tr>\n",
       "      <th>9328</th>\n",
       "      <td>zstryjewski</td>\n",
       "      <td>2.0</td>\n",
       "      <td>0.000000</td>\n",
       "      <td>0.000000</td>\n",
       "      <td>0.500000</td>\n",
       "      <td>0.0</td>\n",
       "      <td>11.500000</td>\n",
       "      <td>0.000000</td>\n",
       "    </tr>\n",
       "    <tr>\n",
       "      <th>9329</th>\n",
       "      <td>zuber1992</td>\n",
       "      <td>1.0</td>\n",
       "      <td>0.000000</td>\n",
       "      <td>0.000000</td>\n",
       "      <td>0.000000</td>\n",
       "      <td>0.0</td>\n",
       "      <td>0.000000</td>\n",
       "      <td>0.000000</td>\n",
       "    </tr>\n",
       "    <tr>\n",
       "      <th>9330</th>\n",
       "      <td>zwetzig</td>\n",
       "      <td>12.0</td>\n",
       "      <td>0.000000</td>\n",
       "      <td>0.250000</td>\n",
       "      <td>0.666667</td>\n",
       "      <td>0.0</td>\n",
       "      <td>7.333333</td>\n",
       "      <td>0.000000</td>\n",
       "    </tr>\n",
       "    <tr>\n",
       "      <th>9331</th>\n",
       "      <td>zz70yy</td>\n",
       "      <td>1.0</td>\n",
       "      <td>0.000000</td>\n",
       "      <td>0.000000</td>\n",
       "      <td>0.000000</td>\n",
       "      <td>0.0</td>\n",
       "      <td>0.000000</td>\n",
       "      <td>0.000000</td>\n",
       "    </tr>\n",
       "    <tr>\n",
       "      <th>9332</th>\n",
       "      <td>zzrats</td>\n",
       "      <td>11.0</td>\n",
       "      <td>0.000000</td>\n",
       "      <td>0.181818</td>\n",
       "      <td>0.363636</td>\n",
       "      <td>0.0</td>\n",
       "      <td>17.181818</td>\n",
       "      <td>0.000000</td>\n",
       "    </tr>\n",
       "  </tbody>\n",
       "</table>\n",
       "<p>9333 rows × 8 columns</p>\n",
       "</div>"
      ],
      "text/plain": [
       "            username  prev_auction_count0  prev_overbid0  prev_giveup_one0  \\\n",
       "0             001167                  2.0       0.000000          0.500000   \n",
       "1     007dealbreaker                  1.0       0.000000          0.000000   \n",
       "2           03fatboy                 37.0       0.000000          0.108108   \n",
       "3         0415Naruto                  3.0       0.333333          0.000000   \n",
       "4            0621bev                  7.0       0.000000          0.142857   \n",
       "...              ...                  ...            ...               ...   \n",
       "9328     zstryjewski                  2.0       0.000000          0.000000   \n",
       "9329       zuber1992                  1.0       0.000000          0.000000   \n",
       "9330         zwetzig                 12.0       0.000000          0.250000   \n",
       "9331          zz70yy                  1.0       0.000000          0.000000   \n",
       "9332          zzrats                 11.0       0.000000          0.181818   \n",
       "\n",
       "      prev_give_before_six0  prev_wins0  prev_bids0  prev_bom_bids0  \n",
       "0                  0.500000         0.0   69.000000       67.000000  \n",
       "1                  0.000000         0.0    0.000000        0.000000  \n",
       "2                  0.972973         0.0    3.810811        0.000000  \n",
       "3                  0.000000         0.0   47.666667       19.666667  \n",
       "4                  0.285714         0.0   36.000000        4.571429  \n",
       "...                     ...         ...         ...             ...  \n",
       "9328               0.500000         0.0   11.500000        0.000000  \n",
       "9329               0.000000         0.0    0.000000        0.000000  \n",
       "9330               0.666667         0.0    7.333333        0.000000  \n",
       "9331               0.000000         0.0    0.000000        0.000000  \n",
       "9332               0.363636         0.0   17.181818        0.000000  \n",
       "\n",
       "[9333 rows x 8 columns]"
      ]
     },
     "execution_count": 127,
     "metadata": {},
     "output_type": "execute_result"
    }
   ],
   "source": []
  },
  {
   "cell_type": "code",
   "execution_count": 170,
   "metadata": {},
   "outputs": [
    {
     "data": {
      "text/plain": [
       "[{'bid': 1, 'username': 'mmmwww', 'is_bidomatic': False},\n",
       " {'bid': 2, 'username': 'Wiz1910', 'is_bidomatic': False},\n",
       " {'bid': 3, 'username': 'mmmwww', 'is_bidomatic': False},\n",
       " {'bid': 4, 'username': 'inmypocket', 'is_bidomatic': False},\n",
       " {'bid': 5, 'username': 'jhelmuth', 'is_bidomatic': False},\n",
       " {'bid': 6, 'username': 'inmypocket', 'is_bidomatic': False},\n",
       " {'bid': 7, 'username': 'mmmwww', 'is_bidomatic': False},\n",
       " {'bid': 8, 'username': 'moon0218', 'is_bidomatic': False},\n",
       " {'bid': 9, 'username': 'jhelmuth', 'is_bidomatic': False},\n",
       " {'bid': 10, 'username': 'BuyItAnyway', 'is_bidomatic': False},\n",
       " {'bid': 11, 'username': 'XMAS19722014', 'is_bidomatic': False},\n",
       " {'bid': 12, 'username': 'inmypocket', 'is_bidomatic': False},\n",
       " {'bid': 13, 'username': 'BuyItAnyway', 'is_bidomatic': False},\n",
       " {'bid': 14, 'username': 'inmypocket', 'is_bidomatic': False},\n",
       " {'bid': 15, 'username': 'BuyItAnyway', 'is_bidomatic': False},\n",
       " {'bid': 16, 'username': 'jhelmuth', 'is_bidomatic': False},\n",
       " {'bid': 17, 'username': 'moon0218', 'is_bidomatic': False},\n",
       " {'bid': 18, 'username': 'BuyItAnyway', 'is_bidomatic': False},\n",
       " {'bid': 19, 'username': 'jhelmuth', 'is_bidomatic': False},\n",
       " {'bid': 20, 'username': 'XMAS19722014', 'is_bidomatic': False},\n",
       " {'bid': 21, 'username': 'moon0218', 'is_bidomatic': False},\n",
       " {'bid': 22, 'username': 'BuyItAnyway', 'is_bidomatic': False},\n",
       " {'bid': 23, 'username': 'jhelmuth', 'is_bidomatic': False},\n",
       " {'bid': 24, 'username': 'XMAS19722014', 'is_bidomatic': False},\n",
       " {'bid': 25, 'username': 'BuyItAnyway', 'is_bidomatic': False},\n",
       " {'bid': 26, 'username': 'XMAS19722014', 'is_bidomatic': False},\n",
       " {'bid': 27, 'username': 'BuyItAnyway', 'is_bidomatic': False},\n",
       " {'bid': 28, 'username': 'DesertVet5702', 'is_bidomatic': False},\n",
       " {'bid': 29, 'username': 'BuyItAnyway', 'is_bidomatic': False},\n",
       " {'bid': 30, 'username': 'DesertVet5702', 'is_bidomatic': False},\n",
       " {'bid': 31, 'username': 'BuyItAnyway', 'is_bidomatic': False},\n",
       " {'bid': 32, 'username': 'DesertVet5702', 'is_bidomatic': False},\n",
       " {'bid': 33, 'username': 'BuyItAnyway', 'is_bidomatic': False},\n",
       " {'bid': 34, 'username': 'DesertVet5702', 'is_bidomatic': False},\n",
       " {'bid': 35, 'username': 'inmypocket', 'is_bidomatic': False},\n",
       " {'bid': 36, 'username': 'BuyItAnyway', 'is_bidomatic': False},\n",
       " {'bid': 37, 'username': 'DesertVet5702', 'is_bidomatic': False},\n",
       " {'bid': 38, 'username': 'BuyItAnyway', 'is_bidomatic': False},\n",
       " {'bid': 39, 'username': 'inmypocket', 'is_bidomatic': False},\n",
       " {'bid': 40, 'username': 'BuyItAnyway', 'is_bidomatic': False}]"
      ]
     },
     "execution_count": 170,
     "metadata": {},
     "output_type": "execute_result"
    }
   ],
   "source": [
    "bh"
   ]
  },
  {
   "cell_type": "code",
   "execution_count": 156,
   "metadata": {},
   "outputs": [
    {
     "data": {
      "text/plain": [
       "6993"
      ]
     },
     "execution_count": 156,
     "metadata": {},
     "output_type": "execute_result"
    }
   ],
   "source": []
  },
  {
   "cell_type": "code",
   "execution_count": 159,
   "metadata": {},
   "outputs": [
    {
     "data": {
      "text/plain": [
       "222.0"
      ]
     },
     "execution_count": 159,
     "metadata": {},
     "output_type": "execute_result"
    }
   ],
   "source": []
  },
  {
   "cell_type": "code",
   "execution_count": null,
   "metadata": {},
   "outputs": [],
   "source": []
  }
 ],
 "metadata": {
  "kernelspec": {
   "display_name": "Python 3",
   "language": "python",
   "name": "python3"
  },
  "language_info": {
   "codemirror_mode": {
    "name": "ipython",
    "version": 3
   },
   "file_extension": ".py",
   "mimetype": "text/x-python",
   "name": "python",
   "nbconvert_exporter": "python",
   "pygments_lexer": "ipython3",
   "version": "3.6.10"
  }
 },
 "nbformat": 4,
 "nbformat_minor": 2
}
