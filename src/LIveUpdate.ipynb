{
 "cells": [
  {
   "cell_type": "code",
   "execution_count": 162,
   "metadata": {},
   "outputs": [],
   "source": [
    "import LiveAuctionProcessor\n",
    "import importlib\n",
    "import time\n",
    "import psycopg2 as pg2\n",
    "import pandas as pd\n",
    "from datetime import datetime, timedelta"
   ]
  },
  {
   "cell_type": "code",
   "execution_count": 233,
   "metadata": {},
   "outputs": [
    {
     "name": "stdout",
     "output_type": "stream",
     "text": [
      "Connecting to SQL\n",
      "Reading Dataset\n"
     ]
    }
   ],
   "source": [
    "print (\"Connecting to SQL\")\n",
    "conn = pg2.connect(user='postgres',  dbname='penny', host='localhost', port='5432', password='')\n",
    "\n",
    "print (\"Reading Dataset\")\n",
    "df = pd.read_sql (\"\"\"Select *  from auction_full where auctiontime >= '2020-01-01' LIMIT 1\"\"\", conn)\n"
   ]
  },
  {
   "cell_type": "code",
   "execution_count": 111,
   "metadata": {
    "scrolled": false
   },
   "outputs": [],
   "source": [
    "auction_id = '620712999'\n",
    "importlib.reload(LiveAuctionProcessor)\n",
    "auction_dict = {\"auction_id\":'620712999'}\n",
    "lap = LiveAuctionProcessor.LiveAuctionProcessor(auction_dict)\n"
   ]
  },
  {
   "cell_type": "code",
   "execution_count": 112,
   "metadata": {},
   "outputs": [
    {
     "name": "stdout",
     "output_type": "stream",
     "text": [
      "{'bid': 88, 'usename': 'mantinori', 'is_bidomatic': True}\n",
      "{'bid': 89, 'usename': 'jsmthjm', 'is_bidomatic': True}\n",
      "{'bid': 90, 'usename': 'mantinori', 'is_bidomatic': True}\n",
      "{'bid': 91, 'usename': 'jsmthjm', 'is_bidomatic': True}\n",
      "{'bid': 92, 'usename': 'mantinori', 'is_bidomatic': True}\n"
     ]
    },
    {
     "ename": "KeyboardInterrupt",
     "evalue": "",
     "output_type": "error",
     "traceback": [
      "\u001b[0;31m---------------------------------------------------------------------------\u001b[0m",
      "\u001b[0;31mKeyboardInterrupt\u001b[0m                         Traceback (most recent call last)",
      "\u001b[0;32m<ipython-input-112-7f822da6a3ac>\u001b[0m in \u001b[0;36m<module>\u001b[0;34m\u001b[0m\n\u001b[1;32m      6\u001b[0m     \u001b[0;32mfor\u001b[0m \u001b[0mb\u001b[0m \u001b[0;32min\u001b[0m \u001b[0mbh\u001b[0m\u001b[0;34m[\u001b[0m\u001b[0;34m-\u001b[0m\u001b[0;36m5\u001b[0m\u001b[0;34m:\u001b[0m\u001b[0;34m]\u001b[0m\u001b[0;34m:\u001b[0m\u001b[0;34m\u001b[0m\u001b[0;34m\u001b[0m\u001b[0m\n\u001b[1;32m      7\u001b[0m         \u001b[0mprint\u001b[0m \u001b[0;34m(\u001b[0m\u001b[0mb\u001b[0m\u001b[0;34m)\u001b[0m\u001b[0;34m\u001b[0m\u001b[0;34m\u001b[0m\u001b[0m\n\u001b[0;32m----> 8\u001b[0;31m     \u001b[0mtime\u001b[0m\u001b[0;34m.\u001b[0m\u001b[0msleep\u001b[0m\u001b[0;34m(\u001b[0m\u001b[0;36m1\u001b[0m\u001b[0;34m)\u001b[0m\u001b[0;34m\u001b[0m\u001b[0;34m\u001b[0m\u001b[0m\n\u001b[0m",
      "\u001b[0;31mKeyboardInterrupt\u001b[0m: "
     ]
    }
   ],
   "source": [
    "from IPython.display import clear_output\n",
    "\n",
    "while (True):\n",
    "    clear_output()\n",
    "    bh = lap.update()\n",
    "    for b in bh[-5:]:\n",
    "        print (b)\n",
    "    time.sleep(1)"
   ]
  },
  {
   "cell_type": "code",
   "execution_count": 196,
   "metadata": {},
   "outputs": [],
   "source": [
    "bh = [{'bid': 1, 'username': 'mantinori', 'is_bidomatic': False},\n",
    " {'bid': 2, 'username': 'twylla67', 'is_bidomatic': False},\n",
    " {'bid': 3, 'username': 'mantinori', 'is_bidomatic': True},\n",
    " {'bid': 4, 'username': 'Boomer2107', 'is_bidomatic': False},\n",
    " {'bid': 5, 'username': 'mantinori', 'is_bidomatic': True},\n",
    " {'bid': 6, 'username': 'Boomer2107', 'is_bidomatic': True},\n",
    " {'bid': 7, 'username': 'mantinori', 'is_bidomatic': True},\n",
    " {'bid': 8, 'username': 'Boomer2107', 'is_bidomatic': True},\n",
    " {'bid': 9, 'username': 'mantinori', 'is_bidomatic': True},\n",
    " {'bid': 10, 'username': 'Boomer2107', 'is_bidomatic': True},\n",
    " {'bid': 11, 'username': 'mantinori', 'is_bidomatic': True},\n",
    " {'bid': 12, 'username': 'Boomer2107', 'is_bidomatic': True},\n",
    " {'bid': 13, 'username': 'mantinori', 'is_bidomatic': True},\n",
    " {'bid': 14, 'username': 'Boomer2107', 'is_bidomatic': True},\n",
    " {'bid': 15, 'username': 'mantinori', 'is_bidomatic': True},\n",
    " {'bid': 16, 'username': 'Boomer2107', 'is_bidomatic': True},\n",
    " {'bid': 17, 'username': 'mantinori', 'is_bidomatic': True},\n",
    " {'bid': 18, 'username': 'Boomer2107', 'is_bidomatic': True},\n",
    " {'bid': 19, 'username': 'mantinori', 'is_bidomatic': True},\n",
    " {'bid': 20, 'username': 'Boomer2107', 'is_bidomatic': True},\n",
    " {'bid': 21, 'username': 'mantinori', 'is_bidomatic': True},\n",
    " {'bid': 22, 'username': 'Boomer2107', 'is_bidomatic': True},\n",
    " {'bid': 23, 'username': 'mantinori', 'is_bidomatic': True},\n",
    " {'bid': 24, 'username': 'Boomer2107', 'is_bidomatic': True},\n",
    " {'bid': 25, 'username': 'mantinori', 'is_bidomatic': True},\n",
    " {'bid': 26, 'username': 'Boomer2107', 'is_bidomatic': True},\n",
    " {'bid': 27, 'username': 'mantinori', 'is_bidomatic': True},\n",
    " {'bid': 28, 'username': 'Boomer2107', 'is_bidomatic': True},\n",
    " {'bid': 29, 'username': 'mantinori', 'is_bidomatic': True},\n",
    " {'bid': 30, 'username': 'Boomer2107', 'is_bidomatic': True},\n",
    " {'bid': 31, 'username': 'mantinori', 'is_bidomatic': True},\n",
    " {'bid': 32, 'username': 'Boomer2107', 'is_bidomatic': True},\n",
    " {'bid': 33, 'username': 'mantinori', 'is_bidomatic': True},\n",
    " {'bid': 34, 'username': 'Boomer2107', 'is_bidomatic': True},\n",
    " {'bid': 35, 'username': 'mantinori', 'is_bidomatic': True},\n",
    " {'bid': 36, 'username': 'Boomer2107', 'is_bidomatic': True},\n",
    " {'bid': 37, 'username': 'mantinori', 'is_bidomatic': True},\n",
    " {'bid': 38, 'username': 'Boomer2107', 'is_bidomatic': True},\n",
    " {'bid': 39, 'username': 'mantinori', 'is_bidomatic': True},\n",
    " {'bid': 40, 'username': 'Boomer2107', 'is_bidomatic': True},\n",
    " {'bid': 41, 'username': 'mantinori', 'is_bidomatic': True},\n",
    " {'bid': 42, 'username': 'Boomer2107', 'is_bidomatic': True},\n",
    " {'bid': 43, 'username': 'mantinori', 'is_bidomatic': True},\n",
    " {'bid': 44, 'username': 'Boomer2107', 'is_bidomatic': True},\n",
    " {'bid': 45, 'username': 'mantinori', 'is_bidomatic': True},\n",
    " {'bid': 46, 'username': 'Boomer2107', 'is_bidomatic': True},\n",
    " {'bid': 47, 'username': 'mantinori', 'is_bidomatic': True},\n",
    " {'bid': 48, 'username': 'Boomer2107', 'is_bidomatic': True},\n",
    " {'bid': 49, 'username': 'jsmthjm', 'is_bidomatic': False},\n",
    " {'bid': 50, 'username': 'mantinori', 'is_bidomatic': True},\n",
    " {'bid': 51, 'username': 'Boomer2107', 'is_bidomatic': True},\n",
    " {'bid': 52, 'username': 'mantinori', 'is_bidomatic': True},\n",
    " {'bid': 53, 'username': 'Boomer2107', 'is_bidomatic': True},\n",
    " {'bid': 54, 'username': 'jsmthjm', 'is_bidomatic': True},\n",
    " {'bid': 55, 'username': 'Boomer2107', 'is_bidomatic': True},\n",
    " {'bid': 56, 'username': 'mantinori', 'is_bidomatic': True},\n",
    " {'bid': 57, 'username': 'jsmthjm', 'is_bidomatic': True},\n",
    " {'bid': 58, 'username': 'mantinori', 'is_bidomatic': True},\n",
    " {'bid': 59, 'username': 'jsmthjm', 'is_bidomatic': True},\n",
    " {'bid': 60, 'username': 'mantinori', 'is_bidomatic': True},\n",
    " {'bid': 61, 'username': 'jsmthjm', 'is_bidomatic': True},\n",
    " {'bid': 62, 'username': 'mantinori', 'is_bidomatic': True},\n",
    " {'bid': 63, 'username': 'jsmthjm', 'is_bidomatic': True},\n",
    " {'bid': 64, 'username': 'mantinori', 'is_bidomatic': True},\n",
    " {'bid': 65, 'username': 'jsmthjm', 'is_bidomatic': True},\n",
    " {'bid': 66, 'username': 'mantinori', 'is_bidomatic': True},\n",
    " {'bid': 67, 'username': 'jsmthjm', 'is_bidomatic': True},\n",
    " {'bid': 68, 'username': 'mantinori', 'is_bidomatic': True},\n",
    " {'bid': 69, 'username': 'jsmthjm', 'is_bidomatic': True},\n",
    " {'bid': 70, 'username': 'mantinori', 'is_bidomatic': True},\n",
    " {'bid': 71, 'username': 'jsmthjm', 'is_bidomatic': True},\n",
    " {'bid': 72, 'username': 'mantinori', 'is_bidomatic': True},\n",
    " {'bid': 73, 'username': 'jsmthjm', 'is_bidomatic': True},\n",
    " {'bid': 74, 'username': 'mantinori', 'is_bidomatic': True},\n",
    " {'bid': 75, 'username': 'jsmthjm', 'is_bidomatic': True},\n",
    " {'bid': 76, 'username': 'mantinori', 'is_bidomatic': True},\n",
    " {'bid': 77, 'username': 'jsmthjm', 'is_bidomatic': True},\n",
    " {'bid': 78, 'username': 'mantinori', 'is_bidomatic': True},\n",
    " {'bid': 79, 'username': 'jsmthjm', 'is_bidomatic': True},\n",
    " {'bid': 80, 'username': 'mantinori', 'is_bidomatic': True},\n",
    " {'bid': 81, 'username': 'jsmthjm', 'is_bidomatic': True},\n",
    " {'bid': 82, 'username': 'mantinori', 'is_bidomatic': True},\n",
    " {'bid': 83, 'username': 'jsmthjm', 'is_bidomatic': True},\n",
    " {'bid': 84, 'username': 'mantinori', 'is_bidomatic': True},\n",
    " {'bid': 85, 'username': 'jsmthjm', 'is_bidomatic': True},\n",
    " {'bid': 86, 'username': 'mantinori', 'is_bidomatic': True},\n",
    " {'bid': 87, 'username': 'jsmthjm', 'is_bidomatic': True},\n",
    " {'bid': 88, 'username': 'mantinori', 'is_bidomatic': True},\n",
    " {'bid': 89, 'username': 'jsmthjm', 'is_bidomatic': True},\n",
    " {'bid': 90, 'username': 'mantinori', 'is_bidomatic': True},\n",
    " {'bid': 91, 'username': 'jsmthjm', 'is_bidomatic': True},\n",
    " {'bid': 92, 'username': 'mantinori', 'is_bidomatic': True}]"
   ]
  },
  {
   "cell_type": "code",
   "execution_count": 137,
   "metadata": {},
   "outputs": [],
   "source": []
  },
  {
   "cell_type": "code",
   "execution_count": 198,
   "metadata": {},
   "outputs": [
    {
     "data": {
      "text/plain": [
       "[{'bid': 1, 'username': 'mantinori', 'is_bidomatic': False},\n",
       " {'bid': 2, 'username': 'twylla67', 'is_bidomatic': False},\n",
       " {'bid': 3, 'username': 'mantinori', 'is_bidomatic': True},\n",
       " {'bid': 4, 'username': 'Boomer2107', 'is_bidomatic': False},\n",
       " {'bid': 5, 'username': 'mantinori', 'is_bidomatic': True},\n",
       " {'bid': 6, 'username': 'Boomer2107', 'is_bidomatic': True},\n",
       " {'bid': 7, 'username': 'mantinori', 'is_bidomatic': True},\n",
       " {'bid': 8, 'username': 'Boomer2107', 'is_bidomatic': True},\n",
       " {'bid': 9, 'username': 'mantinori', 'is_bidomatic': True},\n",
       " {'bid': 10, 'username': 'Boomer2107', 'is_bidomatic': True},\n",
       " {'bid': 11, 'username': 'mantinori', 'is_bidomatic': True},\n",
       " {'bid': 12, 'username': 'Boomer2107', 'is_bidomatic': True},\n",
       " {'bid': 13, 'username': 'mantinori', 'is_bidomatic': True},\n",
       " {'bid': 14, 'username': 'Boomer2107', 'is_bidomatic': True},\n",
       " {'bid': 15, 'username': 'mantinori', 'is_bidomatic': True},\n",
       " {'bid': 16, 'username': 'Boomer2107', 'is_bidomatic': True},\n",
       " {'bid': 17, 'username': 'mantinori', 'is_bidomatic': True},\n",
       " {'bid': 18, 'username': 'Boomer2107', 'is_bidomatic': True},\n",
       " {'bid': 19, 'username': 'mantinori', 'is_bidomatic': True},\n",
       " {'bid': 20, 'username': 'Boomer2107', 'is_bidomatic': True},\n",
       " {'bid': 21, 'username': 'mantinori', 'is_bidomatic': True},\n",
       " {'bid': 22, 'username': 'Boomer2107', 'is_bidomatic': True},\n",
       " {'bid': 23, 'username': 'mantinori', 'is_bidomatic': True},\n",
       " {'bid': 24, 'username': 'Boomer2107', 'is_bidomatic': True},\n",
       " {'bid': 25, 'username': 'mantinori', 'is_bidomatic': True},\n",
       " {'bid': 26, 'username': 'Boomer2107', 'is_bidomatic': True},\n",
       " {'bid': 27, 'username': 'mantinori', 'is_bidomatic': True},\n",
       " {'bid': 28, 'username': 'Boomer2107', 'is_bidomatic': True},\n",
       " {'bid': 29, 'username': 'mantinori', 'is_bidomatic': True},\n",
       " {'bid': 30, 'username': 'Boomer2107', 'is_bidomatic': True},\n",
       " {'bid': 31, 'username': 'mantinori', 'is_bidomatic': True},\n",
       " {'bid': 32, 'username': 'Boomer2107', 'is_bidomatic': True},\n",
       " {'bid': 33, 'username': 'mantinori', 'is_bidomatic': True},\n",
       " {'bid': 34, 'username': 'Boomer2107', 'is_bidomatic': True},\n",
       " {'bid': 35, 'username': 'mantinori', 'is_bidomatic': True},\n",
       " {'bid': 36, 'username': 'Boomer2107', 'is_bidomatic': True},\n",
       " {'bid': 37, 'username': 'mantinori', 'is_bidomatic': True},\n",
       " {'bid': 38, 'username': 'Boomer2107', 'is_bidomatic': True},\n",
       " {'bid': 39, 'username': 'mantinori', 'is_bidomatic': True},\n",
       " {'bid': 40, 'username': 'Boomer2107', 'is_bidomatic': True},\n",
       " {'bid': 41, 'username': 'mantinori', 'is_bidomatic': True},\n",
       " {'bid': 42, 'username': 'Boomer2107', 'is_bidomatic': True},\n",
       " {'bid': 43, 'username': 'mantinori', 'is_bidomatic': True},\n",
       " {'bid': 44, 'username': 'Boomer2107', 'is_bidomatic': True},\n",
       " {'bid': 45, 'username': 'mantinori', 'is_bidomatic': True},\n",
       " {'bid': 46, 'username': 'Boomer2107', 'is_bidomatic': True},\n",
       " {'bid': 47, 'username': 'mantinori', 'is_bidomatic': True},\n",
       " {'bid': 48, 'username': 'Boomer2107', 'is_bidomatic': True},\n",
       " {'bid': 49, 'username': 'jsmthjm', 'is_bidomatic': False},\n",
       " {'bid': 50, 'username': 'mantinori', 'is_bidomatic': True},\n",
       " {'bid': 51, 'username': 'Boomer2107', 'is_bidomatic': True},\n",
       " {'bid': 52, 'username': 'mantinori', 'is_bidomatic': True},\n",
       " {'bid': 53, 'username': 'Boomer2107', 'is_bidomatic': True},\n",
       " {'bid': 54, 'username': 'jsmthjm', 'is_bidomatic': True},\n",
       " {'bid': 55, 'username': 'Boomer2107', 'is_bidomatic': True},\n",
       " {'bid': 56, 'username': 'mantinori', 'is_bidomatic': True},\n",
       " {'bid': 57, 'username': 'jsmthjm', 'is_bidomatic': True},\n",
       " {'bid': 58, 'username': 'mantinori', 'is_bidomatic': True},\n",
       " {'bid': 59, 'username': 'jsmthjm', 'is_bidomatic': True},\n",
       " {'bid': 60, 'username': 'mantinori', 'is_bidomatic': True},\n",
       " {'bid': 61, 'username': 'jsmthjm', 'is_bidomatic': True},\n",
       " {'bid': 62, 'username': 'mantinori', 'is_bidomatic': True},\n",
       " {'bid': 63, 'username': 'jsmthjm', 'is_bidomatic': True},\n",
       " {'bid': 64, 'username': 'mantinori', 'is_bidomatic': True},\n",
       " {'bid': 65, 'username': 'jsmthjm', 'is_bidomatic': True},\n",
       " {'bid': 66, 'username': 'mantinori', 'is_bidomatic': True},\n",
       " {'bid': 67, 'username': 'jsmthjm', 'is_bidomatic': True},\n",
       " {'bid': 68, 'username': 'mantinori', 'is_bidomatic': True},\n",
       " {'bid': 69, 'username': 'jsmthjm', 'is_bidomatic': True},\n",
       " {'bid': 70, 'username': 'mantinori', 'is_bidomatic': True},\n",
       " {'bid': 71, 'username': 'jsmthjm', 'is_bidomatic': True},\n",
       " {'bid': 72, 'username': 'mantinori', 'is_bidomatic': True},\n",
       " {'bid': 73, 'username': 'jsmthjm', 'is_bidomatic': True},\n",
       " {'bid': 74, 'username': 'mantinori', 'is_bidomatic': True},\n",
       " {'bid': 75, 'username': 'jsmthjm', 'is_bidomatic': True},\n",
       " {'bid': 76, 'username': 'mantinori', 'is_bidomatic': True},\n",
       " {'bid': 77, 'username': 'jsmthjm', 'is_bidomatic': True},\n",
       " {'bid': 78, 'username': 'mantinori', 'is_bidomatic': True},\n",
       " {'bid': 79, 'username': 'jsmthjm', 'is_bidomatic': True},\n",
       " {'bid': 80, 'username': 'mantinori', 'is_bidomatic': True},\n",
       " {'bid': 81, 'username': 'jsmthjm', 'is_bidomatic': True},\n",
       " {'bid': 82, 'username': 'mantinori', 'is_bidomatic': True},\n",
       " {'bid': 83, 'username': 'jsmthjm', 'is_bidomatic': True},\n",
       " {'bid': 84, 'username': 'mantinori', 'is_bidomatic': True},\n",
       " {'bid': 85, 'username': 'jsmthjm', 'is_bidomatic': True},\n",
       " {'bid': 86, 'username': 'mantinori', 'is_bidomatic': True},\n",
       " {'bid': 87, 'username': 'jsmthjm', 'is_bidomatic': True},\n",
       " {'bid': 88, 'username': 'mantinori', 'is_bidomatic': True},\n",
       " {'bid': 89, 'username': 'jsmthjm', 'is_bidomatic': True},\n",
       " {'bid': 90, 'username': 'mantinori', 'is_bidomatic': True},\n",
       " {'bid': 91, 'username': 'jsmthjm', 'is_bidomatic': True},\n",
       " {'bid': 92, 'username': 'mantinori', 'is_bidomatic': True}]"
      ]
     },
     "execution_count": 198,
     "metadata": {},
     "output_type": "execute_result"
    }
   ],
   "source": [
    "bh"
   ]
  },
  {
   "cell_type": "code",
   "execution_count": 234,
   "metadata": {},
   "outputs": [],
   "source": [
    "bh_df = pd.DataFrame.from_dict(bh)"
   ]
  },
  {
   "cell_type": "code",
   "execution_count": 235,
   "metadata": {},
   "outputs": [
    {
     "data": {
      "text/plain": [
       "Index(['auctionid', 'is_winner', 'cardtype', 'cashvalue', 'cardvalue', 'fee',\n",
       "       'bidvalue', 'limited_allowed', 'is_locked', 'auctiontime', 'bid',\n",
       "       'is_bidomatic', 'bids_so_far', 'username', 'prevusers', 'giveup',\n",
       "       'eventual_bids', 'eventual_win_price', 'debut', 'bom_streak',\n",
       "       'bom_bids_so_far', 'perc_to_bin', 'username0', 'distance0',\n",
       "       'is_bidomatic0', 'bids_so_far0', 'bom_bids_so_far0', 'bom_streak0',\n",
       "       'perc_to_bin0', 'prev_is_new_user0', 'prev_auction_count0',\n",
       "       'prev_overbid0', 'prev_giveup_one0', 'prev_give_before_six0',\n",
       "       'prev_wins0', 'prev_bids0', 'prev_bom_bids0', 'username1', 'distance1',\n",
       "       'is_bidomatic1', 'bids_so_far1', 'bom_bids_so_far1', 'bom_streak1',\n",
       "       'perc_to_bin1', 'prev_is_new_user1', 'prev_auction_count1',\n",
       "       'prev_overbid1', 'prev_giveup_one1', 'prev_give_before_six1',\n",
       "       'prev_wins1', 'prev_bids1', 'prev_bom_bids1', 'username2', 'distance2',\n",
       "       'is_bidomatic2', 'bids_so_far2', 'bom_bids_so_far2', 'bom_streak2',\n",
       "       'perc_to_bin2', 'prev_is_new_user2', 'prev_auction_count2',\n",
       "       'prev_overbid2', 'prev_giveup_one2', 'prev_give_before_six2',\n",
       "       'prev_wins2', 'prev_bids2', 'prev_bom_bids2', 'username3', 'distance3',\n",
       "       'is_bidomatic3', 'bids_so_far3', 'bom_bids_so_far3', 'bom_streak3',\n",
       "       'perc_to_bin3', 'prev_is_new_user3', 'prev_auction_count3',\n",
       "       'prev_overbid3', 'prev_giveup_one3', 'prev_give_before_six3',\n",
       "       'prev_wins3', 'prev_bids3', 'prev_bom_bids3'],\n",
       "      dtype='object')"
      ]
     },
     "execution_count": 235,
     "metadata": {},
     "output_type": "execute_result"
    }
   ],
   "source": [
    "df.columns"
   ]
  },
  {
   "cell_type": "code",
   "execution_count": null,
   "metadata": {},
   "outputs": [],
   "source": []
  },
  {
   "cell_type": "code",
   "execution_count": 243,
   "metadata": {},
   "outputs": [],
   "source": [
    "auction_dict[\"is_winner\"] = 0\n",
    "auctiontime = datetime.now()+ timedelta(hours=1)\n",
    "bid = len(bh)+1\n",
    "is_bidomatic = True\n",
    "bids_so_far = '0'\n",
    "my_username = 'AAAAAAAHH'\n",
    "user_dict = {}\n",
    "cur_opponent = 0\n",
    "found_users = set()\n",
    "username_counts = bh_df.username.value_counts()\n",
    "for r in username_counts.iteritems():\n",
    "    username = r[0]\n",
    "    bids_so_far = r[1]\n",
    "    if username == my_username:\n",
    "        break\n",
    "    if (username not in found_users):\n",
    "        user_dict[cur_opponent]={\"username\":username, \"bids_so_far\": bids_so_far}\n",
    "        found_users.add(username)\n",
    "        cur_opponent += 1\n",
    "prevusers = len(user_dict)"
   ]
  },
  {
   "cell_type": "code",
   "execution_count": 245,
   "metadata": {},
   "outputs": [
    {
     "data": {
      "text/plain": [
       "4"
      ]
     },
     "execution_count": 245,
     "metadata": {},
     "output_type": "execute_result"
    }
   ],
   "source": [
    "prevusers"
   ]
  },
  {
   "cell_type": "code",
   "execution_count": 239,
   "metadata": {},
   "outputs": [
    {
     "data": {
      "text/plain": [
       "[{'bid': 1, 'username': 'mantinori', 'is_bidomatic': False},\n",
       " {'bid': 2, 'username': 'twylla67', 'is_bidomatic': False},\n",
       " {'bid': 3, 'username': 'mantinori', 'is_bidomatic': True},\n",
       " {'bid': 4, 'username': 'Boomer2107', 'is_bidomatic': False},\n",
       " {'bid': 5, 'username': 'mantinori', 'is_bidomatic': True},\n",
       " {'bid': 6, 'username': 'Boomer2107', 'is_bidomatic': True},\n",
       " {'bid': 7, 'username': 'mantinori', 'is_bidomatic': True},\n",
       " {'bid': 8, 'username': 'Boomer2107', 'is_bidomatic': True},\n",
       " {'bid': 9, 'username': 'mantinori', 'is_bidomatic': True},\n",
       " {'bid': 10, 'username': 'Boomer2107', 'is_bidomatic': True},\n",
       " {'bid': 11, 'username': 'mantinori', 'is_bidomatic': True},\n",
       " {'bid': 12, 'username': 'Boomer2107', 'is_bidomatic': True},\n",
       " {'bid': 13, 'username': 'mantinori', 'is_bidomatic': True},\n",
       " {'bid': 14, 'username': 'Boomer2107', 'is_bidomatic': True},\n",
       " {'bid': 15, 'username': 'mantinori', 'is_bidomatic': True},\n",
       " {'bid': 16, 'username': 'Boomer2107', 'is_bidomatic': True},\n",
       " {'bid': 17, 'username': 'mantinori', 'is_bidomatic': True},\n",
       " {'bid': 18, 'username': 'Boomer2107', 'is_bidomatic': True},\n",
       " {'bid': 19, 'username': 'mantinori', 'is_bidomatic': True},\n",
       " {'bid': 20, 'username': 'Boomer2107', 'is_bidomatic': True},\n",
       " {'bid': 21, 'username': 'mantinori', 'is_bidomatic': True},\n",
       " {'bid': 22, 'username': 'Boomer2107', 'is_bidomatic': True},\n",
       " {'bid': 23, 'username': 'mantinori', 'is_bidomatic': True},\n",
       " {'bid': 24, 'username': 'Boomer2107', 'is_bidomatic': True},\n",
       " {'bid': 25, 'username': 'mantinori', 'is_bidomatic': True},\n",
       " {'bid': 26, 'username': 'Boomer2107', 'is_bidomatic': True},\n",
       " {'bid': 27, 'username': 'mantinori', 'is_bidomatic': True},\n",
       " {'bid': 28, 'username': 'Boomer2107', 'is_bidomatic': True},\n",
       " {'bid': 29, 'username': 'mantinori', 'is_bidomatic': True},\n",
       " {'bid': 30, 'username': 'Boomer2107', 'is_bidomatic': True},\n",
       " {'bid': 31, 'username': 'mantinori', 'is_bidomatic': True},\n",
       " {'bid': 32, 'username': 'Boomer2107', 'is_bidomatic': True},\n",
       " {'bid': 33, 'username': 'mantinori', 'is_bidomatic': True},\n",
       " {'bid': 34, 'username': 'Boomer2107', 'is_bidomatic': True},\n",
       " {'bid': 35, 'username': 'mantinori', 'is_bidomatic': True},\n",
       " {'bid': 36, 'username': 'Boomer2107', 'is_bidomatic': True},\n",
       " {'bid': 37, 'username': 'mantinori', 'is_bidomatic': True},\n",
       " {'bid': 38, 'username': 'Boomer2107', 'is_bidomatic': True},\n",
       " {'bid': 39, 'username': 'mantinori', 'is_bidomatic': True},\n",
       " {'bid': 40, 'username': 'Boomer2107', 'is_bidomatic': True},\n",
       " {'bid': 41, 'username': 'mantinori', 'is_bidomatic': True},\n",
       " {'bid': 42, 'username': 'Boomer2107', 'is_bidomatic': True},\n",
       " {'bid': 43, 'username': 'mantinori', 'is_bidomatic': True},\n",
       " {'bid': 44, 'username': 'Boomer2107', 'is_bidomatic': True},\n",
       " {'bid': 45, 'username': 'mantinori', 'is_bidomatic': True},\n",
       " {'bid': 46, 'username': 'Boomer2107', 'is_bidomatic': True},\n",
       " {'bid': 47, 'username': 'mantinori', 'is_bidomatic': True},\n",
       " {'bid': 48, 'username': 'Boomer2107', 'is_bidomatic': True},\n",
       " {'bid': 49, 'username': 'jsmthjm', 'is_bidomatic': False},\n",
       " {'bid': 50, 'username': 'mantinori', 'is_bidomatic': True},\n",
       " {'bid': 51, 'username': 'Boomer2107', 'is_bidomatic': True},\n",
       " {'bid': 52, 'username': 'mantinori', 'is_bidomatic': True},\n",
       " {'bid': 53, 'username': 'Boomer2107', 'is_bidomatic': True},\n",
       " {'bid': 54, 'username': 'jsmthjm', 'is_bidomatic': True},\n",
       " {'bid': 55, 'username': 'Boomer2107', 'is_bidomatic': True},\n",
       " {'bid': 56, 'username': 'mantinori', 'is_bidomatic': True},\n",
       " {'bid': 57, 'username': 'jsmthjm', 'is_bidomatic': True},\n",
       " {'bid': 58, 'username': 'mantinori', 'is_bidomatic': True},\n",
       " {'bid': 59, 'username': 'jsmthjm', 'is_bidomatic': True},\n",
       " {'bid': 60, 'username': 'mantinori', 'is_bidomatic': True},\n",
       " {'bid': 61, 'username': 'jsmthjm', 'is_bidomatic': True},\n",
       " {'bid': 62, 'username': 'mantinori', 'is_bidomatic': True},\n",
       " {'bid': 63, 'username': 'jsmthjm', 'is_bidomatic': True},\n",
       " {'bid': 64, 'username': 'mantinori', 'is_bidomatic': True},\n",
       " {'bid': 65, 'username': 'jsmthjm', 'is_bidomatic': True},\n",
       " {'bid': 66, 'username': 'mantinori', 'is_bidomatic': True},\n",
       " {'bid': 67, 'username': 'jsmthjm', 'is_bidomatic': True},\n",
       " {'bid': 68, 'username': 'mantinori', 'is_bidomatic': True},\n",
       " {'bid': 69, 'username': 'jsmthjm', 'is_bidomatic': True},\n",
       " {'bid': 70, 'username': 'mantinori', 'is_bidomatic': True},\n",
       " {'bid': 71, 'username': 'jsmthjm', 'is_bidomatic': True},\n",
       " {'bid': 72, 'username': 'mantinori', 'is_bidomatic': True},\n",
       " {'bid': 73, 'username': 'jsmthjm', 'is_bidomatic': True},\n",
       " {'bid': 74, 'username': 'mantinori', 'is_bidomatic': True},\n",
       " {'bid': 75, 'username': 'jsmthjm', 'is_bidomatic': True},\n",
       " {'bid': 76, 'username': 'mantinori', 'is_bidomatic': True},\n",
       " {'bid': 77, 'username': 'jsmthjm', 'is_bidomatic': True},\n",
       " {'bid': 78, 'username': 'mantinori', 'is_bidomatic': True},\n",
       " {'bid': 79, 'username': 'jsmthjm', 'is_bidomatic': True},\n",
       " {'bid': 80, 'username': 'mantinori', 'is_bidomatic': True},\n",
       " {'bid': 81, 'username': 'jsmthjm', 'is_bidomatic': True},\n",
       " {'bid': 82, 'username': 'mantinori', 'is_bidomatic': True},\n",
       " {'bid': 83, 'username': 'jsmthjm', 'is_bidomatic': True},\n",
       " {'bid': 84, 'username': 'mantinori', 'is_bidomatic': True},\n",
       " {'bid': 85, 'username': 'jsmthjm', 'is_bidomatic': True},\n",
       " {'bid': 86, 'username': 'mantinori', 'is_bidomatic': True},\n",
       " {'bid': 87, 'username': 'jsmthjm', 'is_bidomatic': True},\n",
       " {'bid': 88, 'username': 'mantinori', 'is_bidomatic': True},\n",
       " {'bid': 89, 'username': 'jsmthjm', 'is_bidomatic': True},\n",
       " {'bid': 90, 'username': 'mantinori', 'is_bidomatic': True},\n",
       " {'bid': 91, 'username': 'jsmthjm', 'is_bidomatic': True},\n",
       " {'bid': 92, 'username': 'mantinori', 'is_bidomatic': True}]"
      ]
     },
     "execution_count": 239,
     "metadata": {},
     "output_type": "execute_result"
    }
   ],
   "source": [
    "\n"
   ]
  },
  {
   "cell_type": "code",
   "execution_count": 201,
   "metadata": {},
   "outputs": [
    {
     "data": {
      "text/plain": [
       "mantinori     45\n",
       "Boomer2107    26\n",
       "jsmthjm       20\n",
       "twylla67       1\n",
       "Name: username, dtype: int64"
      ]
     },
     "execution_count": 201,
     "metadata": {},
     "output_type": "execute_result"
    }
   ],
   "source": [
    "df.username.value_counts()"
   ]
  },
  {
   "cell_type": "code",
   "execution_count": null,
   "metadata": {},
   "outputs": [],
   "source": []
  }
 ],
 "metadata": {
  "kernelspec": {
   "display_name": "Python 3",
   "language": "python",
   "name": "python3"
  },
  "language_info": {
   "codemirror_mode": {
    "name": "ipython",
    "version": 3
   },
   "file_extension": ".py",
   "mimetype": "text/x-python",
   "name": "python",
   "nbconvert_exporter": "python",
   "pygments_lexer": "ipython3",
   "version": "3.7.4"
  }
 },
 "nbformat": 4,
 "nbformat_minor": 2
}
