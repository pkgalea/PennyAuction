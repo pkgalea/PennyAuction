{
 "cells": [
  {
   "cell_type": "code",
   "execution_count": 191,
   "metadata": {},
   "outputs": [],
   "source": [
    "import pandas as pd\n",
    "import psycopg2 as pg2\n",
    "import matplotlib.pyplot as plt\n",
    "plt.style.use('ggplot')\n",
    "from sklearn.tree import DecisionTreeClassifier\n",
    "from sklearn.ensemble import RandomForestClassifier, GradientBoostingClassifier\n",
    "from pandas.plotting import scatter_matrix\n",
    "from sklearn.model_selection import train_test_split, GridSearchCV\n",
    "from sklearn.pipeline import Pipeline\n",
    "from sklearn.metrics import confusion_matrix, precision_score, recall_score, accuracy_score, roc_curve\n",
    "from sklearn.preprocessing import OneHotEncoder,StandardScaler\n",
    "from sklearn.impute import SimpleImputer\n",
    "from sklearn.compose import ColumnTransformer\n",
    "from imblearn.under_sampling import RandomUnderSampler\n",
    "import numpy as np\n",
    "\n"
   ]
  },
  {
   "cell_type": "code",
   "execution_count": 192,
   "metadata": {},
   "outputs": [],
   "source": [
    "conn = pg2.connect(user='postgres',  dbname='penny', host='localhost', port='5432', password='password')\n",
    "df = pd.read_sql (\"\"\"Select * from auction_full WHERE bid > 10\"\"\", conn)\n",
    "df_backup = df.copy()"
   ]
  },
  {
   "cell_type": "code",
   "execution_count": 193,
   "metadata": {},
   "outputs": [],
   "source": [
    "df = df_backup.copy()"
   ]
  },
  {
   "cell_type": "code",
   "execution_count": 203,
   "metadata": {},
   "outputs": [],
   "source": [
    "df.is_bidomatic0 = df.is_bidomatic0.astype(str)\n",
    "df.is_bidomatic1 = df.is_bidomatic1.astype(str)\n",
    "df.is_bidomatic2 = df.is_bidomatic2.astype(str)\n",
    "df.is_bidomatic3 = df.is_bidomatic3.astype(str)\n",
    "df[\"percent_near_bin0\"] = df[\"bids_so_far0\"]/(df[\"cashvalue\"]*2.5)\n",
    "df[\"percent_near_bin1\"] = df[\"bids_so_far1\"]/(df[\"cashvalue\"]*2.5)\n",
    "df[\"percent_near_bin2\"] = df[\"bids_so_far2\"]/(df[\"cashvalue\"]*2.5)\n",
    "df[\"percent_near_bin3\"] = df[\"bids_so_far3\"]/(df[\"cashvalue\"]*2.5)\n",
    "df[df[\"is_bidomatic0\"]==False].streak0 = 0\n",
    "df[df[\"is_bidomatic1\"]==False].streak1 = 0\n",
    "df[df[\"is_bidomatic2\"]==False].streak2 = 0\n",
    "df[df[\"is_bidomatic3\"]==False].streak3 = 0\n"
   ]
  },
  {
   "cell_type": "code",
   "execution_count": 204,
   "metadata": {},
   "outputs": [],
   "source": [
    "\n",
    "\n",
    "y = df.pop('is_winner')\n",
    "X = df\n",
    "X_train, X_test, y_train, y_test = train_test_split(X, y, random_state=0) \n"
   ]
  },
  {
   "cell_type": "code",
   "execution_count": 205,
   "metadata": {},
   "outputs": [],
   "source": [
    "df[df[\"is_bidomatic0\"]==False].streak0 = 0"
   ]
  },
  {
   "cell_type": "code",
   "execution_count": 206,
   "metadata": {},
   "outputs": [],
   "source": [
    "rus = RandomUnderSampler(random_state=0)\n",
    "X_train_resampled, y_train_resampled = rus.fit_resample(X_train, y_train)\n",
    "\n",
    "#winner_count = sum(y_train)\n",
    "#loser_mask = y_train==False\n",
    "#y_train_losers = y_train[y_train==False].sample(n=winner_count)\n",
    "#print(y_train_losers)\n",
    "#X_train_winners = df[y_train==True]\n",
    "#df_sample = pd.concat([df_losers, df_winners], axis=0)"
   ]
  },
  {
   "cell_type": "code",
   "execution_count": 208,
   "metadata": {},
   "outputs": [
    {
     "data": {
      "text/plain": [
       "(25586, 42)"
      ]
     },
     "execution_count": 208,
     "metadata": {},
     "output_type": "execute_result"
    }
   ],
   "source": [
    "X_train_resampled.shape\n"
   ]
  },
  {
   "cell_type": "code",
   "execution_count": 217,
   "metadata": {},
   "outputs": [],
   "source": [
    "categorical_features = ['cardtype', 'limited_allowed', 'is_locked', 'is_bidomatic', 'is_bidomatic0', 'is_bidomatic1', 'is_bidomatic2', 'is_bidomatic3' ]\n",
    "numeric_features = ['cashvalue','bidvalue', 'bid', 'prevusers', \n",
    "                     'bids_so_far0', 'streak0', 'percent_near_bin0',\n",
    "                    'distance1', 'bids_so_far1', 'streak1', 'percent_near_bin1',\n",
    "                    'distance2', 'bids_so_far2', 'streak2', 'percent_near_bin2',\n",
    "                    'distance3', 'bids_so_far3', 'streak3', 'percent_near_bin3',]\n",
    "numeric_transformer = Pipeline(steps=[\n",
    "    ('imputer', SimpleImputer(strategy='constant', fill_value=-1)),\n",
    "])\n",
    "categorical_transformer = Pipeline(steps=[\n",
    "    ('imputer', SimpleImputer(strategy='constant', fill_value='unknown')),\n",
    "    ('onehot', OneHotEncoder(handle_unknown='error', drop='first'))])\n",
    "preprocessor = ColumnTransformer(\n",
    "    transformers=[\n",
    "        ('num', numeric_transformer, numeric_features),\n",
    "        ('cat', categorical_transformer, categorical_features)])\n",
    "model = Pipeline(steps=[('preprocessor', preprocessor),\n",
    "                      ('classifier', RandomForestClassifier())])\n"
   ]
  },
  {
   "cell_type": "code",
   "execution_count": 218,
   "metadata": {},
   "outputs": [
    {
     "data": {
      "text/plain": [
       "Pipeline(memory=None,\n",
       "         steps=[('preprocessor',\n",
       "                 ColumnTransformer(n_jobs=None, remainder='drop',\n",
       "                                   sparse_threshold=0.3,\n",
       "                                   transformer_weights=None,\n",
       "                                   transformers=[('num',\n",
       "                                                  Pipeline(memory=None,\n",
       "                                                           steps=[('imputer',\n",
       "                                                                   SimpleImputer(add_indicator=False,\n",
       "                                                                                 copy=True,\n",
       "                                                                                 fill_value=-1,\n",
       "                                                                                 missing_values=nan,\n",
       "                                                                                 strategy='constant',\n",
       "                                                                                 verbose=0))],\n",
       "                                                           verbose=False),\n",
       "                                                  ['cashvalue', 'bidvalue',\n",
       "                                                   'bid...\n",
       "                 RandomForestClassifier(bootstrap=True, ccp_alpha=0.0,\n",
       "                                        class_weight=None, criterion='gini',\n",
       "                                        max_depth=None, max_features='auto',\n",
       "                                        max_leaf_nodes=None, max_samples=None,\n",
       "                                        min_impurity_decrease=0.0,\n",
       "                                        min_impurity_split=None,\n",
       "                                        min_samples_leaf=1, min_samples_split=2,\n",
       "                                        min_weight_fraction_leaf=0.0,\n",
       "                                        n_estimators=100, n_jobs=None,\n",
       "                                        oob_score=False, random_state=None,\n",
       "                                        verbose=0, warm_start=False))],\n",
       "         verbose=False)"
      ]
     },
     "execution_count": 218,
     "metadata": {},
     "output_type": "execute_result"
    }
   ],
   "source": [
    "model.fit(X_train_resampled, y_train_resampled)"
   ]
  },
  {
   "cell_type": "code",
   "execution_count": 219,
   "metadata": {
    "scrolled": true
   },
   "outputs": [
    {
     "data": {
      "image/png": "[encoded data removed]",
      "text/plain": [
       "<Figure size 720x576 with 1 Axes>"
      ]
     },
     "metadata": {},
     "output_type": "display_data"
    }
   ],
   "source": [
    "# Plot the feature importance\n",
    "feat_scores = pd.Series(model.steps[1][1].feature_importances_,\n",
    "                           index=get_column_names_from_ColumnTransformer(model.named_steps['preprocessor']))\n",
    "feat_scores = feat_scores.sort_values()\n",
    "ax = feat_scores.plot(kind='barh', \n",
    "                      figsize=(10,8),\n",
    "                      color='b')\n",
    "ax.set_title('Average Gini Importance')\n",
    "ax.set_xlabel('Average contribution to information gain');"
   ]
  },
  {
   "cell_type": "code",
   "execution_count": 220,
   "metadata": {},
   "outputs": [],
   "source": [
    "def get_column_names_from_ColumnTransformer(column_transformer):    \n",
    "    col_name = []\n",
    "    for transformer_in_columns in column_transformer.transformers_[:-1]:#the last transformer is ColumnTransformer's 'remainder'\n",
    "        raw_col_name = transformer_in_columns[2]\n",
    "        if isinstance(transformer_in_columns[1],Pipeline): \n",
    "            transformer = transformer_in_columns[1].steps[-1][1]\n",
    "        else:\n",
    "            transformer = transformer_in_columns[1]\n",
    "        try:\n",
    "            names = transformer.get_feature_names()\n",
    "        except AttributeError: # if no 'get_feature_names' function, use raw column name\n",
    "            names = raw_col_name\n",
    "        if isinstance(names,np.ndarray): # eg.\n",
    "            col_name += names.tolist()\n",
    "        elif isinstance(names,list):\n",
    "            col_name += names    \n",
    "        elif isinstance(names,str):\n",
    "            col_name.append(names)\n",
    "    return col_name"
   ]
  },
  {
   "cell_type": "code",
   "execution_count": 221,
   "metadata": {},
   "outputs": [],
   "source": [
    "probs = model.predict_proba(X_test)[:, 1]"
   ]
  },
  {
   "cell_type": "code",
   "execution_count": null,
   "metadata": {},
   "outputs": [
    {
     "name": "stdout",
     "output_type": "stream",
     "text": [
      "*****************************\n",
      "thresh: 0.5\n"
     ]
    }
   ],
   "source": [
    "for thresh in np.arange(.5, 1,  .05):\n",
    "    y_to_score = probs > thresh\n",
    "    cm = confusion_matrix(y_test, y_to_score)\n",
    "    print(\"*****************************\")\n",
    "    print(\"thresh:\", thresh)\n",
    "    print (\"Accuracy {}: Precision: {}  Recall:{} \".format(accuracy_score(y_test, y_to_score), precision_score(y_test, y_to_score), recall_score(y_test, y_to_score)))\n",
    "    print(cm)\n",
    "    profit = sum(X_test.cashvalue[(y_to_score==True)&(y_test==True)])-sum(y_to_score)*.40\n",
    "    profit_per_bid = profit/len(y_to_score)\n",
    "    print(\"profit:\", profit)\n",
    "    print(\"profit per bid:\", profit_per_bid)\n",
    "    print(\"*****************************\")\n",
    "    print(\"\")\n",
    "    \n"
   ]
  },
  {
   "cell_type": "code",
   "execution_count": 215,
   "metadata": {},
   "outputs": [
    {
     "data": {
      "text/plain": [
       "(array([11., 13.,  6.,  7.,  5.,  4.,  4.,  4.,  9.,  4.,  5.,  6.,  5.,\n",
       "         1.,  1.,  2.,  2.,  3.,  2.,  1.,  1.,  2.,  0.,  3.,  1.,  0.,\n",
       "         1.,  1.,  0.,  0.,  3.,  1.,  2.,  0.,  1.,  2.,  1.,  1.,  0.,\n",
       "         1.,  0.,  0.,  0.,  0.,  1.,  0.,  0.,  0.,  0.,  0.,  0.,  1.,\n",
       "         0.,  1.,  1.,  0.,  0.,  0.,  0.,  0.,  1.,  0.,  2.,  0.,  0.,\n",
       "         0.,  0.,  0.,  0.,  0.,  0.,  0.,  0.,  0.,  0.,  0.,  0.,  0.,\n",
       "         0.,  0.,  0.,  0.,  0.,  0.,  0.,  0.,  0.,  0.,  0.,  0.,  0.,\n",
       "         0.,  0.,  0.,  0.,  1.,  0.,  0.,  1.,  0.,  0.,  0.,  0.,  0.,\n",
       "         0.,  0.,  0.,  0.,  0.,  0.,  0.,  0.,  0.,  0.,  0.,  0.,  0.,\n",
       "         0.,  0.,  0.,  0.,  0.,  0.,  0.,  0.,  0.,  0.,  0.,  0.,  0.,\n",
       "         0.,  0.,  0.,  0.,  0.,  0.,  0.,  0.,  0.,  0.,  0.,  0.,  0.,\n",
       "         0.,  0.,  0.,  0.,  0.,  0.,  0.,  0.,  0.,  0.,  0.,  0.,  0.,\n",
       "         0.,  0.,  0.,  0.,  0.,  1.,  0.,  0.,  0.,  0.,  0.,  0.,  0.,\n",
       "         0.,  0.,  0.,  0.,  0.,  0.,  0.,  0.,  0.,  0.,  0.,  0.,  0.,\n",
       "         0.,  0.,  1.,  0.,  0.,  0.,  0.,  0.,  0.,  0.,  0.,  0.,  0.,\n",
       "         0.,  0.,  0.,  0.,  0.,  0.,  0.,  0.,  1.,  0.,  0.,  0.,  0.,\n",
       "         0.,  0.,  0.,  0.,  0.,  0.,  0.,  0.,  1.,  0.,  0.,  0.,  0.,\n",
       "         0.,  0.,  1.,  0.,  0.,  0.,  0.,  0.,  0.,  0.,  0.,  0.,  0.,\n",
       "         0.,  0.,  0.,  0.,  0.,  0.,  0.,  0.,  0.,  0.,  0.,  0.,  0.,\n",
       "         0.,  0.,  0.,  0.,  0.,  1.]),\n",
       " array([ 11.        ,  11.95652174,  12.91304348,  13.86956522,\n",
       "         14.82608696,  15.7826087 ,  16.73913043,  17.69565217,\n",
       "         18.65217391,  19.60869565,  20.56521739,  21.52173913,\n",
       "         22.47826087,  23.43478261,  24.39130435,  25.34782609,\n",
       "         26.30434783,  27.26086957,  28.2173913 ,  29.17391304,\n",
       "         30.13043478,  31.08695652,  32.04347826,  33.        ,\n",
       "         33.95652174,  34.91304348,  35.86956522,  36.82608696,\n",
       "         37.7826087 ,  38.73913043,  39.69565217,  40.65217391,\n",
       "         41.60869565,  42.56521739,  43.52173913,  44.47826087,\n",
       "         45.43478261,  46.39130435,  47.34782609,  48.30434783,\n",
       "         49.26086957,  50.2173913 ,  51.17391304,  52.13043478,\n",
       "         53.08695652,  54.04347826,  55.        ,  55.95652174,\n",
       "         56.91304348,  57.86956522,  58.82608696,  59.7826087 ,\n",
       "         60.73913043,  61.69565217,  62.65217391,  63.60869565,\n",
       "         64.56521739,  65.52173913,  66.47826087,  67.43478261,\n",
       "         68.39130435,  69.34782609,  70.30434783,  71.26086957,\n",
       "         72.2173913 ,  73.17391304,  74.13043478,  75.08695652,\n",
       "         76.04347826,  77.        ,  77.95652174,  78.91304348,\n",
       "         79.86956522,  80.82608696,  81.7826087 ,  82.73913043,\n",
       "         83.69565217,  84.65217391,  85.60869565,  86.56521739,\n",
       "         87.52173913,  88.47826087,  89.43478261,  90.39130435,\n",
       "         91.34782609,  92.30434783,  93.26086957,  94.2173913 ,\n",
       "         95.17391304,  96.13043478,  97.08695652,  98.04347826,\n",
       "         99.        ,  99.95652174, 100.91304348, 101.86956522,\n",
       "        102.82608696, 103.7826087 , 104.73913043, 105.69565217,\n",
       "        106.65217391, 107.60869565, 108.56521739, 109.52173913,\n",
       "        110.47826087, 111.43478261, 112.39130435, 113.34782609,\n",
       "        114.30434783, 115.26086957, 116.2173913 , 117.17391304,\n",
       "        118.13043478, 119.08695652, 120.04347826, 121.        ,\n",
       "        121.95652174, 122.91304348, 123.86956522, 124.82608696,\n",
       "        125.7826087 , 126.73913043, 127.69565217, 128.65217391,\n",
       "        129.60869565, 130.56521739, 131.52173913, 132.47826087,\n",
       "        133.43478261, 134.39130435, 135.34782609, 136.30434783,\n",
       "        137.26086957, 138.2173913 , 139.17391304, 140.13043478,\n",
       "        141.08695652, 142.04347826, 143.        , 143.95652174,\n",
       "        144.91304348, 145.86956522, 146.82608696, 147.7826087 ,\n",
       "        148.73913043, 149.69565217, 150.65217391, 151.60869565,\n",
       "        152.56521739, 153.52173913, 154.47826087, 155.43478261,\n",
       "        156.39130435, 157.34782609, 158.30434783, 159.26086957,\n",
       "        160.2173913 , 161.17391304, 162.13043478, 163.08695652,\n",
       "        164.04347826, 165.        , 165.95652174, 166.91304348,\n",
       "        167.86956522, 168.82608696, 169.7826087 , 170.73913043,\n",
       "        171.69565217, 172.65217391, 173.60869565, 174.56521739,\n",
       "        175.52173913, 176.47826087, 177.43478261, 178.39130435,\n",
       "        179.34782609, 180.30434783, 181.26086957, 182.2173913 ,\n",
       "        183.17391304, 184.13043478, 185.08695652, 186.04347826,\n",
       "        187.        , 187.95652174, 188.91304348, 189.86956522,\n",
       "        190.82608696, 191.7826087 , 192.73913043, 193.69565217,\n",
       "        194.65217391, 195.60869565, 196.56521739, 197.52173913,\n",
       "        198.47826087, 199.43478261, 200.39130435, 201.34782609,\n",
       "        202.30434783, 203.26086957, 204.2173913 , 205.17391304,\n",
       "        206.13043478, 207.08695652, 208.04347826, 209.        ,\n",
       "        209.95652174, 210.91304348, 211.86956522, 212.82608696,\n",
       "        213.7826087 , 214.73913043, 215.69565217, 216.65217391,\n",
       "        217.60869565, 218.56521739, 219.52173913, 220.47826087,\n",
       "        221.43478261, 222.39130435, 223.34782609, 224.30434783,\n",
       "        225.26086957, 226.2173913 , 227.17391304, 228.13043478,\n",
       "        229.08695652, 230.04347826, 231.        , 231.95652174,\n",
       "        232.91304348, 233.86956522, 234.82608696, 235.7826087 ,\n",
       "        236.73913043, 237.69565217, 238.65217391, 239.60869565,\n",
       "        240.56521739, 241.52173913, 242.47826087, 243.43478261,\n",
       "        244.39130435, 245.34782609, 246.30434783, 247.26086957,\n",
       "        248.2173913 , 249.17391304, 250.13043478, 251.08695652,\n",
       "        252.04347826, 253.        ]),\n",
       " <a list of 253 Patch objects>)"
      ]
     },
     "execution_count": 215,
     "metadata": {},
     "output_type": "execute_result"
    },
    {
     "data": {
      "image/png": "[encoded data removed]",
      "text/plain": [
       "<Figure size 432x288 with 1 Axes>"
      ]
     },
     "metadata": {},
     "output_type": "display_data"
    }
   ],
   "source": [
    "plt.hist(X_test.bid[(y_to_score==True)&(y_test==True)], bins=max(X_test.bid[(y_to_score==True)&(y_test==True)]))"
   ]
  },
  {
   "cell_type": "code",
   "execution_count": 216,
   "metadata": {},
   "outputs": [
    {
     "data": {
      "text/plain": [
       "(10, 100)"
      ]
     },
     "execution_count": 216,
     "metadata": {},
     "output_type": "execute_result"
    },
    {
     "data": {
      "image/png": "[encoded data removed]",
      "text/plain": [
       "<Figure size 432x288 with 1 Axes>"
      ]
     },
     "metadata": {},
     "output_type": "display_data"
    }
   ],
   "source": [
    "fig, ax = plt.subplots()\n",
    "ax.hist(X_test.bid[(y_to_score==True)], bins=max(X_test.bid[(y_to_score==True)]), alpha=.5)\n",
    "ax.hist(X_test.bid[(y_to_score==True)&(y_test==True)], bins=max(X_test.bid[(y_to_score==True)&(y_test==True)]))\n",
    "ax.set_ylim(bottom=0, top=250)\n",
    "ax.set_xlim(left=10, right=100)"
   ]
  },
  {
   "cell_type": "code",
   "execution_count": null,
   "metadata": {},
   "outputs": [],
   "source": []
  }
 ],
 "metadata": {
  "kernelspec": {
   "display_name": "Python 3",
   "language": "python",
   "name": "python3"
  },
  "language_info": {
   "codemirror_mode": {
    "name": "ipython",
    "version": 3
   },
   "file_extension": ".py",
   "mimetype": "text/x-python",
   "name": "python",
   "nbconvert_exporter": "python",
   "pygments_lexer": "ipython3",
   "version": "3.6.10"
  }
 },
 "nbformat": 4,
 "nbformat_minor": 4
}
