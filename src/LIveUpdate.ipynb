{
 "cells": [
  {
   "cell_type": "code",
   "execution_count": 1,
   "metadata": {},
   "outputs": [],
   "source": [
    "import LiveAuctionProcessor\n",
    "import PrevInfo\n",
    "import importlib\n",
    "import time\n",
    "import psycopg2 as pg2\n",
    "import pandas as pd\n",
    "from datetime import datetime, timedelta\n",
    "import math\n",
    "import pickle"
   ]
  },
  {
   "cell_type": "code",
   "execution_count": 48,
   "metadata": {},
   "outputs": [
    {
     "name": "stdout",
     "output_type": "stream",
     "text": [
      "Connecting to SQL\n",
      "Reading Dataset\n"
     ]
    }
   ],
   "source": [
    "print (\"Connecting to SQL\")\n",
    "conn = pg2.connect(user='postgres',  dbname='penny', host='localhost', port='5432', password='password')\n",
    "\n",
    "print (\"Reading Dataset\")\n",
    "full_df = pd.read_sql (\"\"\"Select *  from auction_full where auctionid = 100022191\"\"\", conn)\n",
    "bids_df = pd.read_sql(\"Select * from bids where auctionid = 100022191 ORDER BY bid\", conn)\n",
    "auctions_df = pd.read_sql(\"Select * from auctions where qauctionid = 100022191\", conn)\n",
    "bh = [{'bid':b[1]['bid'], 'username':b[1]['username'], 'is_bidomatic': b[1]['is_bidomatic']} for b in bids_df.iterrows()]"
   ]
  },
  {
   "cell_type": "code",
   "execution_count": 32,
   "metadata": {},
   "outputs": [
    {
     "name": "stdout",
     "output_type": "stream",
     "text": [
      "Connecting to SQL\n"
     ]
    }
   ],
   "source": [
    "#prev_df = pd.read_sql(\"\"\"\n",
    "#with bozo as\n",
    "#(\n",
    "#Select username, max(auctiontime) as max_auctiontime from auction_full WHERE auctiontime <= '2020-01-16 22:53:19' group by username \n",
    "#)\n",
    "#select bozo.username,  prev_auction_count0, prev_overbid0, prev_giveup_one0, prev_give_before_six0, \n",
    "#prev_wins0, prev_bids0, prev_bom_bids0 from bozo left join auction_full on bozo.username=Username0 \n",
    "#and bozo.max_auctiontime=auction_full.auctiontime and auction_full.bids_so_far0=1\n",
    "#\"\"\"\n",
    "#, conn)\n",
    "pi = PrevInfo.PrevInfo()\n",
    "pi.get_users_previous_info(\"07robert\")\n",
    "pi.pickle(\"pi.pkl\")"
   ]
  },
  {
   "cell_type": "code",
   "execution_count": 11,
   "metadata": {
    "scrolled": false
   },
   "outputs": [
    {
     "ename": "NameError",
     "evalue": "name 'lap_update' is not defined",
     "output_type": "error",
     "traceback": [
      "\u001b[0;31m---------------------------------------------------------------------------\u001b[0m",
      "\u001b[0;31mNameError\u001b[0m                                 Traceback (most recent call last)",
      "\u001b[0;32m<ipython-input-11-a92ff502bc2b>\u001b[0m in \u001b[0;36m<module>\u001b[0;34m\u001b[0m\n\u001b[1;32m      3\u001b[0m \u001b[0mauction_dict\u001b[0m \u001b[0;34m=\u001b[0m \u001b[0;34m{\u001b[0m\u001b[0;34m\"auction_id\"\u001b[0m\u001b[0;34m:\u001b[0m\u001b[0;34m'620712999'\u001b[0m\u001b[0;34m}\u001b[0m\u001b[0;34m\u001b[0m\u001b[0;34m\u001b[0m\u001b[0m\n\u001b[1;32m      4\u001b[0m \u001b[0mlap\u001b[0m \u001b[0;34m=\u001b[0m \u001b[0mLiveAuctionProcessor\u001b[0m\u001b[0;34m.\u001b[0m\u001b[0mLiveAuctionProcessor\u001b[0m\u001b[0;34m(\u001b[0m\u001b[0mauction_dict\u001b[0m\u001b[0;34m)\u001b[0m\u001b[0;34m\u001b[0m\u001b[0;34m\u001b[0m\u001b[0m\n\u001b[0;32m----> 5\u001b[0;31m \u001b[0mbh\u001b[0m \u001b[0;34m=\u001b[0m \u001b[0mlap_update\u001b[0m\u001b[0;34m(\u001b[0m\u001b[0;34m)\u001b[0m\u001b[0;34m\u001b[0m\u001b[0;34m\u001b[0m\u001b[0m\n\u001b[0m",
      "\u001b[0;31mNameError\u001b[0m: name 'lap_update' is not defined"
     ]
    }
   ],
   "source": [
    "auction_id = '100022191'\n",
    "importlib.reload(LiveAuctionProcessor)\n",
    "auction_dict = {\"auction_id\":'620712999'}\n",
    "lap = LiveAuctionProcessor.LiveAuctionProcessor(auction_dict)\n",
    "bh = lap_update()"
   ]
  },
  {
   "cell_type": "code",
   "execution_count": 128,
   "metadata": {},
   "outputs": [],
   "source": [
    "#from IPython.display import clear_output\n",
    "\n",
    "#while (True):\n",
    "#    clear_output()\n",
    "#    bh = lap.update()\n",
    "#    for b in bh[-5:]:\n",
    "#        print (b)\n",
    "#    time.sleep(1)"
   ]
  },
  {
   "cell_type": "code",
   "execution_count": 49,
   "metadata": {},
   "outputs": [
    {
     "data": {
      "text/plain": [
       "[{'bid': 1, 'username': 'mmmwww', 'is_bidomatic': False},\n",
       " {'bid': 2, 'username': 'Wiz1910', 'is_bidomatic': False},\n",
       " {'bid': 3, 'username': 'mmmwww', 'is_bidomatic': False},\n",
       " {'bid': 4, 'username': 'inmypocket', 'is_bidomatic': False},\n",
       " {'bid': 5, 'username': 'jhelmuth', 'is_bidomatic': False},\n",
       " {'bid': 6, 'username': 'inmypocket', 'is_bidomatic': False},\n",
       " {'bid': 7, 'username': 'mmmwww', 'is_bidomatic': False},\n",
       " {'bid': 8, 'username': 'moon0218', 'is_bidomatic': False},\n",
       " {'bid': 9, 'username': 'jhelmuth', 'is_bidomatic': False},\n",
       " {'bid': 10, 'username': 'BuyItAnyway', 'is_bidomatic': False},\n",
       " {'bid': 11, 'username': 'XMAS19722014', 'is_bidomatic': False},\n",
       " {'bid': 12, 'username': 'inmypocket', 'is_bidomatic': False},\n",
       " {'bid': 13, 'username': 'BuyItAnyway', 'is_bidomatic': False},\n",
       " {'bid': 14, 'username': 'inmypocket', 'is_bidomatic': False},\n",
       " {'bid': 15, 'username': 'BuyItAnyway', 'is_bidomatic': False},\n",
       " {'bid': 16, 'username': 'jhelmuth', 'is_bidomatic': False},\n",
       " {'bid': 17, 'username': 'moon0218', 'is_bidomatic': False},\n",
       " {'bid': 18, 'username': 'BuyItAnyway', 'is_bidomatic': False},\n",
       " {'bid': 19, 'username': 'jhelmuth', 'is_bidomatic': False},\n",
       " {'bid': 20, 'username': 'XMAS19722014', 'is_bidomatic': False},\n",
       " {'bid': 21, 'username': 'moon0218', 'is_bidomatic': False},\n",
       " {'bid': 22, 'username': 'BuyItAnyway', 'is_bidomatic': False},\n",
       " {'bid': 23, 'username': 'jhelmuth', 'is_bidomatic': False},\n",
       " {'bid': 24, 'username': 'XMAS19722014', 'is_bidomatic': False},\n",
       " {'bid': 25, 'username': 'BuyItAnyway', 'is_bidomatic': False},\n",
       " {'bid': 26, 'username': 'XMAS19722014', 'is_bidomatic': False},\n",
       " {'bid': 27, 'username': 'BuyItAnyway', 'is_bidomatic': False},\n",
       " {'bid': 28, 'username': 'DesertVet5702', 'is_bidomatic': False},\n",
       " {'bid': 29, 'username': 'BuyItAnyway', 'is_bidomatic': False},\n",
       " {'bid': 30, 'username': 'DesertVet5702', 'is_bidomatic': False},\n",
       " {'bid': 31, 'username': 'BuyItAnyway', 'is_bidomatic': False},\n",
       " {'bid': 32, 'username': 'DesertVet5702', 'is_bidomatic': False},\n",
       " {'bid': 33, 'username': 'BuyItAnyway', 'is_bidomatic': False},\n",
       " {'bid': 34, 'username': 'DesertVet5702', 'is_bidomatic': False},\n",
       " {'bid': 35, 'username': 'inmypocket', 'is_bidomatic': False},\n",
       " {'bid': 36, 'username': 'BuyItAnyway', 'is_bidomatic': False},\n",
       " {'bid': 37, 'username': 'DesertVet5702', 'is_bidomatic': False},\n",
       " {'bid': 38, 'username': 'BuyItAnyway', 'is_bidomatic': False},\n",
       " {'bid': 39, 'username': 'inmypocket', 'is_bidomatic': False},\n",
       " {'bid': 40, 'username': 'BuyItAnyway', 'is_bidomatic': False}]"
      ]
     },
     "execution_count": 49,
     "metadata": {},
     "output_type": "execute_result"
    }
   ],
   "source": [
    "bh"
   ]
  },
  {
   "cell_type": "code",
   "execution_count": 50,
   "metadata": {},
   "outputs": [],
   "source": [
    "bh = bh[:7]"
   ]
  },
  {
   "cell_type": "code",
   "execution_count": null,
   "metadata": {},
   "outputs": [],
   "source": []
  },
  {
   "cell_type": "code",
   "execution_count": 101,
   "metadata": {},
   "outputs": [],
   "source": [
    "auction_dict = {\"auctionid\": full_df.auctionid[0],\n",
    "  'cashvalue': full_df.cashvalue[0],\n",
    "  'cardvalue': full_df.cardvalue[0],\n",
    "  'cardtype': full_df.cardtype[0],\n",
    "  'bidvalue': full_df.bidvalue[0],\n",
    "  'limited_allowed': full_df.limited_allowed[0],\n",
    "  'is_locked': False,    #FIXME\n",
    "  'seconds_left': 531}\n"
   ]
  },
  {
   "cell_type": "code",
   "execution_count": 102,
   "metadata": {},
   "outputs": [],
   "source": [
    "def add_auction_level_fields(auction_dict, my_username):\n",
    "    auction_dict[\"idx\"]=0\n",
    "    auction_dict[\"is_winner\"] = None\n",
    "    auction_dict[\"auctiontime\"] = datetime.now()+ timedelta(hours=1)\n",
    "    bid = len(bh)+1\n",
    "    auction_dict[\"bid\"] = bid\n",
    "    auction_dict[\"is_bidomatic\"] = True\n",
    "    auction_dict[\"bids_so_far\"] = None\n",
    "    auction_dict[\"username\"] = my_username\n",
    "    auction_dict[\"fee\"]= None\n",
    "    auction_dict[\"giveup\"] = None\n",
    "    auction_dict[\"eventual_bids\"] = None\n",
    "    auction_dict[\"eventual_win_price\"] = None\n",
    "    auction_dict[\"debut\"] = None\n",
    "    auction_dict[\"bom_streak\"] = None\n",
    "    auction_dict[\"bom_bids_so_far\"] = None\n",
    "    auction_dict[\"perc_to_bin\"] = None"
   ]
  },
  {
   "cell_type": "code",
   "execution_count": 103,
   "metadata": {},
   "outputs": [],
   "source": [
    "prev_cols = ['prev_auction_count', 'prev_overbid', 'prev_giveup_one', 'prev_give_before_six', 'prev_wins', 'prev_bids', 'prev_bom_bids']"
   ]
  },
  {
   "cell_type": "code",
   "execution_count": 107,
   "metadata": {},
   "outputs": [],
   "source": [
    "my_username =  'moon0218'\n",
    "add_auction_level_fields(auction_dict, my_username)\n",
    "user_dict = {}\n",
    "cur_opponent = 0\n",
    "found_users = {}\n",
    "for r in bh[-1::-1]:\n",
    "    username = r['username']\n",
    "    cur_bid = r['bid']\n",
    "    is_bidomatic = r['is_bidomatic']\n",
    "    if username == my_username:\n",
    "        break\n",
    "    if (username not in found_users.keys()):\n",
    "        user_dict[cur_opponent]={\"username\":username, \"bids_so_far\": 0.0, \"bom_bids_so_far\": 0.0, \"distance\": float(bid-cur_bid), \"is_bidomatic\": is_bidomatic, \"bom_streak\": 0.0,  \"bom_streak_on\": True}\n",
    "        found_users[username] = cur_opponent\n",
    "        cur_opponent += 1\n",
    "    my_row = user_dict[found_users[username]] \n",
    "    my_row [\"bids_so_far\"] += 1\n",
    "    if (is_bidomatic):\n",
    "        my_row[\"bom_bids_so_far\"]+=1\n",
    "        if my_row[\"bom_streak_on\"]:\n",
    "            my_row[\"bom_streak\"] += 1\n",
    "    else:\n",
    "        my_row[\"bom_streak_on\"] = False\n",
    "        \n",
    "prev_4_users_len = min(4, len(user_dict))    \n",
    "for i in range(prev_4_users_len):\n",
    "    str_i = str(i)\n",
    "    ud = user_dict[i]\n",
    "    prev_info = pi.get_users_previous_info(ud[\"username\"])\n",
    "    ud[\"prev_is_new_user\"] = 0   #FixMe\n",
    "    for pc in prev_cols:\n",
    "        ud[pc] = prev_info[pc+\"0\"][prev_info.index[0]]\n",
    "    #, prev_overbid0, prev_giveup_one0, prev_give_before_six0, prev_wins0, prev_bids0, prev_bom_bids0\n",
    "    ud[\"perc_to_bin\"]=ud[\"bids_so_far\"]/(auction_dict[\"cashvalue\"]*2.5)\n",
    "    for k in ud:\n",
    "        auction_dict[k+str_i] = ud[k]\n",
    "\n",
    "for i in range (prev_4_users_len,4):\n",
    "    for pc in prev_cols:\n",
    "        ud[pc] = None\n",
    "    \n",
    "auction_dict[\"prevusers\"] = len(user_dict)\n",
    "auction_dict = {k:[v] for k, v in auction_dict.items()} \n"
   ]
  },
  {
   "cell_type": "code",
   "execution_count": 108,
   "metadata": {},
   "outputs": [
    {
     "data": {
      "text/plain": [
       "{'auctionid': [100022191],\n",
       " 'cashvalue': [10],\n",
       " 'cardvalue': [0],\n",
       " 'cardtype': ['None'],\n",
       " 'bidvalue': [25],\n",
       " 'limited_allowed': [False],\n",
       " 'is_locked': [False],\n",
       " 'seconds_left': [531],\n",
       " 'idx': [0],\n",
       " 'is_winner': [None],\n",
       " 'auctiontime': [datetime.datetime(2020, 2, 29, 13, 51, 20, 292351)],\n",
       " 'bid': [8],\n",
       " 'is_bidomatic': [True],\n",
       " 'bids_so_far': [None],\n",
       " 'username': ['moon0218'],\n",
       " 'fee': [None],\n",
       " 'giveup': [None],\n",
       " 'eventual_bids': [None],\n",
       " 'eventual_win_price': [None],\n",
       " 'debut': [None],\n",
       " 'bom_streak': [None],\n",
       " 'bom_bids_so_far': [None],\n",
       " 'perc_to_bin': [None],\n",
       " 'username0': ['mmmwww'],\n",
       " 'bids_so_far0': [3.0],\n",
       " 'bom_bids_so_far0': [0.0],\n",
       " 'distance0': [1],\n",
       " 'is_bidomatic0': [False],\n",
       " 'bom_streak0': [0.0],\n",
       " 'bom_streak_on0': [False],\n",
       " 'prev_is_new_user0': [0],\n",
       " 'prev_auction_count0': [616.0],\n",
       " 'prev_overbid0': [0.16233766233766234],\n",
       " 'prev_giveup_one0': [0.09253246753246754],\n",
       " 'prev_give_before_six0': [0.22402597402597402],\n",
       " 'prev_wins0': [0.22402597402597402],\n",
       " 'prev_bids0': [54.50974025974026],\n",
       " 'prev_bom_bids0': [44.050324675324674],\n",
       " 'perc_to_bin0': [0.12],\n",
       " 'username1': ['inmypocket'],\n",
       " 'bids_so_far1': [2.0],\n",
       " 'bom_bids_so_far1': [0.0],\n",
       " 'distance1': [2],\n",
       " 'is_bidomatic1': [False],\n",
       " 'bom_streak1': [0.0],\n",
       " 'bom_streak_on1': [False],\n",
       " 'prev_is_new_user1': [0],\n",
       " 'prev_auction_count1': [74.0],\n",
       " 'prev_overbid1': [0.05405405405405406],\n",
       " 'prev_giveup_one1': [0.20270270270270271],\n",
       " 'prev_give_before_six1': [0.5135135135135135],\n",
       " 'prev_wins1': [0.06756756756756757],\n",
       " 'prev_bids1': [21.256756756756758],\n",
       " 'prev_bom_bids1': [15.621621621621621],\n",
       " 'perc_to_bin1': [0.08],\n",
       " 'username2': ['jhelmuth'],\n",
       " 'bids_so_far2': [1.0],\n",
       " 'bom_bids_so_far2': [0.0],\n",
       " 'distance2': [3],\n",
       " 'is_bidomatic2': [False],\n",
       " 'bom_streak2': [0.0],\n",
       " 'bom_streak_on2': [False],\n",
       " 'prev_is_new_user2': [0],\n",
       " 'prev_auction_count2': [31.0],\n",
       " 'prev_overbid2': [0.0],\n",
       " 'prev_giveup_one2': [0.3225806451612903],\n",
       " 'prev_give_before_six2': [0.7096774193548387],\n",
       " 'prev_wins2': [0.0],\n",
       " 'prev_bids2': [6.967741935483871],\n",
       " 'prev_bom_bids2': [4.483870967741936],\n",
       " 'perc_to_bin2': [0.04],\n",
       " 'username3': ['Wiz1910'],\n",
       " 'bids_so_far3': [1.0],\n",
       " 'bom_bids_so_far3': [0.0],\n",
       " 'distance3': [6],\n",
       " 'is_bidomatic3': [False],\n",
       " 'bom_streak3': [0.0],\n",
       " 'bom_streak_on3': [False],\n",
       " 'prev_is_new_user3': [0],\n",
       " 'prev_auction_count3': [802.0],\n",
       " 'prev_overbid3': [0.0399002493765586],\n",
       " 'prev_giveup_one3': [0.3553615960099751],\n",
       " 'prev_give_before_six3': [0.729426433915212],\n",
       " 'prev_wins3': [0.04987531172069826],\n",
       " 'prev_bids3': [8.659600997506235],\n",
       " 'prev_bom_bids3': [3.896508728179551],\n",
       " 'perc_to_bin3': [0.04],\n",
       " 'prevusers': [4]}"
      ]
     },
     "execution_count": 108,
     "metadata": {},
     "output_type": "execute_result"
    }
   ],
   "source": [
    "auction_dict"
   ]
  },
  {
   "cell_type": "code",
   "execution_count": 109,
   "metadata": {},
   "outputs": [],
   "source": [
    "\n",
    "df_out = pd.DataFrame.from_dict(auction_dict)\n"
   ]
  },
  {
   "cell_type": "code",
   "execution_count": 110,
   "metadata": {},
   "outputs": [],
   "source": [
    "my_row = df_out.iloc[0,:]\n"
   ]
  },
  {
   "cell_type": "code",
   "execution_count": 111,
   "metadata": {},
   "outputs": [],
   "source": [
    "real_row = full_df.loc[full_df.bid == 8,:]"
   ]
  },
  {
   "cell_type": "code",
   "execution_count": 113,
   "metadata": {},
   "outputs": [
    {
     "name": "stdout",
     "output_type": "stream",
     "text": [
      "is_winner None False\n",
      "fee None 0.0\n",
      "auctiontime 2020-02-29T13:51:20.292351000 2020-01-16 22:53:19\n",
      "is_bidomatic True False\n",
      "bids_so_far None 1\n",
      "giveup None False\n",
      "eventual_bids None 3\n",
      "eventual_win_price None 40\n",
      "debut None 1\n",
      "bom_streak None 0\n",
      "bom_bids_so_far None 0\n",
      "perc_to_bin None 0.04\n"
     ]
    }
   ],
   "source": [
    "for c in real_row.columns:\n",
    "    if (my_row[c] != real_row[c][22]):\n",
    "        print(c, my_row[c], real_row[c][22])"
   ]
  },
  {
   "cell_type": "code",
   "execution_count": 96,
   "metadata": {},
   "outputs": [
    {
     "data": {
      "text/plain": [
       "Index(['auctionid', 'is_winner', 'cardtype', 'cashvalue', 'cardvalue', 'fee',\n",
       "       'bidvalue', 'limited_allowed', 'is_locked', 'auctiontime', 'bid',\n",
       "       'is_bidomatic', 'bids_so_far', 'username', 'prevusers', 'giveup',\n",
       "       'eventual_bids', 'eventual_win_price', 'debut', 'bom_streak',\n",
       "       'bom_bids_so_far', 'perc_to_bin', 'username0', 'distance0',\n",
       "       'is_bidomatic0', 'bids_so_far0', 'bom_bids_so_far0', 'bom_streak0',\n",
       "       'perc_to_bin0', 'prev_is_new_user0', 'prev_auction_count0',\n",
       "       'prev_overbid0', 'prev_giveup_one0', 'prev_give_before_six0',\n",
       "       'prev_wins0', 'prev_bids0', 'prev_bom_bids0', 'username1', 'distance1',\n",
       "       'is_bidomatic1', 'bids_so_far1', 'bom_bids_so_far1', 'bom_streak1',\n",
       "       'perc_to_bin1', 'prev_is_new_user1', 'prev_auction_count1',\n",
       "       'prev_overbid1', 'prev_giveup_one1', 'prev_give_before_six1',\n",
       "       'prev_wins1', 'prev_bids1', 'prev_bom_bids1', 'username2', 'distance2',\n",
       "       'is_bidomatic2', 'bids_so_far2', 'bom_bids_so_far2', 'bom_streak2',\n",
       "       'perc_to_bin2', 'prev_is_new_user2', 'prev_auction_count2',\n",
       "       'prev_overbid2', 'prev_giveup_one2', 'prev_give_before_six2',\n",
       "       'prev_wins2', 'prev_bids2', 'prev_bom_bids2', 'username3', 'distance3',\n",
       "       'is_bidomatic3', 'bids_so_far3', 'bom_bids_so_far3', 'bom_streak3',\n",
       "       'perc_to_bin3', 'prev_is_new_user3', 'prev_auction_count3',\n",
       "       'prev_overbid3', 'prev_giveup_one3', 'prev_give_before_six3',\n",
       "       'prev_wins3', 'prev_bids3', 'prev_bom_bids3'],\n",
       "      dtype='object')"
      ]
     },
     "execution_count": 96,
     "metadata": {},
     "output_type": "execute_result"
    }
   ],
   "source": [
    "full_df.columns"
   ]
  },
  {
   "cell_type": "code",
   "execution_count": 97,
   "metadata": {},
   "outputs": [],
   "source": [
    "df_out = df_out[full_df.columns]"
   ]
  },
  {
   "cell_type": "code",
   "execution_count": 25,
   "metadata": {},
   "outputs": [
    {
     "data": {
      "text/html": [
       "<div>\n",
       "<style scoped>\n",
       "    .dataframe tbody tr th:only-of-type {\n",
       "        vertical-align: middle;\n",
       "    }\n",
       "\n",
       "    .dataframe tbody tr th {\n",
       "        vertical-align: top;\n",
       "    }\n",
       "\n",
       "    .dataframe thead th {\n",
       "        text-align: right;\n",
       "    }\n",
       "</style>\n",
       "<table border=\"1\" class=\"dataframe\">\n",
       "  <thead>\n",
       "    <tr style=\"text-align: right;\">\n",
       "      <th></th>\n",
       "      <th>auctionid</th>\n",
       "      <th>cashvalue</th>\n",
       "      <th>cardvalue</th>\n",
       "      <th>cardtype</th>\n",
       "      <th>bidvalue</th>\n",
       "      <th>limited_allowed</th>\n",
       "      <th>is_locked</th>\n",
       "      <th>seconds_left</th>\n",
       "      <th>idx</th>\n",
       "      <th>is_winner</th>\n",
       "      <th>...</th>\n",
       "      <th>prev_bom_bids1</th>\n",
       "      <th>perc_to_bin1</th>\n",
       "      <th>prevusers</th>\n",
       "      <th>giveup</th>\n",
       "      <th>eventual_bids</th>\n",
       "      <th>eventual_win_price</th>\n",
       "      <th>debut</th>\n",
       "      <th>bom_streak</th>\n",
       "      <th>bom_bids_so_far</th>\n",
       "      <th>perc_to_bin</th>\n",
       "    </tr>\n",
       "  </thead>\n",
       "  <tbody>\n",
       "    <tr>\n",
       "      <th>0</th>\n",
       "      <td>100022191</td>\n",
       "      <td>10</td>\n",
       "      <td>0</td>\n",
       "      <td>None</td>\n",
       "      <td>25</td>\n",
       "      <td>False</td>\n",
       "      <td>False</td>\n",
       "      <td>531</td>\n",
       "      <td>0</td>\n",
       "      <td>None</td>\n",
       "      <td>...</td>\n",
       "      <td>15.621622</td>\n",
       "      <td>0.04</td>\n",
       "      <td>2</td>\n",
       "      <td>None</td>\n",
       "      <td>None</td>\n",
       "      <td>None</td>\n",
       "      <td>None</td>\n",
       "      <td>None</td>\n",
       "      <td>None</td>\n",
       "      <td>None</td>\n",
       "    </tr>\n",
       "  </tbody>\n",
       "</table>\n",
       "<p>1 rows × 56 columns</p>\n",
       "</div>"
      ],
      "text/plain": [
       "   auctionid  cashvalue  cardvalue cardtype  bidvalue  limited_allowed  \\\n",
       "0  100022191         10          0     None        25            False   \n",
       "\n",
       "   is_locked  seconds_left  idx is_winner  ... prev_bom_bids1  perc_to_bin1  \\\n",
       "0      False           531    0      None  ...      15.621622          0.04   \n",
       "\n",
       "   prevusers giveup eventual_bids eventual_win_price debut  bom_streak  \\\n",
       "0          2   None          None               None  None        None   \n",
       "\n",
       "   bom_bids_so_far  perc_to_bin  \n",
       "0             None         None  \n",
       "\n",
       "[1 rows x 56 columns]"
      ]
     },
     "execution_count": 25,
     "metadata": {},
     "output_type": "execute_result"
    }
   ],
   "source": [
    "df_out"
   ]
  },
  {
   "cell_type": "code",
   "execution_count": 170,
   "metadata": {},
   "outputs": [
    {
     "data": {
      "text/plain": [
       "[{'bid': 1, 'username': 'mmmwww', 'is_bidomatic': False},\n",
       " {'bid': 2, 'username': 'Wiz1910', 'is_bidomatic': False},\n",
       " {'bid': 3, 'username': 'mmmwww', 'is_bidomatic': False},\n",
       " {'bid': 4, 'username': 'inmypocket', 'is_bidomatic': False},\n",
       " {'bid': 5, 'username': 'jhelmuth', 'is_bidomatic': False},\n",
       " {'bid': 6, 'username': 'inmypocket', 'is_bidomatic': False},\n",
       " {'bid': 7, 'username': 'mmmwww', 'is_bidomatic': False},\n",
       " {'bid': 8, 'username': 'moon0218', 'is_bidomatic': False},\n",
       " {'bid': 9, 'username': 'jhelmuth', 'is_bidomatic': False},\n",
       " {'bid': 10, 'username': 'BuyItAnyway', 'is_bidomatic': False},\n",
       " {'bid': 11, 'username': 'XMAS19722014', 'is_bidomatic': False},\n",
       " {'bid': 12, 'username': 'inmypocket', 'is_bidomatic': False},\n",
       " {'bid': 13, 'username': 'BuyItAnyway', 'is_bidomatic': False},\n",
       " {'bid': 14, 'username': 'inmypocket', 'is_bidomatic': False},\n",
       " {'bid': 15, 'username': 'BuyItAnyway', 'is_bidomatic': False},\n",
       " {'bid': 16, 'username': 'jhelmuth', 'is_bidomatic': False},\n",
       " {'bid': 17, 'username': 'moon0218', 'is_bidomatic': False},\n",
       " {'bid': 18, 'username': 'BuyItAnyway', 'is_bidomatic': False},\n",
       " {'bid': 19, 'username': 'jhelmuth', 'is_bidomatic': False},\n",
       " {'bid': 20, 'username': 'XMAS19722014', 'is_bidomatic': False},\n",
       " {'bid': 21, 'username': 'moon0218', 'is_bidomatic': False},\n",
       " {'bid': 22, 'username': 'BuyItAnyway', 'is_bidomatic': False},\n",
       " {'bid': 23, 'username': 'jhelmuth', 'is_bidomatic': False},\n",
       " {'bid': 24, 'username': 'XMAS19722014', 'is_bidomatic': False},\n",
       " {'bid': 25, 'username': 'BuyItAnyway', 'is_bidomatic': False},\n",
       " {'bid': 26, 'username': 'XMAS19722014', 'is_bidomatic': False},\n",
       " {'bid': 27, 'username': 'BuyItAnyway', 'is_bidomatic': False},\n",
       " {'bid': 28, 'username': 'DesertVet5702', 'is_bidomatic': False},\n",
       " {'bid': 29, 'username': 'BuyItAnyway', 'is_bidomatic': False},\n",
       " {'bid': 30, 'username': 'DesertVet5702', 'is_bidomatic': False},\n",
       " {'bid': 31, 'username': 'BuyItAnyway', 'is_bidomatic': False},\n",
       " {'bid': 32, 'username': 'DesertVet5702', 'is_bidomatic': False},\n",
       " {'bid': 33, 'username': 'BuyItAnyway', 'is_bidomatic': False},\n",
       " {'bid': 34, 'username': 'DesertVet5702', 'is_bidomatic': False},\n",
       " {'bid': 35, 'username': 'inmypocket', 'is_bidomatic': False},\n",
       " {'bid': 36, 'username': 'BuyItAnyway', 'is_bidomatic': False},\n",
       " {'bid': 37, 'username': 'DesertVet5702', 'is_bidomatic': False},\n",
       " {'bid': 38, 'username': 'BuyItAnyway', 'is_bidomatic': False},\n",
       " {'bid': 39, 'username': 'inmypocket', 'is_bidomatic': False},\n",
       " {'bid': 40, 'username': 'BuyItAnyway', 'is_bidomatic': False}]"
      ]
     },
     "execution_count": 170,
     "metadata": {},
     "output_type": "execute_result"
    }
   ],
   "source": [
    "bh"
   ]
  },
  {
   "cell_type": "code",
   "execution_count": 278,
   "metadata": {},
   "outputs": [
    {
     "name": "stderr",
     "output_type": "stream",
     "text": [
      "Using TensorFlow backend.\n"
     ]
    }
   ],
   "source": [
    " pm = pickle.load( open( \"rf.pkl\", \"rb\" ) )"
   ]
  },
  {
   "cell_type": "code",
   "execution_count": 285,
   "metadata": {},
   "outputs": [
    {
     "name": "stdout",
     "output_type": "stream",
     "text": [
      "2. Transforming data\n"
     ]
    },
    {
     "data": {
      "text/plain": [
       "array([[0.345, 0.655]])"
      ]
     },
     "execution_count": 285,
     "metadata": {},
     "output_type": "execute_result"
    }
   ],
   "source": [
    "pm.predict_proba(df_out)"
   ]
  },
  {
   "cell_type": "code",
   "execution_count": null,
   "metadata": {},
   "outputs": [],
   "source": []
  }
 ],
 "metadata": {
  "kernelspec": {
   "display_name": "Python 3",
   "language": "python",
   "name": "python3"
  },
  "language_info": {
   "codemirror_mode": {
    "name": "ipython",
    "version": 3
   },
   "file_extension": ".py",
   "mimetype": "text/x-python",
   "name": "python",
   "nbconvert_exporter": "python",
   "pygments_lexer": "ipython3",
   "version": "3.6.10"
  }
 },
 "nbformat": 4,
 "nbformat_minor": 2
}
