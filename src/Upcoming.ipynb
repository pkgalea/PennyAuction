{
 "cells": [
  {
   "cell_type": "code",
   "execution_count": 35,
   "metadata": {},
   "outputs": [],
   "source": [
    "import requests\n",
    "import time\n",
    "from bs4 import BeautifulSoup\n",
    "import pymongo\n",
    "from backports import configparser\n",
    "import sys\n",
    "from ParseMongo import MongoParser\n",
    "from datetime import timedelta\n",
    "from  BidTrackerScraper import BidTrackerScraper\n",
    "from selenium import webdriver"
   ]
  },
  {
   "cell_type": "code",
   "execution_count": 36,
   "metadata": {},
   "outputs": [
    {
     "name": "stdout",
     "output_type": "stream",
     "text": [
      "200\n",
      "200\n"
     ]
    }
   ],
   "source": [
    "bts = BidTrackerScraper() \n",
    "bts.login(2)"
   ]
  },
  {
   "cell_type": "code",
   "execution_count": 37,
   "metadata": {
    "scrolled": false
   },
   "outputs": [
    {
     "name": "stdout",
     "output_type": "stream",
     "text": [
      "357\n",
      "508\n",
      "663\n",
      "807\n",
      "952\n",
      "what is this?\n",
      "1095\n",
      "1240\n",
      "1383\n",
      "1528\n",
      "1671\n",
      "1816\n",
      "1959\n",
      "2104\n",
      "2247\n",
      "2392\n",
      "2535\n",
      "2680\n",
      "2823\n",
      "2968\n",
      "3111\n",
      "3256\n",
      "3399\n"
     ]
    }
   ],
   "source": [
    "mp = MongoParser()\n",
    "upcoming_auctions = mp.parse_upcoming_auction_page(bts.scrape_upcoming_auctions())"
   ]
  },
  {
   "cell_type": "code",
   "execution_count": null,
   "metadata": {},
   "outputs": [],
   "source": [
    "upcoming_auctions"
   ]
  },
  {
   "cell_type": "code",
   "execution_count": 49,
   "metadata": {},
   "outputs": [
    {
     "data": {
      "text/plain": [
       "[1, 1, 1, 1, 0, 1.99, 0, 1, 1, 0, 1.99, 0, 1, 0, 1, 1.99, 1.99, 0, 0, 1, 1, 0]"
      ]
     },
     "execution_count": 49,
     "metadata": {},
     "output_type": "execute_result"
    }
   ],
   "source": [
    "for \n",
    "fees = [0 if x[\"cardvalue\"] == 0 else (1 if x[\"cardvalue\"] < 50 else 1.99) for x in upcoming_auctions]\n",
    "fees"
   ]
  },
  {
   "cell_type": "code",
   "execution_count": 40,
   "metadata": {},
   "outputs": [],
   "source": [
    "driver = webdriver.Chrome()\n",
    "driver.get (\"http://quibids.com/en/\")"
   ]
  },
  {
   "cell_type": "code",
   "execution_count": 41,
   "metadata": {},
   "outputs": [
    {
     "name": "stdout",
     "output_type": "stream",
     "text": [
      "480184718\n"
     ]
    }
   ],
   "source": [
    "for auction in upcoming_auctions:\n",
    "    if (auction[\"seconds_left\"] < 3400):\n",
    "        print(auction[\"auctionid\"])\n",
    "        elems = driver.find_elements_by_id(auction[\"auctionid\"])\n",
    "        for element in elems:\n",
    "            element.find_elements_by_tag_name('a')[0].click()\n",
    "        break   \n",
    "    \n",
    "    "
   ]
  },
  {
   "cell_type": "code",
   "execution_count": 10,
   "metadata": {},
   "outputs": [
    {
     "ename": "NameError",
     "evalue": "name 'elem' is not defined",
     "output_type": "error",
     "traceback": [
      "\u001b[0;31m---------------------------------------------------------------------------\u001b[0m",
      "\u001b[0;31mNameError\u001b[0m                                 Traceback (most recent call last)",
      "\u001b[0;32m<ipython-input-10-744e15b27f05>\u001b[0m in \u001b[0;36m<module>\u001b[0;34m\u001b[0m\n\u001b[0;32m----> 1\u001b[0;31m \u001b[0melem\u001b[0m\u001b[0;34m.\u001b[0m\u001b[0mtext\u001b[0m\u001b[0;34m\u001b[0m\u001b[0;34m\u001b[0m\u001b[0m\n\u001b[0m\u001b[1;32m      2\u001b[0m \u001b[0;34m\u001b[0m\u001b[0m\n",
      "\u001b[0;31mNameError\u001b[0m: name 'elem' is not defined"
     ]
    }
   ],
   "source": [
    "\n",
    "elem.text\n",
    "    "
   ]
  },
  {
   "cell_type": "code",
   "execution_count": null,
   "metadata": {},
   "outputs": [],
   "source": []
  },
  {
   "cell_type": "code",
   "execution_count": null,
   "metadata": {},
   "outputs": [],
   "source": []
  }
 ],
 "metadata": {
  "kernelspec": {
   "display_name": "Python 3",
   "language": "python",
   "name": "python3"
  },
  "language_info": {
   "codemirror_mode": {
    "name": "ipython",
    "version": 3
   },
   "file_extension": ".py",
   "mimetype": "text/x-python",
   "name": "python",
   "nbconvert_exporter": "python",
   "pygments_lexer": "ipython3",
   "version": "3.7.4"
  }
 },
 "nbformat": 4,
 "nbformat_minor": 2
}
