{
 "cells": [
  {
   "cell_type": "code",
   "execution_count": 90,
   "metadata": {},
   "outputs": [],
   "source": [
    "import psycopg2 as pg2\n",
    "import pandas as pd\n",
    "from datetime import datetime\n",
    "import BuildModel\n",
    "from sklearn.ensemble import RandomForestClassifier\n",
    "import numpy as np\n",
    "from keras.models import Sequential\n",
    "from keras.layers import Dense\n",
    "from keras.wrappers.scikit_learn import KerasClassifier\n",
    "import BuildModel\n",
    "import importlib\n",
    "from matplotlib import pyplot as plt"
   ]
  },
  {
   "cell_type": "code",
   "execution_count": 91,
   "metadata": {},
   "outputs": [
    {
     "name": "stdout",
     "output_type": "stream",
     "text": [
      "Connecting to SQL\n",
      "Reading Dataset\n",
      "Splitting into Train/Test Sets\n"
     ]
    }
   ],
   "source": [
    "print (\"Connecting to SQL\")\n",
    "conn = pg2.connect(user='postgres',  dbname='penny', host='localhost', port='5432', password='password')\n",
    "\n",
    "print (\"Reading Dataset\")\n",
    "df = pd.read_sql (\"\"\"Select *  from auction_full where auctiontime >= '2020-01-01'\"\"\", conn)\n",
    "\n",
    "print (\"Splitting into Train/Test Sets\")\n",
    "df = df.sort_values(\"auctiontime\")"
   ]
  },
  {
   "cell_type": "code",
   "execution_count": 92,
   "metadata": {},
   "outputs": [],
   "source": [
    "X = df\n",
    "y = df['is_winner']"
   ]
  },
  {
   "cell_type": "code",
   "execution_count": 93,
   "metadata": {},
   "outputs": [
    {
     "data": {
      "text/html": [
       "<div>\n",
       "<style scoped>\n",
       "    .dataframe tbody tr th:only-of-type {\n",
       "        vertical-align: middle;\n",
       "    }\n",
       "\n",
       "    .dataframe tbody tr th {\n",
       "        vertical-align: top;\n",
       "    }\n",
       "\n",
       "    .dataframe thead th {\n",
       "        text-align: right;\n",
       "    }\n",
       "</style>\n",
       "<table border=\"1\" class=\"dataframe\">\n",
       "  <thead>\n",
       "    <tr style=\"text-align: right;\">\n",
       "      <th></th>\n",
       "      <th>auctionid</th>\n",
       "      <th>is_winner</th>\n",
       "      <th>cardtype</th>\n",
       "      <th>cashvalue</th>\n",
       "      <th>cardvalue</th>\n",
       "      <th>fee</th>\n",
       "      <th>bidvalue</th>\n",
       "      <th>limited_allowed</th>\n",
       "      <th>is_locked</th>\n",
       "      <th>auctiontime</th>\n",
       "      <th>...</th>\n",
       "      <th>bom_streak3</th>\n",
       "      <th>perc_to_bin3</th>\n",
       "      <th>prev_is_new_user3</th>\n",
       "      <th>prev_auction_count3</th>\n",
       "      <th>prev_overbid3</th>\n",
       "      <th>prev_giveup_one3</th>\n",
       "      <th>prev_give_before_six3</th>\n",
       "      <th>prev_wins3</th>\n",
       "      <th>prev_bids3</th>\n",
       "      <th>prev_bom_bids3</th>\n",
       "    </tr>\n",
       "  </thead>\n",
       "  <tbody>\n",
       "    <tr>\n",
       "      <th>30824</th>\n",
       "      <td>391464514</td>\n",
       "      <td>False</td>\n",
       "      <td>Shell</td>\n",
       "      <td>58</td>\n",
       "      <td>50</td>\n",
       "      <td>1.99</td>\n",
       "      <td>20</td>\n",
       "      <td>False</td>\n",
       "      <td>False</td>\n",
       "      <td>2020-01-01 00:00:05</td>\n",
       "      <td>...</td>\n",
       "      <td>0.0</td>\n",
       "      <td>0.013793</td>\n",
       "      <td>0.0</td>\n",
       "      <td>78.0</td>\n",
       "      <td>0.000000</td>\n",
       "      <td>0.346154</td>\n",
       "      <td>0.756410</td>\n",
       "      <td>0.000000</td>\n",
       "      <td>4.179487</td>\n",
       "      <td>0.333333</td>\n",
       "    </tr>\n",
       "    <tr>\n",
       "      <th>30747</th>\n",
       "      <td>391464514</td>\n",
       "      <td>False</td>\n",
       "      <td>Shell</td>\n",
       "      <td>58</td>\n",
       "      <td>50</td>\n",
       "      <td>1.99</td>\n",
       "      <td>20</td>\n",
       "      <td>False</td>\n",
       "      <td>False</td>\n",
       "      <td>2020-01-01 00:00:05</td>\n",
       "      <td>...</td>\n",
       "      <td>0.0</td>\n",
       "      <td>0.006897</td>\n",
       "      <td>0.0</td>\n",
       "      <td>647.0</td>\n",
       "      <td>0.006182</td>\n",
       "      <td>0.375580</td>\n",
       "      <td>0.646059</td>\n",
       "      <td>0.041731</td>\n",
       "      <td>12.040185</td>\n",
       "      <td>7.302937</td>\n",
       "    </tr>\n",
       "    <tr>\n",
       "      <th>30746</th>\n",
       "      <td>391464514</td>\n",
       "      <td>False</td>\n",
       "      <td>Shell</td>\n",
       "      <td>58</td>\n",
       "      <td>50</td>\n",
       "      <td>1.99</td>\n",
       "      <td>20</td>\n",
       "      <td>False</td>\n",
       "      <td>False</td>\n",
       "      <td>2020-01-01 00:00:05</td>\n",
       "      <td>...</td>\n",
       "      <td>0.0</td>\n",
       "      <td>0.006897</td>\n",
       "      <td>0.0</td>\n",
       "      <td>647.0</td>\n",
       "      <td>0.006182</td>\n",
       "      <td>0.375580</td>\n",
       "      <td>0.646059</td>\n",
       "      <td>0.041731</td>\n",
       "      <td>12.040185</td>\n",
       "      <td>7.302937</td>\n",
       "    </tr>\n",
       "    <tr>\n",
       "      <th>30745</th>\n",
       "      <td>391464514</td>\n",
       "      <td>False</td>\n",
       "      <td>Shell</td>\n",
       "      <td>58</td>\n",
       "      <td>50</td>\n",
       "      <td>1.99</td>\n",
       "      <td>20</td>\n",
       "      <td>False</td>\n",
       "      <td>False</td>\n",
       "      <td>2020-01-01 00:00:05</td>\n",
       "      <td>...</td>\n",
       "      <td>0.0</td>\n",
       "      <td>0.006897</td>\n",
       "      <td>0.0</td>\n",
       "      <td>647.0</td>\n",
       "      <td>0.006182</td>\n",
       "      <td>0.375580</td>\n",
       "      <td>0.646059</td>\n",
       "      <td>0.041731</td>\n",
       "      <td>12.040185</td>\n",
       "      <td>7.302937</td>\n",
       "    </tr>\n",
       "    <tr>\n",
       "      <th>30744</th>\n",
       "      <td>391464514</td>\n",
       "      <td>False</td>\n",
       "      <td>Shell</td>\n",
       "      <td>58</td>\n",
       "      <td>50</td>\n",
       "      <td>1.99</td>\n",
       "      <td>20</td>\n",
       "      <td>False</td>\n",
       "      <td>False</td>\n",
       "      <td>2020-01-01 00:00:05</td>\n",
       "      <td>...</td>\n",
       "      <td>0.0</td>\n",
       "      <td>0.006897</td>\n",
       "      <td>0.0</td>\n",
       "      <td>647.0</td>\n",
       "      <td>0.006182</td>\n",
       "      <td>0.375580</td>\n",
       "      <td>0.646059</td>\n",
       "      <td>0.041731</td>\n",
       "      <td>12.040185</td>\n",
       "      <td>7.302937</td>\n",
       "    </tr>\n",
       "    <tr>\n",
       "      <th>...</th>\n",
       "      <td>...</td>\n",
       "      <td>...</td>\n",
       "      <td>...</td>\n",
       "      <td>...</td>\n",
       "      <td>...</td>\n",
       "      <td>...</td>\n",
       "      <td>...</td>\n",
       "      <td>...</td>\n",
       "      <td>...</td>\n",
       "      <td>...</td>\n",
       "      <td>...</td>\n",
       "      <td>...</td>\n",
       "      <td>...</td>\n",
       "      <td>...</td>\n",
       "      <td>...</td>\n",
       "      <td>...</td>\n",
       "      <td>...</td>\n",
       "      <td>...</td>\n",
       "      <td>...</td>\n",
       "      <td>...</td>\n",
       "      <td>...</td>\n",
       "    </tr>\n",
       "    <tr>\n",
       "      <th>4244981</th>\n",
       "      <td>466450592</td>\n",
       "      <td>False</td>\n",
       "      <td>None</td>\n",
       "      <td>6</td>\n",
       "      <td>0</td>\n",
       "      <td>0.00</td>\n",
       "      <td>15</td>\n",
       "      <td>False</td>\n",
       "      <td>True</td>\n",
       "      <td>2020-02-29 15:14:24</td>\n",
       "      <td>...</td>\n",
       "      <td>8.0</td>\n",
       "      <td>0.533333</td>\n",
       "      <td>0.0</td>\n",
       "      <td>207.0</td>\n",
       "      <td>0.169082</td>\n",
       "      <td>0.115942</td>\n",
       "      <td>0.236715</td>\n",
       "      <td>0.275362</td>\n",
       "      <td>50.144928</td>\n",
       "      <td>41.473430</td>\n",
       "    </tr>\n",
       "    <tr>\n",
       "      <th>4244982</th>\n",
       "      <td>466450592</td>\n",
       "      <td>False</td>\n",
       "      <td>None</td>\n",
       "      <td>6</td>\n",
       "      <td>0</td>\n",
       "      <td>0.00</td>\n",
       "      <td>15</td>\n",
       "      <td>False</td>\n",
       "      <td>True</td>\n",
       "      <td>2020-02-29 15:14:24</td>\n",
       "      <td>...</td>\n",
       "      <td>8.0</td>\n",
       "      <td>0.533333</td>\n",
       "      <td>0.0</td>\n",
       "      <td>207.0</td>\n",
       "      <td>0.169082</td>\n",
       "      <td>0.115942</td>\n",
       "      <td>0.236715</td>\n",
       "      <td>0.275362</td>\n",
       "      <td>50.144928</td>\n",
       "      <td>41.473430</td>\n",
       "    </tr>\n",
       "    <tr>\n",
       "      <th>4244983</th>\n",
       "      <td>466450592</td>\n",
       "      <td>False</td>\n",
       "      <td>None</td>\n",
       "      <td>6</td>\n",
       "      <td>0</td>\n",
       "      <td>0.00</td>\n",
       "      <td>15</td>\n",
       "      <td>False</td>\n",
       "      <td>True</td>\n",
       "      <td>2020-02-29 15:14:24</td>\n",
       "      <td>...</td>\n",
       "      <td>8.0</td>\n",
       "      <td>0.533333</td>\n",
       "      <td>0.0</td>\n",
       "      <td>207.0</td>\n",
       "      <td>0.169082</td>\n",
       "      <td>0.115942</td>\n",
       "      <td>0.236715</td>\n",
       "      <td>0.275362</td>\n",
       "      <td>50.144928</td>\n",
       "      <td>41.473430</td>\n",
       "    </tr>\n",
       "    <tr>\n",
       "      <th>4244974</th>\n",
       "      <td>466450592</td>\n",
       "      <td>False</td>\n",
       "      <td>None</td>\n",
       "      <td>6</td>\n",
       "      <td>0</td>\n",
       "      <td>0.00</td>\n",
       "      <td>15</td>\n",
       "      <td>False</td>\n",
       "      <td>True</td>\n",
       "      <td>2020-02-29 15:14:24</td>\n",
       "      <td>...</td>\n",
       "      <td>0.0</td>\n",
       "      <td>0.066667</td>\n",
       "      <td>0.0</td>\n",
       "      <td>15.0</td>\n",
       "      <td>0.066667</td>\n",
       "      <td>0.266667</td>\n",
       "      <td>0.800000</td>\n",
       "      <td>0.000000</td>\n",
       "      <td>22.000000</td>\n",
       "      <td>12.400000</td>\n",
       "    </tr>\n",
       "    <tr>\n",
       "      <th>4244936</th>\n",
       "      <td>466450592</td>\n",
       "      <td>False</td>\n",
       "      <td>None</td>\n",
       "      <td>6</td>\n",
       "      <td>0</td>\n",
       "      <td>0.00</td>\n",
       "      <td>15</td>\n",
       "      <td>False</td>\n",
       "      <td>False</td>\n",
       "      <td>2020-02-29 15:14:24</td>\n",
       "      <td>...</td>\n",
       "      <td>NaN</td>\n",
       "      <td>NaN</td>\n",
       "      <td>NaN</td>\n",
       "      <td>NaN</td>\n",
       "      <td>NaN</td>\n",
       "      <td>NaN</td>\n",
       "      <td>NaN</td>\n",
       "      <td>NaN</td>\n",
       "      <td>NaN</td>\n",
       "      <td>NaN</td>\n",
       "    </tr>\n",
       "  </tbody>\n",
       "</table>\n",
       "<p>4268301 rows × 82 columns</p>\n",
       "</div>"
      ],
      "text/plain": [
       "         auctionid  is_winner cardtype  cashvalue  cardvalue   fee  bidvalue  \\\n",
       "30824    391464514      False    Shell         58         50  1.99        20   \n",
       "30747    391464514      False    Shell         58         50  1.99        20   \n",
       "30746    391464514      False    Shell         58         50  1.99        20   \n",
       "30745    391464514      False    Shell         58         50  1.99        20   \n",
       "30744    391464514      False    Shell         58         50  1.99        20   \n",
       "...            ...        ...      ...        ...        ...   ...       ...   \n",
       "4244981  466450592      False     None          6          0  0.00        15   \n",
       "4244982  466450592      False     None          6          0  0.00        15   \n",
       "4244983  466450592      False     None          6          0  0.00        15   \n",
       "4244974  466450592      False     None          6          0  0.00        15   \n",
       "4244936  466450592      False     None          6          0  0.00        15   \n",
       "\n",
       "         limited_allowed  is_locked         auctiontime  ...  bom_streak3  \\\n",
       "30824              False      False 2020-01-01 00:00:05  ...          0.0   \n",
       "30747              False      False 2020-01-01 00:00:05  ...          0.0   \n",
       "30746              False      False 2020-01-01 00:00:05  ...          0.0   \n",
       "30745              False      False 2020-01-01 00:00:05  ...          0.0   \n",
       "30744              False      False 2020-01-01 00:00:05  ...          0.0   \n",
       "...                  ...        ...                 ...  ...          ...   \n",
       "4244981            False       True 2020-02-29 15:14:24  ...          8.0   \n",
       "4244982            False       True 2020-02-29 15:14:24  ...          8.0   \n",
       "4244983            False       True 2020-02-29 15:14:24  ...          8.0   \n",
       "4244974            False       True 2020-02-29 15:14:24  ...          0.0   \n",
       "4244936            False      False 2020-02-29 15:14:24  ...          NaN   \n",
       "\n",
       "         perc_to_bin3  prev_is_new_user3 prev_auction_count3  prev_overbid3  \\\n",
       "30824        0.013793                0.0                78.0       0.000000   \n",
       "30747        0.006897                0.0               647.0       0.006182   \n",
       "30746        0.006897                0.0               647.0       0.006182   \n",
       "30745        0.006897                0.0               647.0       0.006182   \n",
       "30744        0.006897                0.0               647.0       0.006182   \n",
       "...               ...                ...                 ...            ...   \n",
       "4244981      0.533333                0.0               207.0       0.169082   \n",
       "4244982      0.533333                0.0               207.0       0.169082   \n",
       "4244983      0.533333                0.0               207.0       0.169082   \n",
       "4244974      0.066667                0.0                15.0       0.066667   \n",
       "4244936           NaN                NaN                 NaN            NaN   \n",
       "\n",
       "         prev_giveup_one3  prev_give_before_six3  prev_wins3  prev_bids3  \\\n",
       "30824            0.346154               0.756410    0.000000    4.179487   \n",
       "30747            0.375580               0.646059    0.041731   12.040185   \n",
       "30746            0.375580               0.646059    0.041731   12.040185   \n",
       "30745            0.375580               0.646059    0.041731   12.040185   \n",
       "30744            0.375580               0.646059    0.041731   12.040185   \n",
       "...                   ...                    ...         ...         ...   \n",
       "4244981          0.115942               0.236715    0.275362   50.144928   \n",
       "4244982          0.115942               0.236715    0.275362   50.144928   \n",
       "4244983          0.115942               0.236715    0.275362   50.144928   \n",
       "4244974          0.266667               0.800000    0.000000   22.000000   \n",
       "4244936               NaN                    NaN         NaN         NaN   \n",
       "\n",
       "         prev_bom_bids3  \n",
       "30824          0.333333  \n",
       "30747          7.302937  \n",
       "30746          7.302937  \n",
       "30745          7.302937  \n",
       "30744          7.302937  \n",
       "...                 ...  \n",
       "4244981       41.473430  \n",
       "4244982       41.473430  \n",
       "4244983       41.473430  \n",
       "4244974       12.400000  \n",
       "4244936             NaN  \n",
       "\n",
       "[4268301 rows x 82 columns]"
      ]
     },
     "execution_count": 93,
     "metadata": {},
     "output_type": "execute_result"
    }
   ],
   "source": [
    "df"
   ]
  },
  {
   "cell_type": "code",
   "execution_count": 94,
   "metadata": {},
   "outputs": [],
   "source": [
    "train_cut_off  = datetime(2020, 2, 15) \n",
    "test_cut_off = datetime(2020, 3, 1)\n",
    "\n",
    "\n",
    "X_train = X[X.auctiontime <= train_cut_off]\n",
    "y_train = y[X.auctiontime <= train_cut_off]\n",
    "\n",
    "X_test = X[(X.auctiontime > train_cut_off)&(X.auctiontime <= test_cut_off)]\n",
    "y_test = y[(X.auctiontime > train_cut_off)&(X.auctiontime <= test_cut_off)]\n",
    "\n",
    "X_holdout = X[X.auctiontime > test_cut_off]\n",
    "y_holdout = y[X.auctiontime > test_cut_off]\n",
    "\n"
   ]
  },
  {
   "cell_type": "code",
   "execution_count": 226,
   "metadata": {
    "scrolled": true
   },
   "outputs": [
    {
     "name": "stdout",
     "output_type": "stream",
     "text": [
      "Fitting Model\n",
      "4. Fitting model\n",
      "Train on 93403 samples, validate on 10379 samples\n",
      "Epoch 1/17\n",
      "93403/93403 [==============================] - 2s 25us/step - loss: 0.2448 - accuracy: 0.9245 - val_loss: 2.7306 - val_accuracy: 0.0000e+00\n",
      "Epoch 2/17\n",
      "93403/93403 [==============================] - 2s 23us/step - loss: 0.2316 - accuracy: 0.9257 - val_loss: 2.6568 - val_accuracy: 0.0000e+00\n",
      "Epoch 3/17\n",
      "93403/93403 [==============================] - 2s 23us/step - loss: 0.2291 - accuracy: 0.9259 - val_loss: 2.7466 - val_accuracy: 0.0000e+00\n",
      "Epoch 4/17\n",
      "93403/93403 [==============================] - 2s 23us/step - loss: 0.2269 - accuracy: 0.9259 - val_loss: 2.5896 - val_accuracy: 0.0000e+00\n",
      "Epoch 5/17\n",
      "93403/93403 [==============================] - 2s 23us/step - loss: 0.2254 - accuracy: 0.9259 - val_loss: 2.6941 - val_accuracy: 0.0000e+00\n",
      "Epoch 6/17\n",
      "93403/93403 [==============================] - 2s 23us/step - loss: 0.2240 - accuracy: 0.9259 - val_loss: 2.1492 - val_accuracy: 0.0053\n",
      "Epoch 7/17\n",
      "93403/93403 [==============================] - 2s 23us/step - loss: 0.2229 - accuracy: 0.9260 - val_loss: 2.2928 - val_accuracy: 6.7444e-04\n",
      "Epoch 8/17\n",
      "93403/93403 [==============================] - 2s 23us/step - loss: 0.2217 - accuracy: 0.9260 - val_loss: 2.4964 - val_accuracy: 5.7809e-04\n",
      "Epoch 9/17\n",
      "93403/93403 [==============================] - 2s 23us/step - loss: 0.2204 - accuracy: 0.9261 - val_loss: 2.4340 - val_accuracy: 0.0257\n",
      "Epoch 10/17\n",
      "93403/93403 [==============================] - 2s 23us/step - loss: 0.2199 - accuracy: 0.9260 - val_loss: 2.3126 - val_accuracy: 0.0056\n",
      "Epoch 11/17\n",
      "93403/93403 [==============================] - 2s 23us/step - loss: 0.2189 - accuracy: 0.9261 - val_loss: 2.6571 - val_accuracy: 4.8174e-04\n",
      "Epoch 12/17\n",
      "93403/93403 [==============================] - 2s 23us/step - loss: 0.2186 - accuracy: 0.9261 - val_loss: 2.5577 - val_accuracy: 0.0031\n",
      "Epoch 13/17\n",
      "93403/93403 [==============================] - 2s 23us/step - loss: 0.2180 - accuracy: 0.9263 - val_loss: 2.2351 - val_accuracy: 0.0079\n",
      "Epoch 14/17\n",
      "93403/93403 [==============================] - 2s 23us/step - loss: 0.2182 - accuracy: 0.9262 - val_loss: 2.1343 - val_accuracy: 0.0176\n",
      "Epoch 15/17\n",
      "93403/93403 [==============================] - 2s 23us/step - loss: 0.2168 - accuracy: 0.9260 - val_loss: 1.8769 - val_accuracy: 0.0237\n",
      "Epoch 16/17\n",
      "93403/93403 [==============================] - 2s 23us/step - loss: 0.2172 - accuracy: 0.9263 - val_loss: 2.6717 - val_accuracy: 0.0081\n",
      "Epoch 17/17\n",
      "93403/93403 [==============================] - 2s 23us/step - loss: 0.2161 - accuracy: 0.9263 - val_loss: 2.6438 - val_accuracy: 0.0026\n"
     ]
    }
   ],
   "source": [
    "importlib.reload(BuildModel)\n",
    "print (\"Fitting Model\")\n",
    "def create_model():\n",
    "    # Define a Keras model\n",
    "    model = Sequential()\n",
    "\n",
    "    # Add a Dense layer that uses the sigmoid function\n",
    "    model.add(Dense(units=30, kernel_initializer='random_uniform',\n",
    "                bias_initializer='zeros', activation='relu', input_dim=74))\n",
    "    model.add(Dense(units=30, kernel_initializer='random_uniform',\n",
    "                bias_initializer='zeros',  activation='relu'))\n",
    "    model.add(Dense(units=1, activation='sigmoid'))\n",
    "    \n",
    "    model.compile(loss='binary_crossentropy', optimizer='adam', metrics=['accuracy'])\n",
    "    return model\n",
    "\n",
    "clf = KerasClassifier(build_fn=create_model,epochs=17,batch_size=100,validation_split=.1)\n",
    "\n",
    "model = RandomForestClassifier(n_estimators=200, n_jobs=-1)\n",
    "model = clf\n",
    "\n",
    "pm = BuildModel.PennyModel(model, is_regressor=False,sampling_ratio=.2 )\n",
    "\n",
    "pm.fit(X_train, y_train)"
   ]
  },
  {
   "cell_type": "code",
   "execution_count": 219,
   "metadata": {},
   "outputs": [],
   "source": [
    "def get_actual_and_potential_profits(Xin, yin):\n",
    "    potential_profits =  (Xin.cashvalue - Xin.fee - Xin.bid/100) -.4\n",
    "    actual_profits = yin * (Xin.cashvalue - Xin.fee - Xin.bid/100) -.4\n",
    "    return potential_profits, actual_profits"
   ]
  },
  {
   "cell_type": "code",
   "execution_count": 220,
   "metadata": {},
   "outputs": [],
   "source": [
    "cprobs = pm.predict_proba_calibrated(X_test)[:,1]"
   ]
  },
  {
   "cell_type": "code",
   "execution_count": 221,
   "metadata": {},
   "outputs": [],
   "source": [
    "pp, ap = get_actual_and_potential_profits(X_test,y_test)"
   ]
  },
  {
   "cell_type": "code",
   "execution_count": 222,
   "metadata": {},
   "outputs": [
    {
     "data": {
      "text/plain": [
       "array([0.01152416, 0.00140605, 0.01105522, ..., 0.02505695, 0.01125461,\n",
       "       0.04706015], dtype=float32)"
      ]
     },
     "execution_count": 222,
     "metadata": {},
     "output_type": "execute_result"
    }
   ],
   "source": [
    "cprobs"
   ]
  },
  {
   "cell_type": "code",
   "execution_count": 223,
   "metadata": {},
   "outputs": [],
   "source": [
    "expected_value = np.multiply(cprobs, pp) -  (1-cprobs)*.4"
   ]
  },
  {
   "cell_type": "code",
   "execution_count": 224,
   "metadata": {},
   "outputs": [
    {
     "data": {
      "text/plain": [
       "28503.829999962425"
      ]
     },
     "execution_count": 224,
     "metadata": {},
     "output_type": "execute_result"
    }
   ],
   "source": [
    "sum(ap[expected_value>0])"
   ]
  },
  {
   "cell_type": "code",
   "execution_count": 190,
   "metadata": {},
   "outputs": [
    {
     "data": {
      "text/plain": [
       "(3337283, 17297)"
      ]
     },
     "execution_count": 190,
     "metadata": {},
     "output_type": "execute_result"
    }
   ],
   "source": [
    "\n",
    "#self.train_pop/self.sampling_ratio + self.target_pop\n",
    "#        self.sampled_target_pop = self.target_pop\n"
   ]
  },
  {
   "cell_type": "code",
   "execution_count": 97,
   "metadata": {},
   "outputs": [],
   "source": [
    "import math\n",
    "def get_profit(l, u, probs, potential_profits, actual_profits):\n",
    "    print (\"trying\",l,u)\n",
    "    maxprof = -math.inf\n",
    "    maxp = 0\n",
    "    for p in np.arange(0, 1, .01):\n",
    "        profit = sum(actual_profits[(probs > p)&(potential_profits >= l)&(potential_profits < u)])\n",
    " #       print (p, profit)\n",
    "        if (profit > maxprof):\n",
    "          #  total_bets = sum(probs > p)\n",
    "            maxp = p\n",
    "            maxprof = profit\n",
    "    return (l, u, maxp), maxprof, sum(probs > maxp)"
   ]
  },
  {
   "cell_type": "code",
   "execution_count": 98,
   "metadata": {},
   "outputs": [],
   "source": [
    "def get_profit_buckets(Xin, yin):\n",
    "    print (\"getting probabilities\")\n",
    "    probs = pm.predict_proba(Xin)[:,1]\n",
    "    print (\"getting profits\")\n",
    "    potential_profits, actual_profits =  get_actual_and_potential_profits(Xin, yin)\n",
    "\n",
    "    print (\"getting buckets\")\n",
    "    #potential_profits, actual_profits = get_potential_and_acutal_profits(X_test, y_test)\n",
    "    buckets = []\n",
    "    buckets.append(get_profit(0, 5.7, probs, potential_profits, actual_profits))\n",
    "    buckets.append(get_profit(5.7, 9.7, probs, potential_profits, actual_profits))\n",
    "    buckets.append(get_profit(9.7, 19.7, probs, potential_profits, actual_profits))\n",
    "    buckets.append(get_profit(19.7, 40, probs, potential_profits, actual_profits))\n",
    "    buckets.append(get_profit(40, 62,probs, potential_profits, actual_profits))\n",
    "    buckets.append(get_profit(62,100, probs, potential_profits, actual_profits))\n",
    "    buckets.append(get_profit(100,200, probs, potential_profits, actual_profits))\n",
    "    return buckets"
   ]
  },
  {
   "cell_type": "code",
   "execution_count": 99,
   "metadata": {
    "scrolled": true
   },
   "outputs": [
    {
     "name": "stdout",
     "output_type": "stream",
     "text": [
      "getting probabilities\n",
      "2. Transforming data\n",
      "getting profits\n",
      "getting buckets\n",
      "trying 0 5.7\n",
      "trying 5.7 9.7\n",
      "trying 9.7 19.7\n",
      "trying 19.7 40\n",
      "trying 40 62\n",
      "trying 62 100\n",
      "trying 100 200\n"
     ]
    }
   ],
   "source": [
    "buckets = get_profit_buckets(X_test, y_test)"
   ]
  },
  {
   "cell_type": "code",
   "execution_count": 100,
   "metadata": {
    "scrolled": true
   },
   "outputs": [
    {
     "name": "stdout",
     "output_type": "stream",
     "text": [
      "842770 32718.94000001899 0.038823095269194426\n"
     ]
    }
   ],
   "source": [
    "profit_sum = 0\n",
    "bets_sum = 0\n",
    "for b in buckets:\n",
    "    bets_sum += b[2]\n",
    "    profit_sum += b[1]\n",
    "print(bets_sum, profit_sum, profit_sum/bets_sum)"
   ]
  },
  {
   "cell_type": "code",
   "execution_count": 101,
   "metadata": {},
   "outputs": [
    {
     "name": "stdout",
     "output_type": "stream",
     "text": [
      "5. Pickling model as penny_auction.pickle\n"
     ]
    }
   ],
   "source": [
    "pm.pickle(filename=\"rf.pkl\")"
   ]
  },
  {
   "cell_type": "code",
   "execution_count": 104,
   "metadata": {
    "scrolled": true
   },
   "outputs": [
    {
     "name": "stdout",
     "output_type": "stream",
     "text": [
      "2. Transforming data\n"
     ]
    }
   ],
   "source": [
    "probs = pm.predict_proba(X_test)[:,1]"
   ]
  },
  {
   "cell_type": "code",
   "execution_count": 108,
   "metadata": {},
   "outputs": [],
   "source": [
    "calibration = calibration (probs, X_train.shape[0], sum(X_train.is_winner),  sum(X_train.is_winner)*2, sum(X_train.is_winner))"
   ]
  },
  {
   "cell_type": "code",
   "execution_count": 134,
   "metadata": {
    "scrolled": true
   },
   "outputs": [],
   "source": [
    "pp, ap = get_actual_and_potential_profits(X_test, y_test)\n",
    "pp = np.array(pp)"
   ]
  },
  {
   "cell_type": "code",
   "execution_count": 161,
   "metadata": {},
   "outputs": [
    {
     "data": {
      "text/plain": [
       "31476.382150766545"
      ]
     },
     "execution_count": 161,
     "metadata": {},
     "output_type": "execute_result"
    }
   ],
   "source": [
    "sum(expected_value[expected_value > 0])"
   ]
  },
  {
   "cell_type": "code",
   "execution_count": 89,
   "metadata": {},
   "outputs": [
    {
     "name": "stdout",
     "output_type": "stream",
     "text": [
      "2. Transforming data\n"
     ]
    },
    {
     "data": {
      "text/plain": [
       "<matplotlib.collections.PathCollection at 0x7f42a8975668>"
      ]
     },
     "execution_count": 89,
     "metadata": {},
     "output_type": "execute_result"
    },
    {
     "data": {
      "image/png": "[encoded data removed]",
      "text/plain": [
       "<Figure size 2160x720 with 1 Axes>"
      ]
     },
     "metadata": {
      "needs_background": "light"
     },
     "output_type": "display_data"
    }
   ],
   "source": [
    "f = \"perc_to_bin0\"\n",
    "amazon_50_30 = X_test  #[(X_test.cardtype==\"Amazon\")&(X_test.bidvalue==100)&(X_test.cardvalue==0)]\n",
    "test_df = amazon_50_30.sort_values(f)\n",
    "preds = pm.predict_proba(test_df)[:,1]\n",
    "preds\n",
    "fig, ax = plt.subplots(figsize=(30, 10))\n",
    "ax.scatter(test_df[f], preds)"
   ]
  },
  {
   "cell_type": "markdown",
   "metadata": {},
   "source": [
    "# Random Forest:   26,480/25,802"
   ]
  },
  {
   "cell_type": "code",
   "execution_count": 90,
   "metadata": {},
   "outputs": [],
   "source": [
    "def evaluate_holdout(Xin, yin):\n",
    "    holdout_probs = pm.predict_proba(Xin)[:,1]\n",
    "    holdout_potential_profits, holdout_actual_profits = get_actual_and_potential_profits(Xin, yin)\n",
    "    total_profit = 0\n",
    "    for b in buckets:\n",
    "     #   print(b)\n",
    "        l = b[0][0]\n",
    "        u = b[0][1]\n",
    "        thresh =  b[0][2]\n",
    "        mask = (holdout_potential_profits > l)&(holdout_potential_profits < u)&(holdout_probs > thresh)\n",
    "        print (sum(holdout_actual_profits[mask]))\n",
    "     #   print(X_holdout.cardtype[mask&y_holdout].value_counts())\n",
    "        total_profit += sum(holdout_actual_profits[mask])\n",
    "       # total_bets =  sum(b[2])\n",
    "        print(sum((holdout_potential_profits > l)&(holdout_potential_profits < u)), sum(mask))\n",
    "        print(\"****************\")\n",
    "    print (total_profit)   "
   ]
  },
  {
   "cell_type": "code",
   "execution_count": 91,
   "metadata": {},
   "outputs": [
    {
     "name": "stdout",
     "output_type": "stream",
     "text": [
      "2. Transforming data\n",
      "-12.889999999999981\n",
      "12677 167\n",
      "****************\n",
      "116.55000000000005\n",
      "31997 1063\n",
      "****************\n",
      "796.9400000000511\n",
      "64775 2711\n",
      "****************\n",
      "10233.650000004822\n",
      "241665 25121\n",
      "****************\n",
      "8841.890000006097\n",
      "277041 31694\n",
      "****************\n",
      "3729.1299999994367\n",
      "87788 11464\n",
      "****************\n",
      "222.17000000000255\n",
      "25397 360\n",
      "****************\n",
      "23927.44000001041\n"
     ]
    }
   ],
   "source": [
    "evaluate_holdout(X_holdout, y_holdout)"
   ]
  },
  {
   "cell_type": "code",
   "execution_count": null,
   "metadata": {},
   "outputs": [],
   "source": []
  },
  {
   "cell_type": "code",
   "execution_count": 83,
   "metadata": {},
   "outputs": [
    {
     "data": {
      "text/plain": [
       "[((0, 5.7, 0.98),\n",
       "  17.000000000000195,\n",
       "  array([False, False, False, ..., False, False, False])),\n",
       " ((5.7, 9.7, 0.9),\n",
       "  133.39999999999512,\n",
       "  array([False, False, False, ..., False, False, False])),\n",
       " ((9.7, 19.7, 0.78),\n",
       "  1085.3100000000218,\n",
       "  array([False, False, False, ..., False, False, False])),\n",
       " ((19.7, 40, 0.66),\n",
       "  16661.16000000705,\n",
       "  array([ True, False,  True, ..., False,  True, False])),\n",
       " ((40, 62, 0.52),\n",
       "  17653.790000007873,\n",
       "  array([ True, False,  True, ...,  True,  True, False])),\n",
       " ((62, 100, 0.48),\n",
       "  4531.390000000543,\n",
       "  array([ True, False,  True, ...,  True,  True,  True])),\n",
       " ((100, 200, 0.5700000000000001),\n",
       "  577.9500000000024,\n",
       "  array([ True, False,  True, ..., False,  True, False]))]"
      ]
     },
     "execution_count": 83,
     "metadata": {},
     "output_type": "execute_result"
    }
   ],
   "source": [
    "buckets"
   ]
  },
  {
   "cell_type": "code",
   "execution_count": null,
   "metadata": {},
   "outputs": [],
   "source": []
  }
 ],
 "metadata": {
  "kernelspec": {
   "display_name": "Python 3",
   "language": "python",
   "name": "python3"
  },
  "language_info": {
   "codemirror_mode": {
    "name": "ipython",
    "version": 3
   },
   "file_extension": ".py",
   "mimetype": "text/x-python",
   "name": "python",
   "nbconvert_exporter": "python",
   "pygments_lexer": "ipython3",
   "version": "3.6.10"
  }
 },
 "nbformat": 4,
 "nbformat_minor": 4
}
